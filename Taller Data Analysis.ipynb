{
 "cells": [
  {
   "cell_type": "markdown",
   "metadata": {
    "id": "YPzJJGUGlogy"
   },
   "source": [
    "# Taller de Data Analysis - Academia Desafío Latam\n"
   ]
  },
  {
   "cell_type": "markdown",
   "metadata": {
    "id": "ejUOHmghmCs0"
   },
   "source": [
    "## Bienvenid@s"
   ]
  },
  {
   "cell_type": "markdown",
   "metadata": {
    "id": "ts2piyUboWB8"
   },
   "source": [
    "Python es un lenguaje de programación muy flexible y potente. Fue creado por Guido Van Rossum en 1991, con su primera versión 1.0 lanzada en 1994."
   ]
  },
  {
   "cell_type": "markdown",
   "metadata": {
    "id": "ayca7_f7mkmq"
   },
   "source": [
    "Consejos de buenas prácticas:\n",
    "\n",
    "1. Siempre nombrar de qué se trata el notebook. Ejemplo: Taller de Data Analysis\n",
    "2. Identificar autor/a, idealmente con fecha\n",
    "3. Comentar todo, TODO\n",
    "4. Mantener el código ordenado\n",
    "5. Trabajar con copia de los datos"
   ]
  },
  {
   "cell_type": "markdown",
   "metadata": {
    "id": "AQ0REevLocgU"
   },
   "source": [
    "### ¿Para qué sirve Python?\n",
    "\n",
    "Es un lenguaje de programación multipropósito. Por ejemplo se usa para:\n",
    "- Desarrollo Web\n",
    "- Desarrollo de Internet de las Cosas\n",
    "- **Ciencia de Datos y Aprendizaje de Máquinas**"
   ]
  },
  {
   "cell_type": "markdown",
   "metadata": {
    "id": "4qEo8k3Zoz8-"
   },
   "source": [
    "#####**¿Qué es un Jupyter Notebook?**\n",
    "\n",
    "Jupyter Notebook (anteriormente IPython Notebooks) es una aplicación web de código abierto, la cual te permite crear y compartir documentos que contienen código, ecuaciones, visualizaciones y texto enriquecido. Sus usos incluyen limpieza y transformación de datos, simulaciones numéricas, modelamiento estadístico, visualización de datos, aprendizaje automático y mucho más. Un documento de Jupyter Notebook es un documento JSON, que sigue un esquema versionado y que contiene una lista ordenada de celdas de entrada/salida, terminado con la extensión \".ipynb\".\n",
    "\n",
    "El término \"notebook\" puede hacer referencia coloquialmente a muchas entidades diferentes, principalmente la aplicación web Jupyter, el servidor web Jupyter Python o el formato de documento Jupyter según el contexto.\n",
    "\n",
    "\n",
    "\n",
    "\n",
    "Para obtener más información sobre el proyecto Jupyter, visita <a href=\"https://www.jupyter.org\">jupyter.org</a>.\n",
    "\n",
    "\n",
    "¿Qué es un Google Colab?\n",
    "Son los Jupyter notebooks de Google."
   ]
  },
  {
   "cell_type": "markdown",
   "metadata": {
    "id": "SBtQmj7Cm6Sh"
   },
   "source": [
    "## Comenzaremos por lo elemental - Sintáxis de python, variables y librerías"
   ]
  },
  {
   "cell_type": "code",
   "execution_count": 244,
   "metadata": {
    "executionInfo": {
     "elapsed": 8,
     "status": "ok",
     "timestamp": 1691511780584,
     "user": {
      "displayName": "Victoria Salazar",
      "userId": "15244846171196193981"
     },
     "user_tz": 240
    },
    "id": "YK3z3Yq4iWd6"
   },
   "outputs": [],
   "source": [
    "#"
   ]
  },
  {
   "cell_type": "code",
   "execution_count": 246,
   "metadata": {
    "executionInfo": {
     "elapsed": 6,
     "status": "ok",
     "timestamp": 1691511780585,
     "user": {
      "displayName": "Victoria Salazar",
      "userId": "15244846171196193981"
     },
     "user_tz": 240
    },
    "id": "EoOWeW5Q_OgH"
   },
   "outputs": [],
   "source": [
    "# Esto es un comentario"
   ]
  },
  {
   "cell_type": "markdown",
   "metadata": {
    "id": "e-ngf4xEnJg2"
   },
   "source": [
    "Negrita: **Texto destacado**\n",
    "\n",
    "Cursiva: _cursiva_\n",
    "\n",
    "# Titulo\n",
    "\n",
    "texto de análisis\n",
    "\n",
    "\n",
    "## 1.1 Subtitulo\n",
    "### Sub-subtitulo\n",
    "###### titulo pequeño\n",
    "\n",
    "\n",
    "* punto 1\n",
    "* punto 2\n",
    "* punto 3\n",
    "\n",
    "linea de texto $A_{i}$"
   ]
  },
  {
   "cell_type": "markdown",
   "metadata": {
    "id": "g05goqLbnfZG"
   },
   "source": [
    "**Tipos de datos**"
   ]
  },
  {
   "cell_type": "code",
   "execution_count": 250,
   "metadata": {
    "executionInfo": {
     "elapsed": 641,
     "status": "ok",
     "timestamp": 1691511781221,
     "user": {
      "displayName": "Victoria Salazar",
      "userId": "15244846171196193981"
     },
     "user_tz": 240
    },
    "id": "mn1ab56GWrn-"
   },
   "outputs": [],
   "source": [
    "# Variable entero -> int\n",
    "a = 4"
   ]
  },
  {
   "cell_type": "code",
   "execution_count": 251,
   "metadata": {
    "colab": {
     "base_uri": "https://localhost:8080/"
    },
    "executionInfo": {
     "elapsed": 30,
     "status": "ok",
     "timestamp": 1691511781222,
     "user": {
      "displayName": "Victoria Salazar",
      "userId": "15244846171196193981"
     },
     "user_tz": 240
    },
    "id": "AQk8W-PmABV1",
    "outputId": "3f8f1430-d35c-40f3-87ea-f21655f4d954"
   },
   "outputs": [
    {
     "data": {
      "text/plain": [
       "4"
      ]
     },
     "execution_count": 251,
     "metadata": {},
     "output_type": "execute_result"
    }
   ],
   "source": [
    "a"
   ]
  },
  {
   "cell_type": "code",
   "execution_count": 252,
   "metadata": {
    "executionInfo": {
     "elapsed": 26,
     "status": "ok",
     "timestamp": 1691511781222,
     "user": {
      "displayName": "Victoria Salazar",
      "userId": "15244846171196193981"
     },
     "user_tz": 240
    },
    "id": "CIOtoJOf4Dy1"
   },
   "outputs": [],
   "source": [
    "# Variable flotante -> float\n",
    "b= 5/2"
   ]
  },
  {
   "cell_type": "code",
   "execution_count": 253,
   "metadata": {
    "colab": {
     "base_uri": "https://localhost:8080/"
    },
    "executionInfo": {
     "elapsed": 27,
     "status": "ok",
     "timestamp": 1691511781223,
     "user": {
      "displayName": "Victoria Salazar",
      "userId": "15244846171196193981"
     },
     "user_tz": 240
    },
    "id": "Uo4-AY5VAICx",
    "outputId": "407f3116-8eeb-4629-d90a-9f5bcd975423"
   },
   "outputs": [
    {
     "data": {
      "text/plain": [
       "2.5"
      ]
     },
     "execution_count": 253,
     "metadata": {},
     "output_type": "execute_result"
    }
   ],
   "source": [
    "b"
   ]
  },
  {
   "cell_type": "code",
   "execution_count": 254,
   "metadata": {
    "colab": {
     "base_uri": "https://localhost:8080/"
    },
    "executionInfo": {
     "elapsed": 25,
     "status": "ok",
     "timestamp": 1691511781223,
     "user": {
      "displayName": "Victoria Salazar",
      "userId": "15244846171196193981"
     },
     "user_tz": 240
    },
    "id": "APInUcbyjJ8A",
    "outputId": "0b488281-2f13-4100-d3a1-4c722c5f851c"
   },
   "outputs": [
    {
     "data": {
      "text/plain": [
       "6.5"
      ]
     },
     "execution_count": 254,
     "metadata": {},
     "output_type": "execute_result"
    }
   ],
   "source": [
    "a+b"
   ]
  },
  {
   "cell_type": "code",
   "execution_count": 255,
   "metadata": {
    "executionInfo": {
     "elapsed": 24,
     "status": "ok",
     "timestamp": 1691511781223,
     "user": {
      "displayName": "Victoria Salazar",
      "userId": "15244846171196193981"
     },
     "user_tz": 240
    },
    "id": "5Dl2LSUm37CE"
   },
   "outputs": [],
   "source": [
    "# En Python existen los operadores matemáticos básicos\n",
    "# Prueba algunas operaciones:\n",
    "# Suma +\n",
    "# Resta -\n",
    "# Multiplicación *\n",
    "# División /\n",
    "# tip: presiona Ctrl + Enter después de escribir tu código (cmd + Enter en Mac)"
   ]
  },
  {
   "cell_type": "code",
   "execution_count": 256,
   "metadata": {
    "executionInfo": {
     "elapsed": 25,
     "status": "ok",
     "timestamp": 1691511781224,
     "user": {
      "displayName": "Victoria Salazar",
      "userId": "15244846171196193981"
     },
     "user_tz": 240
    },
    "id": "qq9RZpLV3_GH"
   },
   "outputs": [],
   "source": [
    "# Escribe acá operaciones numéricas:\n"
   ]
  },
  {
   "cell_type": "code",
   "execution_count": 257,
   "metadata": {
    "executionInfo": {
     "elapsed": 24,
     "status": "ok",
     "timestamp": 1691511781224,
     "user": {
      "displayName": "Victoria Salazar",
      "userId": "15244846171196193981"
     },
     "user_tz": 240
    },
    "id": "JsjgasN4Wrqq"
   },
   "outputs": [],
   "source": [
    "# Variable texto -> string\n",
    "c=\"Hola\""
   ]
  },
  {
   "cell_type": "code",
   "execution_count": 259,
   "metadata": {
    "executionInfo": {
     "elapsed": 24,
     "status": "ok",
     "timestamp": 1691511781224,
     "user": {
      "displayName": "Victoria Salazar",
      "userId": "15244846171196193981"
     },
     "user_tz": 240
    },
    "id": "e7ffB-wTWrwn"
   },
   "outputs": [],
   "source": [
    "d= \"Mundo\""
   ]
  },
  {
   "cell_type": "code",
   "execution_count": 260,
   "metadata": {
    "colab": {
     "base_uri": "https://localhost:8080/",
     "height": 35
    },
    "executionInfo": {
     "elapsed": 25,
     "status": "ok",
     "timestamp": 1691511781225,
     "user": {
      "displayName": "Victoria Salazar",
      "userId": "15244846171196193981"
     },
     "user_tz": 240
    },
    "id": "MZaYsKQYWryv",
    "outputId": "df5a70a6-aaaa-4521-dd93-951fa13052d4"
   },
   "outputs": [
    {
     "data": {
      "text/plain": [
       "'HolaMundo'"
      ]
     },
     "execution_count": 260,
     "metadata": {},
     "output_type": "execute_result"
    }
   ],
   "source": [
    "c + d"
   ]
  },
  {
   "cell_type": "code",
   "execution_count": 261,
   "metadata": {
    "colab": {
     "base_uri": "https://localhost:8080/"
    },
    "executionInfo": {
     "elapsed": 25,
     "status": "ok",
     "timestamp": 1691511781226,
     "user": {
      "displayName": "Victoria Salazar",
      "userId": "15244846171196193981"
     },
     "user_tz": 240
    },
    "id": "W1IgKL9Zp5HX",
    "outputId": "ef98e06d-9cff-4631-ec24-227726297257"
   },
   "outputs": [
    {
     "name": "stdout",
     "output_type": "stream",
     "text": [
      "Mi nombre es Laxmy\n"
     ]
    }
   ],
   "source": [
    "# Las variables pueden ser texto y se pueden sumar\n",
    "nombre = \"Laxmy\"\n",
    "print(\"Mi nombre es \" + nombre)"
   ]
  },
  {
   "cell_type": "code",
   "execution_count": 262,
   "metadata": {
    "colab": {
     "base_uri": "https://localhost:8080/"
    },
    "executionInfo": {
     "elapsed": 24,
     "status": "ok",
     "timestamp": 1691511781226,
     "user": {
      "displayName": "Victoria Salazar",
      "userId": "15244846171196193981"
     },
     "user_tz": 240
    },
    "id": "BYoK3ci7p5Mt",
    "outputId": "ecdf9f81-8fcb-4538-fbc0-613045582f00"
   },
   "outputs": [
    {
     "name": "stdout",
     "output_type": "stream",
     "text": [
      "\n"
     ]
    }
   ],
   "source": [
    "# Ahora intenta poner tu nombre y apellido\n",
    "# TIP: No te olvides de los espacios\n",
    "\n",
    "apellido = \"\"\n",
    "\n",
    "print()"
   ]
  },
  {
   "cell_type": "code",
   "execution_count": 263,
   "metadata": {
    "executionInfo": {
     "elapsed": 23,
     "status": "ok",
     "timestamp": 1691511781227,
     "user": {
      "displayName": "Victoria Salazar",
      "userId": "15244846171196193981"
     },
     "user_tz": 240
    },
    "id": "nMNlzeHcWr1s"
   },
   "outputs": [],
   "source": [
    "# Otro tipo de datos comunes en programación son las listas\n",
    "\n",
    "lista_super = [\"Pan\",\"manzanas\", \"leche\"]"
   ]
  },
  {
   "cell_type": "code",
   "execution_count": 264,
   "metadata": {
    "colab": {
     "base_uri": "https://localhost:8080/"
    },
    "executionInfo": {
     "elapsed": 23,
     "status": "ok",
     "timestamp": 1691511781227,
     "user": {
      "displayName": "Victoria Salazar",
      "userId": "15244846171196193981"
     },
     "user_tz": 240
    },
    "id": "cHzjiA9KqiGF",
    "outputId": "b1fb1d2f-b458-4cb4-de72-871b389aa968"
   },
   "outputs": [
    {
     "name": "stdout",
     "output_type": "stream",
     "text": [
      "['Pan', 'manzanas', 'leche']\n"
     ]
    }
   ],
   "source": [
    "print(lista_super)"
   ]
  },
  {
   "cell_type": "code",
   "execution_count": 265,
   "metadata": {
    "colab": {
     "base_uri": "https://localhost:8080/"
    },
    "executionInfo": {
     "elapsed": 22,
     "status": "ok",
     "timestamp": 1691511781228,
     "user": {
      "displayName": "Victoria Salazar",
      "userId": "15244846171196193981"
     },
     "user_tz": 240
    },
    "id": "Cg5pBX7ln03V",
    "outputId": "11d29dcf-b215-4108-9d5b-d5a3a0ec3a97"
   },
   "outputs": [
    {
     "data": {
      "text/plain": [
       "list"
      ]
     },
     "execution_count": 265,
     "metadata": {},
     "output_type": "execute_result"
    }
   ],
   "source": [
    "type(lista_super)"
   ]
  },
  {
   "cell_type": "code",
   "execution_count": 266,
   "metadata": {
    "colab": {
     "base_uri": "https://localhost:8080/"
    },
    "executionInfo": {
     "elapsed": 21,
     "status": "ok",
     "timestamp": 1691511781228,
     "user": {
      "displayName": "Victoria Salazar",
      "userId": "15244846171196193981"
     },
     "user_tz": 240
    },
    "id": "tyaHP-exBdOS",
    "outputId": "3738461c-f0ff-4d61-9f5b-fe0e15d44a1b"
   },
   "outputs": [
    {
     "data": {
      "text/plain": [
       "float"
      ]
     },
     "execution_count": 266,
     "metadata": {},
     "output_type": "execute_result"
    }
   ],
   "source": [
    "type(b)"
   ]
  },
  {
   "cell_type": "code",
   "execution_count": 267,
   "metadata": {
    "colab": {
     "base_uri": "https://localhost:8080/",
     "height": 35
    },
    "executionInfo": {
     "elapsed": 19,
     "status": "ok",
     "timestamp": 1691511781228,
     "user": {
      "displayName": "Victoria Salazar",
      "userId": "15244846171196193981"
     },
     "user_tz": 240
    },
    "id": "2qDxyoN5n35U",
    "outputId": "cd07d4b6-d458-4c81-b0e5-4417735f5495"
   },
   "outputs": [
    {
     "data": {
      "text/plain": [
       "'leche'"
      ]
     },
     "execution_count": 267,
     "metadata": {},
     "output_type": "execute_result"
    }
   ],
   "source": [
    "lista_super[2]"
   ]
  },
  {
   "cell_type": "code",
   "execution_count": 268,
   "metadata": {
    "executionInfo": {
     "elapsed": 18,
     "status": "ok",
     "timestamp": 1691511781228,
     "user": {
      "displayName": "Victoria Salazar",
      "userId": "15244846171196193981"
     },
     "user_tz": 240
    },
    "id": "0GXJBtq7q0Xu"
   },
   "outputs": [],
   "source": [
    "# Un método bastante usado es 'apend()' el cual nos permite agregar elementos a una lista\n",
    "# Si te olvidaste de la bebida\n",
    "\n",
    "lista_super.append(\"bebida\")"
   ]
  },
  {
   "cell_type": "code",
   "execution_count": 269,
   "metadata": {
    "colab": {
     "base_uri": "https://localhost:8080/"
    },
    "executionInfo": {
     "elapsed": 18,
     "status": "ok",
     "timestamp": 1691511781228,
     "user": {
      "displayName": "Victoria Salazar",
      "userId": "15244846171196193981"
     },
     "user_tz": 240
    },
    "id": "l92w3yrlkIta",
    "outputId": "e09f93cd-0043-4d3f-8914-7e9ca4993afa"
   },
   "outputs": [
    {
     "data": {
      "text/plain": [
       "['Pan', 'manzanas', 'leche', 'bebida']"
      ]
     },
     "execution_count": 269,
     "metadata": {},
     "output_type": "execute_result"
    }
   ],
   "source": [
    "lista_super"
   ]
  },
  {
   "cell_type": "code",
   "execution_count": 270,
   "metadata": {
    "executionInfo": {
     "elapsed": 16,
     "status": "ok",
     "timestamp": 1691511781229,
     "user": {
      "displayName": "Victoria Salazar",
      "userId": "15244846171196193981"
     },
     "user_tz": 240
    },
    "id": "P5LOmGiMrKF6"
   },
   "outputs": [],
   "source": [
    "# Otros métodos básicos muy útiles:\n",
    "\n",
    "mi_texto = \"ME GUSTA PYTHON\""
   ]
  },
  {
   "cell_type": "code",
   "execution_count": 271,
   "metadata": {
    "colab": {
     "base_uri": "https://localhost:8080/",
     "height": 35
    },
    "executionInfo": {
     "elapsed": 16,
     "status": "ok",
     "timestamp": 1691511781229,
     "user": {
      "displayName": "Victoria Salazar",
      "userId": "15244846171196193981"
     },
     "user_tz": 240
    },
    "id": "vzgCaa0UrTTT",
    "outputId": "5a05ed87-65b6-4e9d-95f4-94675651df6f"
   },
   "outputs": [
    {
     "data": {
      "text/plain": [
       "'me gusta python'"
      ]
     },
     "execution_count": 271,
     "metadata": {},
     "output_type": "execute_result"
    }
   ],
   "source": [
    "# llevar a minúscula o mayúscula un string\n",
    "\n",
    "mi_texto.lower()"
   ]
  },
  {
   "cell_type": "code",
   "execution_count": 272,
   "metadata": {
    "executionInfo": {
     "elapsed": 15,
     "status": "ok",
     "timestamp": 1691511781229,
     "user": {
      "displayName": "Victoria Salazar",
      "userId": "15244846171196193981"
     },
     "user_tz": 240
    },
    "id": "qCl_xSos4cDz"
   },
   "outputs": [],
   "source": [
    "mi_nuevo_texto = \"me gusta python\"\n",
    "# ¿Cómo lo llevamos todo a mayúscula?"
   ]
  },
  {
   "cell_type": "markdown",
   "metadata": {
    "id": "ZvzkLwo57XOA"
   },
   "source": [
    "#### Otros tipos de variables:\n",
    "- Booleanos: Corresponden a un tipo de dato que sólo puede tomar dos posibles valores: True (verdadero) y False (falso). En Python, cualquier variable puede considerarse del tipo *booleana*.\n",
    "\n",
    "- Range: El tipo de variable *range* es una lista inmutable de números enteros en sucesión aritmética.\n",
    "\n",
    "- Diccionarios: Es una estructura de datos y un tipo de dato en Python. Los diccionarios nos permiten almacenar cualquier tipo de valor como enteros, cadenas de texto, listas e incluso otras funciones."
   ]
  },
  {
   "cell_type": "code",
   "execution_count": 274,
   "metadata": {
    "executionInfo": {
     "elapsed": 15,
     "status": "ok",
     "timestamp": 1691511781229,
     "user": {
      "displayName": "Victoria Salazar",
      "userId": "15244846171196193981"
     },
     "user_tz": 240
    },
    "id": "m-LPY_aMgGdE"
   },
   "outputs": [],
   "source": [
    "diccionario_datos = {(a,b,c), (1,2,3), \"Hola\"}"
   ]
  },
  {
   "cell_type": "markdown",
   "metadata": {
    "id": "wlLjfCN7rucd"
   },
   "source": [
    "Los lenguajes de programación cuentan con una serie de herramientas básicas incorporadas, como las que acabamos de ver. Sin embargo, existen expansiones de funcionalidades que han sido derrolladas previamente de modo de ahorrarnos trabajo y hacer todo más simple.\n",
    "\n",
    "Estas \"expansiones\" se llamas **bibliotecas o librerías**"
   ]
  },
  {
   "cell_type": "code",
   "execution_count": 276,
   "metadata": {
    "executionInfo": {
     "elapsed": 1808,
     "status": "ok",
     "timestamp": 1691511783022,
     "user": {
      "displayName": "Victoria Salazar",
      "userId": "15244846171196193981"
     },
     "user_tz": 240
    },
    "id": "hAd7V_GBrpr4"
   },
   "outputs": [],
   "source": [
    "#Importemos algunas de las librerías más clásicas para el manejo de datos en Python\n",
    "\n",
    "#Pandas es la librería básica para la manipulación y análisis de datos\n",
    "import pandas as pd\n",
    "\n",
    "#Numpy es la biblioteca para crear vectores y matrices, además de un conjunto grande de funciones matemáticas\n",
    "import numpy as np\n",
    "\n",
    "#Seaborn es una librería que usamos para graficar\n",
    "import seaborn as sns\n",
    "\n",
    "#Statsmodels es la biblioteca para realizar modelos\n",
    "import statsmodels.formula.api as smf"
   ]
  },
  {
   "cell_type": "code",
   "execution_count": 277,
   "metadata": {
    "executionInfo": {
     "elapsed": 7,
     "status": "ok",
     "timestamp": 1691511783022,
     "user": {
      "displayName": "Victoria Salazar",
      "userId": "15244846171196193981"
     },
     "user_tz": 240
    },
    "id": "0kAJOqC4Qzhy"
   },
   "outputs": [],
   "source": [
    "numero_pi = np.pi\n"
   ]
  },
  {
   "cell_type": "code",
   "execution_count": 278,
   "metadata": {
    "colab": {
     "base_uri": "https://localhost:8080/"
    },
    "executionInfo": {
     "elapsed": 7,
     "status": "ok",
     "timestamp": 1691511783023,
     "user": {
      "displayName": "Victoria Salazar",
      "userId": "15244846171196193981"
     },
     "user_tz": 240
    },
    "id": "pss54wdbUraW",
    "outputId": "801bc157-050e-4115-99ec-3be79d57949c"
   },
   "outputs": [
    {
     "data": {
      "text/plain": [
       "3.141592653589793"
      ]
     },
     "execution_count": 278,
     "metadata": {},
     "output_type": "execute_result"
    }
   ],
   "source": [
    "numero_pi"
   ]
  },
  {
   "cell_type": "markdown",
   "metadata": {
    "id": "GcvSloEWsbU8"
   },
   "source": [
    "Dentro de **pandas** existe una estructura de datos que facilita el trabajo de análisis de datos, se conocen como \"Dataframe\". Corresponden a una estructura ordenada por filas y columnas (como una pestaña de excel).\n",
    "\n",
    "Pandas tiene múltiples funciones, las que nos permitirán trabajar datos de una manera muy sencilla y amigable.\n",
    "\n",
    "## Ahora, ¡manos a la obra!"
   ]
  },
  {
   "cell_type": "markdown",
   "metadata": {
    "id": "lOyaXfH-tMsR"
   },
   "source": [
    "Trabajaremos con el dataset 'nations', el cual contiene información sobre diferentes atributos de desarrollo humano en 194 países, recolectados por las Naciones Unidas.\n",
    "\n",
    "* Contiene información a nivel mundial sobre demografía:\n",
    "    * `country`: País.\n",
    "    * `region`: Continente del país.\n",
    "    * `gdp`: Producto Interno Bruto per cápita, precios 2005.\n",
    "    * `school`: Promedio años de escolaridad.\n",
    "    * `adfert`: Fertilidad adolescente (Nacimientos 1:1000 en mujeres entre 15 y 19).\n",
    "    * `chldmort`: Probabilidad de muerte antes de los 5 años por cada 1000.\n",
    "    * `life`: Esperanza de vida al nacer.\n",
    "    * `pop`: Población total.\n",
    "    * `urban`: Porcentaje de población urbana.\n",
    "    * `femlab`: Tasa entre hombres y mujeres en el mercado laboral.\n",
    "    * `literacy`: Tasa de alfabetismo.\n",
    "    * `co2`: Toneladas de Co2 emitidas per cápita.\n",
    "    * `gini`: Coeficiente de desigualdad del ingreso.\n",
    "\n"
   ]
  },
  {
   "cell_type": "code",
   "execution_count": 281,
   "metadata": {
    "executionInfo": {
     "elapsed": 1456,
     "status": "ok",
     "timestamp": 1691511784475,
     "user": {
      "displayName": "Victoria Salazar",
      "userId": "15244846171196193981"
     },
     "user_tz": 240
    },
    "id": "45wdPNRm2Csx"
   },
   "outputs": [],
   "source": [
    "df_nations = pd.read_csv(\"https://raw.githubusercontent.com/DireccionAcademicaADL/Nations-DB/main/nations.csv\", encoding=\"ISO-8859-1\")"
   ]
  },
  {
   "cell_type": "code",
   "execution_count": 282,
   "metadata": {
    "colab": {
     "base_uri": "https://localhost:8080/",
     "height": 540
    },
    "executionInfo": {
     "elapsed": 26,
     "status": "ok",
     "timestamp": 1691511784475,
     "user": {
      "displayName": "Victoria Salazar",
      "userId": "15244846171196193981"
     },
     "user_tz": 240
    },
    "id": "qwHk5ZSgRNrM",
    "outputId": "0bc34af3-e246-4164-f563-92612fe9b73e"
   },
   "outputs": [
    {
     "data": {
      "text/html": [
       "<div>\n",
       "<style scoped>\n",
       "    .dataframe tbody tr th:only-of-type {\n",
       "        vertical-align: middle;\n",
       "    }\n",
       "\n",
       "    .dataframe tbody tr th {\n",
       "        vertical-align: top;\n",
       "    }\n",
       "\n",
       "    .dataframe thead th {\n",
       "        text-align: right;\n",
       "    }\n",
       "</style>\n",
       "<table border=\"1\" class=\"dataframe\">\n",
       "  <thead>\n",
       "    <tr style=\"text-align: right;\">\n",
       "      <th></th>\n",
       "      <th>Unnamed: 0</th>\n",
       "      <th>country</th>\n",
       "      <th>region</th>\n",
       "      <th>gdp</th>\n",
       "      <th>school</th>\n",
       "      <th>adfert</th>\n",
       "      <th>chldmort</th>\n",
       "      <th>life</th>\n",
       "      <th>pop</th>\n",
       "      <th>urban</th>\n",
       "      <th>femlab</th>\n",
       "      <th>literacy</th>\n",
       "      <th>co2</th>\n",
       "      <th>gini</th>\n",
       "    </tr>\n",
       "  </thead>\n",
       "  <tbody>\n",
       "    <tr>\n",
       "      <th>0</th>\n",
       "      <td>1</td>\n",
       "      <td>Algeria</td>\n",
       "      <td>Africa</td>\n",
       "      <td>7300.399902</td>\n",
       "      <td>6.716667</td>\n",
       "      <td>7.300000</td>\n",
       "      <td>34.75</td>\n",
       "      <td>72.316666</td>\n",
       "      <td>34172236</td>\n",
       "      <td>64.933334</td>\n",
       "      <td>0.4522</td>\n",
       "      <td>72.599998</td>\n",
       "      <td>15.00</td>\n",
       "      <td>NaN</td>\n",
       "    </tr>\n",
       "    <tr>\n",
       "      <th>1</th>\n",
       "      <td>2</td>\n",
       "      <td>Benin</td>\n",
       "      <td>Africa</td>\n",
       "      <td>1338.800049</td>\n",
       "      <td>3.100000</td>\n",
       "      <td>111.699997</td>\n",
       "      <td>122.75</td>\n",
       "      <td>54.733334</td>\n",
       "      <td>8237634</td>\n",
       "      <td>41.000000</td>\n",
       "      <td>0.8482</td>\n",
       "      <td>41.700001</td>\n",
       "      <td>1.20</td>\n",
       "      <td>NaN</td>\n",
       "    </tr>\n",
       "    <tr>\n",
       "      <th>2</th>\n",
       "      <td>3</td>\n",
       "      <td>Botswana</td>\n",
       "      <td>Africa</td>\n",
       "      <td>12307.400391</td>\n",
       "      <td>8.600000</td>\n",
       "      <td>52.099998</td>\n",
       "      <td>60.25</td>\n",
       "      <td>52.250000</td>\n",
       "      <td>1941233</td>\n",
       "      <td>59.250000</td>\n",
       "      <td>0.8870</td>\n",
       "      <td>84.099998</td>\n",
       "      <td>9.20</td>\n",
       "      <td>NaN</td>\n",
       "    </tr>\n",
       "    <tr>\n",
       "      <th>3</th>\n",
       "      <td>4</td>\n",
       "      <td>Burkina Faso</td>\n",
       "      <td>Africa</td>\n",
       "      <td>1063.400024</td>\n",
       "      <td>1.300000</td>\n",
       "      <td>124.800003</td>\n",
       "      <td>170.50</td>\n",
       "      <td>53.783333</td>\n",
       "      <td>15308383</td>\n",
       "      <td>23.583334</td>\n",
       "      <td>0.8584</td>\n",
       "      <td>23.600000</td>\n",
       "      <td>0.20</td>\n",
       "      <td>NaN</td>\n",
       "    </tr>\n",
       "    <tr>\n",
       "      <th>4</th>\n",
       "      <td>5</td>\n",
       "      <td>Burundi</td>\n",
       "      <td>Africa</td>\n",
       "      <td>349.200012</td>\n",
       "      <td>2.483333</td>\n",
       "      <td>18.600000</td>\n",
       "      <td>168.50</td>\n",
       "      <td>48.866665</td>\n",
       "      <td>7821783</td>\n",
       "      <td>10.250000</td>\n",
       "      <td>1.0344</td>\n",
       "      <td>66.599998</td>\n",
       "      <td>0.10</td>\n",
       "      <td>33.299999</td>\n",
       "    </tr>\n",
       "    <tr>\n",
       "      <th>...</th>\n",
       "      <td>...</td>\n",
       "      <td>...</td>\n",
       "      <td>...</td>\n",
       "      <td>...</td>\n",
       "      <td>...</td>\n",
       "      <td>...</td>\n",
       "      <td>...</td>\n",
       "      <td>...</td>\n",
       "      <td>...</td>\n",
       "      <td>...</td>\n",
       "      <td>...</td>\n",
       "      <td>...</td>\n",
       "      <td>...</td>\n",
       "      <td>...</td>\n",
       "    </tr>\n",
       "    <tr>\n",
       "      <th>189</th>\n",
       "      <td>190</td>\n",
       "      <td>Samoa</td>\n",
       "      <td>Oceania</td>\n",
       "      <td>4012.600098</td>\n",
       "      <td>10.300000</td>\n",
       "      <td>28.299999</td>\n",
       "      <td>26.75</td>\n",
       "      <td>71.533333</td>\n",
       "      <td>181600</td>\n",
       "      <td>20.666668</td>\n",
       "      <td>0.5010</td>\n",
       "      <td>98.800003</td>\n",
       "      <td>3.10</td>\n",
       "      <td>NaN</td>\n",
       "    </tr>\n",
       "    <tr>\n",
       "      <th>190</th>\n",
       "      <td>191</td>\n",
       "      <td>Solomon Islands</td>\n",
       "      <td>Oceania</td>\n",
       "      <td>2249.199951</td>\n",
       "      <td>4.500000</td>\n",
       "      <td>70.300003</td>\n",
       "      <td>36.00</td>\n",
       "      <td>66.500000</td>\n",
       "      <td>503617</td>\n",
       "      <td>17.766666</td>\n",
       "      <td>0.4858</td>\n",
       "      <td>NaN</td>\n",
       "      <td>1.40</td>\n",
       "      <td>NaN</td>\n",
       "    </tr>\n",
       "    <tr>\n",
       "      <th>191</th>\n",
       "      <td>192</td>\n",
       "      <td>Tonga</td>\n",
       "      <td>Oceania</td>\n",
       "      <td>4072.199951</td>\n",
       "      <td>10.133333</td>\n",
       "      <td>22.299999</td>\n",
       "      <td>19.25</td>\n",
       "      <td>71.833336</td>\n",
       "      <td>102550</td>\n",
       "      <td>23.266666</td>\n",
       "      <td>0.7150</td>\n",
       "      <td>99.000000</td>\n",
       "      <td>4.85</td>\n",
       "      <td>NaN</td>\n",
       "    </tr>\n",
       "    <tr>\n",
       "      <th>192</th>\n",
       "      <td>193</td>\n",
       "      <td>Tuvalu</td>\n",
       "      <td>Oceania</td>\n",
       "      <td>NaN</td>\n",
       "      <td>NaN</td>\n",
       "      <td>23.299999</td>\n",
       "      <td>36.50</td>\n",
       "      <td>66.033333</td>\n",
       "      <td>9767</td>\n",
       "      <td>49.233334</td>\n",
       "      <td>NaN</td>\n",
       "      <td>NaN</td>\n",
       "      <td>NaN</td>\n",
       "      <td>NaN</td>\n",
       "    </tr>\n",
       "    <tr>\n",
       "      <th>193</th>\n",
       "      <td>194</td>\n",
       "      <td>Vanuatu</td>\n",
       "      <td>Oceania</td>\n",
       "      <td>3809.800049</td>\n",
       "      <td>6.700000</td>\n",
       "      <td>54.000000</td>\n",
       "      <td>17.75</td>\n",
       "      <td>69.966667</td>\n",
       "      <td>225317</td>\n",
       "      <td>24.500000</td>\n",
       "      <td>0.8988</td>\n",
       "      <td>82.000000</td>\n",
       "      <td>1.50</td>\n",
       "      <td>NaN</td>\n",
       "    </tr>\n",
       "  </tbody>\n",
       "</table>\n",
       "<p>194 rows × 14 columns</p>\n",
       "</div>"
      ],
      "text/plain": [
       "     Unnamed: 0          country   region           gdp     school  \\\n",
       "0             1          Algeria   Africa   7300.399902   6.716667   \n",
       "1             2            Benin   Africa   1338.800049   3.100000   \n",
       "2             3         Botswana   Africa  12307.400391   8.600000   \n",
       "3             4     Burkina Faso   Africa   1063.400024   1.300000   \n",
       "4             5          Burundi   Africa    349.200012   2.483333   \n",
       "..          ...              ...      ...           ...        ...   \n",
       "189         190            Samoa  Oceania   4012.600098  10.300000   \n",
       "190         191  Solomon Islands  Oceania   2249.199951   4.500000   \n",
       "191         192            Tonga  Oceania   4072.199951  10.133333   \n",
       "192         193           Tuvalu  Oceania           NaN        NaN   \n",
       "193         194          Vanuatu  Oceania   3809.800049   6.700000   \n",
       "\n",
       "         adfert  chldmort       life       pop      urban  femlab   literacy  \\\n",
       "0      7.300000     34.75  72.316666  34172236  64.933334  0.4522  72.599998   \n",
       "1    111.699997    122.75  54.733334   8237634  41.000000  0.8482  41.700001   \n",
       "2     52.099998     60.25  52.250000   1941233  59.250000  0.8870  84.099998   \n",
       "3    124.800003    170.50  53.783333  15308383  23.583334  0.8584  23.600000   \n",
       "4     18.600000    168.50  48.866665   7821783  10.250000  1.0344  66.599998   \n",
       "..          ...       ...        ...       ...        ...     ...        ...   \n",
       "189   28.299999     26.75  71.533333    181600  20.666668  0.5010  98.800003   \n",
       "190   70.300003     36.00  66.500000    503617  17.766666  0.4858        NaN   \n",
       "191   22.299999     19.25  71.833336    102550  23.266666  0.7150  99.000000   \n",
       "192   23.299999     36.50  66.033333      9767  49.233334     NaN        NaN   \n",
       "193   54.000000     17.75  69.966667    225317  24.500000  0.8988  82.000000   \n",
       "\n",
       "       co2       gini  \n",
       "0    15.00        NaN  \n",
       "1     1.20        NaN  \n",
       "2     9.20        NaN  \n",
       "3     0.20        NaN  \n",
       "4     0.10  33.299999  \n",
       "..     ...        ...  \n",
       "189   3.10        NaN  \n",
       "190   1.40        NaN  \n",
       "191   4.85        NaN  \n",
       "192    NaN        NaN  \n",
       "193   1.50        NaN  \n",
       "\n",
       "[194 rows x 14 columns]"
      ]
     },
     "execution_count": 282,
     "metadata": {},
     "output_type": "execute_result"
    }
   ],
   "source": [
    "df_nations"
   ]
  },
  {
   "cell_type": "code",
   "execution_count": 283,
   "metadata": {
    "colab": {
     "base_uri": "https://localhost:8080/",
     "height": 305
    },
    "executionInfo": {
     "elapsed": 24,
     "status": "ok",
     "timestamp": 1691511784475,
     "user": {
      "displayName": "Victoria Salazar",
      "userId": "15244846171196193981"
     },
     "user_tz": 240
    },
    "id": "qmV9WZjTtJHd",
    "outputId": "43b543cb-bde4-4e23-8ca0-2404f8791f31"
   },
   "outputs": [
    {
     "data": {
      "text/html": [
       "<div>\n",
       "<style scoped>\n",
       "    .dataframe tbody tr th:only-of-type {\n",
       "        vertical-align: middle;\n",
       "    }\n",
       "\n",
       "    .dataframe tbody tr th {\n",
       "        vertical-align: top;\n",
       "    }\n",
       "\n",
       "    .dataframe thead th {\n",
       "        text-align: right;\n",
       "    }\n",
       "</style>\n",
       "<table border=\"1\" class=\"dataframe\">\n",
       "  <thead>\n",
       "    <tr style=\"text-align: right;\">\n",
       "      <th></th>\n",
       "      <th>Unnamed: 0</th>\n",
       "      <th>country</th>\n",
       "      <th>region</th>\n",
       "      <th>gdp</th>\n",
       "      <th>school</th>\n",
       "      <th>adfert</th>\n",
       "      <th>chldmort</th>\n",
       "      <th>life</th>\n",
       "      <th>pop</th>\n",
       "      <th>urban</th>\n",
       "      <th>femlab</th>\n",
       "      <th>literacy</th>\n",
       "      <th>co2</th>\n",
       "      <th>gini</th>\n",
       "    </tr>\n",
       "  </thead>\n",
       "  <tbody>\n",
       "    <tr>\n",
       "      <th>0</th>\n",
       "      <td>1</td>\n",
       "      <td>Algeria</td>\n",
       "      <td>Africa</td>\n",
       "      <td>7300.399902</td>\n",
       "      <td>6.716667</td>\n",
       "      <td>7.300000</td>\n",
       "      <td>34.75</td>\n",
       "      <td>72.316666</td>\n",
       "      <td>34172236</td>\n",
       "      <td>64.933334</td>\n",
       "      <td>0.4522</td>\n",
       "      <td>72.599998</td>\n",
       "      <td>15.0</td>\n",
       "      <td>NaN</td>\n",
       "    </tr>\n",
       "    <tr>\n",
       "      <th>1</th>\n",
       "      <td>2</td>\n",
       "      <td>Benin</td>\n",
       "      <td>Africa</td>\n",
       "      <td>1338.800049</td>\n",
       "      <td>3.100000</td>\n",
       "      <td>111.699997</td>\n",
       "      <td>122.75</td>\n",
       "      <td>54.733334</td>\n",
       "      <td>8237634</td>\n",
       "      <td>41.000000</td>\n",
       "      <td>0.8482</td>\n",
       "      <td>41.700001</td>\n",
       "      <td>1.2</td>\n",
       "      <td>NaN</td>\n",
       "    </tr>\n",
       "    <tr>\n",
       "      <th>2</th>\n",
       "      <td>3</td>\n",
       "      <td>Botswana</td>\n",
       "      <td>Africa</td>\n",
       "      <td>12307.400391</td>\n",
       "      <td>8.600000</td>\n",
       "      <td>52.099998</td>\n",
       "      <td>60.25</td>\n",
       "      <td>52.250000</td>\n",
       "      <td>1941233</td>\n",
       "      <td>59.250000</td>\n",
       "      <td>0.8870</td>\n",
       "      <td>84.099998</td>\n",
       "      <td>9.2</td>\n",
       "      <td>NaN</td>\n",
       "    </tr>\n",
       "    <tr>\n",
       "      <th>3</th>\n",
       "      <td>4</td>\n",
       "      <td>Burkina Faso</td>\n",
       "      <td>Africa</td>\n",
       "      <td>1063.400024</td>\n",
       "      <td>1.300000</td>\n",
       "      <td>124.800003</td>\n",
       "      <td>170.50</td>\n",
       "      <td>53.783333</td>\n",
       "      <td>15308383</td>\n",
       "      <td>23.583334</td>\n",
       "      <td>0.8584</td>\n",
       "      <td>23.600000</td>\n",
       "      <td>0.2</td>\n",
       "      <td>NaN</td>\n",
       "    </tr>\n",
       "    <tr>\n",
       "      <th>4</th>\n",
       "      <td>5</td>\n",
       "      <td>Burundi</td>\n",
       "      <td>Africa</td>\n",
       "      <td>349.200012</td>\n",
       "      <td>2.483333</td>\n",
       "      <td>18.600000</td>\n",
       "      <td>168.50</td>\n",
       "      <td>48.866665</td>\n",
       "      <td>7821783</td>\n",
       "      <td>10.250000</td>\n",
       "      <td>1.0344</td>\n",
       "      <td>66.599998</td>\n",
       "      <td>0.1</td>\n",
       "      <td>33.299999</td>\n",
       "    </tr>\n",
       "  </tbody>\n",
       "</table>\n",
       "</div>"
      ],
      "text/plain": [
       "   Unnamed: 0       country  region           gdp    school      adfert  \\\n",
       "0           1       Algeria  Africa   7300.399902  6.716667    7.300000   \n",
       "1           2         Benin  Africa   1338.800049  3.100000  111.699997   \n",
       "2           3      Botswana  Africa  12307.400391  8.600000   52.099998   \n",
       "3           4  Burkina Faso  Africa   1063.400024  1.300000  124.800003   \n",
       "4           5       Burundi  Africa    349.200012  2.483333   18.600000   \n",
       "\n",
       "   chldmort       life       pop      urban  femlab   literacy   co2  \\\n",
       "0     34.75  72.316666  34172236  64.933334  0.4522  72.599998  15.0   \n",
       "1    122.75  54.733334   8237634  41.000000  0.8482  41.700001   1.2   \n",
       "2     60.25  52.250000   1941233  59.250000  0.8870  84.099998   9.2   \n",
       "3    170.50  53.783333  15308383  23.583334  0.8584  23.600000   0.2   \n",
       "4    168.50  48.866665   7821783  10.250000  1.0344  66.599998   0.1   \n",
       "\n",
       "        gini  \n",
       "0        NaN  \n",
       "1        NaN  \n",
       "2        NaN  \n",
       "3        NaN  \n",
       "4  33.299999  "
      ]
     },
     "execution_count": 283,
     "metadata": {},
     "output_type": "execute_result"
    }
   ],
   "source": [
    "# El método 'head()' nos permite ver \"la cabecera\" del dataset\n",
    "\n",
    "df_nations.head()"
   ]
  },
  {
   "cell_type": "code",
   "execution_count": 284,
   "metadata": {
    "executionInfo": {
     "elapsed": 23,
     "status": "ok",
     "timestamp": 1691511784476,
     "user": {
      "displayName": "Victoria Salazar",
      "userId": "15244846171196193981"
     },
     "user_tz": 240
    },
    "id": "ayENhbjRtzXw"
   },
   "outputs": [],
   "source": [
    "# Con 'tail()' ¿qué se puede ver?"
   ]
  },
  {
   "cell_type": "code",
   "execution_count": 285,
   "metadata": {
    "executionInfo": {
     "elapsed": 22,
     "status": "ok",
     "timestamp": 1691511784476,
     "user": {
      "displayName": "Victoria Salazar",
      "userId": "15244846171196193981"
     },
     "user_tz": 240
    },
    "id": "25ebwJpytzaU"
   },
   "outputs": [
    {
     "data": {
      "text/html": [
       "<div>\n",
       "<style scoped>\n",
       "    .dataframe tbody tr th:only-of-type {\n",
       "        vertical-align: middle;\n",
       "    }\n",
       "\n",
       "    .dataframe tbody tr th {\n",
       "        vertical-align: top;\n",
       "    }\n",
       "\n",
       "    .dataframe thead th {\n",
       "        text-align: right;\n",
       "    }\n",
       "</style>\n",
       "<table border=\"1\" class=\"dataframe\">\n",
       "  <thead>\n",
       "    <tr style=\"text-align: right;\">\n",
       "      <th></th>\n",
       "      <th>Unnamed: 0</th>\n",
       "      <th>country</th>\n",
       "      <th>region</th>\n",
       "      <th>gdp</th>\n",
       "      <th>school</th>\n",
       "      <th>adfert</th>\n",
       "      <th>chldmort</th>\n",
       "      <th>life</th>\n",
       "      <th>pop</th>\n",
       "      <th>urban</th>\n",
       "      <th>femlab</th>\n",
       "      <th>literacy</th>\n",
       "      <th>co2</th>\n",
       "      <th>gini</th>\n",
       "    </tr>\n",
       "  </thead>\n",
       "  <tbody>\n",
       "    <tr>\n",
       "      <th>189</th>\n",
       "      <td>190</td>\n",
       "      <td>Samoa</td>\n",
       "      <td>Oceania</td>\n",
       "      <td>4012.600098</td>\n",
       "      <td>10.300000</td>\n",
       "      <td>28.299999</td>\n",
       "      <td>26.75</td>\n",
       "      <td>71.533333</td>\n",
       "      <td>181600</td>\n",
       "      <td>20.666668</td>\n",
       "      <td>0.5010</td>\n",
       "      <td>98.800003</td>\n",
       "      <td>3.10</td>\n",
       "      <td>NaN</td>\n",
       "    </tr>\n",
       "    <tr>\n",
       "      <th>190</th>\n",
       "      <td>191</td>\n",
       "      <td>Solomon Islands</td>\n",
       "      <td>Oceania</td>\n",
       "      <td>2249.199951</td>\n",
       "      <td>4.500000</td>\n",
       "      <td>70.300003</td>\n",
       "      <td>36.00</td>\n",
       "      <td>66.500000</td>\n",
       "      <td>503617</td>\n",
       "      <td>17.766666</td>\n",
       "      <td>0.4858</td>\n",
       "      <td>NaN</td>\n",
       "      <td>1.40</td>\n",
       "      <td>NaN</td>\n",
       "    </tr>\n",
       "    <tr>\n",
       "      <th>191</th>\n",
       "      <td>192</td>\n",
       "      <td>Tonga</td>\n",
       "      <td>Oceania</td>\n",
       "      <td>4072.199951</td>\n",
       "      <td>10.133333</td>\n",
       "      <td>22.299999</td>\n",
       "      <td>19.25</td>\n",
       "      <td>71.833336</td>\n",
       "      <td>102550</td>\n",
       "      <td>23.266666</td>\n",
       "      <td>0.7150</td>\n",
       "      <td>99.000000</td>\n",
       "      <td>4.85</td>\n",
       "      <td>NaN</td>\n",
       "    </tr>\n",
       "    <tr>\n",
       "      <th>192</th>\n",
       "      <td>193</td>\n",
       "      <td>Tuvalu</td>\n",
       "      <td>Oceania</td>\n",
       "      <td>NaN</td>\n",
       "      <td>NaN</td>\n",
       "      <td>23.299999</td>\n",
       "      <td>36.50</td>\n",
       "      <td>66.033333</td>\n",
       "      <td>9767</td>\n",
       "      <td>49.233334</td>\n",
       "      <td>NaN</td>\n",
       "      <td>NaN</td>\n",
       "      <td>NaN</td>\n",
       "      <td>NaN</td>\n",
       "    </tr>\n",
       "    <tr>\n",
       "      <th>193</th>\n",
       "      <td>194</td>\n",
       "      <td>Vanuatu</td>\n",
       "      <td>Oceania</td>\n",
       "      <td>3809.800049</td>\n",
       "      <td>6.700000</td>\n",
       "      <td>54.000000</td>\n",
       "      <td>17.75</td>\n",
       "      <td>69.966667</td>\n",
       "      <td>225317</td>\n",
       "      <td>24.500000</td>\n",
       "      <td>0.8988</td>\n",
       "      <td>82.000000</td>\n",
       "      <td>1.50</td>\n",
       "      <td>NaN</td>\n",
       "    </tr>\n",
       "  </tbody>\n",
       "</table>\n",
       "</div>"
      ],
      "text/plain": [
       "     Unnamed: 0          country   region          gdp     school     adfert  \\\n",
       "189         190            Samoa  Oceania  4012.600098  10.300000  28.299999   \n",
       "190         191  Solomon Islands  Oceania  2249.199951   4.500000  70.300003   \n",
       "191         192            Tonga  Oceania  4072.199951  10.133333  22.299999   \n",
       "192         193           Tuvalu  Oceania          NaN        NaN  23.299999   \n",
       "193         194          Vanuatu  Oceania  3809.800049   6.700000  54.000000   \n",
       "\n",
       "     chldmort       life     pop      urban  femlab   literacy   co2  gini  \n",
       "189     26.75  71.533333  181600  20.666668  0.5010  98.800003  3.10   NaN  \n",
       "190     36.00  66.500000  503617  17.766666  0.4858        NaN  1.40   NaN  \n",
       "191     19.25  71.833336  102550  23.266666  0.7150  99.000000  4.85   NaN  \n",
       "192     36.50  66.033333    9767  49.233334     NaN        NaN   NaN   NaN  \n",
       "193     17.75  69.966667  225317  24.500000  0.8988  82.000000  1.50   NaN  "
      ]
     },
     "execution_count": 285,
     "metadata": {},
     "output_type": "execute_result"
    }
   ],
   "source": [
    "df_nations.tail()"
   ]
  },
  {
   "cell_type": "markdown",
   "metadata": {
    "id": "Y9VuNBtfuGBP"
   },
   "source": [
    "Cuando necesites ver la documentación de un método, si trabajas en Colab de google basta con poner el cursor sobre el método, pero si usas Jupyter notebook, te debes ubicar sobre el texto y presionar *shift + tab*"
   ]
  },
  {
   "cell_type": "markdown",
   "metadata": {
    "id": "n_6hEoDEuh7H"
   },
   "source": [
    "Si se fijaron en nuestro dataset, se puede ver que la columna \"Unnamed:  0\" parece no tener información relevante, por lo que la eliminaremos. Para ello, el método a usar es `drop()`"
   ]
  },
  {
   "cell_type": "code",
   "execution_count": 288,
   "metadata": {
    "executionInfo": {
     "elapsed": 22,
     "status": "ok",
     "timestamp": 1691511784476,
     "user": {
      "displayName": "Victoria Salazar",
      "userId": "15244846171196193981"
     },
     "user_tz": 240
    },
    "id": "M9bC7WuItzdV"
   },
   "outputs": [],
   "source": [
    "df_nations.drop(columns=[\"Unnamed: 0\"], inplace = True)"
   ]
  },
  {
   "cell_type": "code",
   "execution_count": 290,
   "metadata": {
    "colab": {
     "base_uri": "https://localhost:8080/",
     "height": 288
    },
    "executionInfo": {
     "elapsed": 22,
     "status": "ok",
     "timestamp": 1691511784476,
     "user": {
      "displayName": "Victoria Salazar",
      "userId": "15244846171196193981"
     },
     "user_tz": 240
    },
    "id": "MRCrqefgtzfy",
    "outputId": "c9e7497e-4356-4015-df64-41e1e6b6ad0d",
    "scrolled": true
   },
   "outputs": [
    {
     "data": {
      "text/html": [
       "<div>\n",
       "<style scoped>\n",
       "    .dataframe tbody tr th:only-of-type {\n",
       "        vertical-align: middle;\n",
       "    }\n",
       "\n",
       "    .dataframe tbody tr th {\n",
       "        vertical-align: top;\n",
       "    }\n",
       "\n",
       "    .dataframe thead th {\n",
       "        text-align: right;\n",
       "    }\n",
       "</style>\n",
       "<table border=\"1\" class=\"dataframe\">\n",
       "  <thead>\n",
       "    <tr style=\"text-align: right;\">\n",
       "      <th></th>\n",
       "      <th>country</th>\n",
       "      <th>region</th>\n",
       "      <th>gdp</th>\n",
       "      <th>school</th>\n",
       "      <th>adfert</th>\n",
       "      <th>chldmort</th>\n",
       "      <th>life</th>\n",
       "      <th>pop</th>\n",
       "      <th>urban</th>\n",
       "      <th>femlab</th>\n",
       "      <th>literacy</th>\n",
       "      <th>co2</th>\n",
       "      <th>gini</th>\n",
       "    </tr>\n",
       "  </thead>\n",
       "  <tbody>\n",
       "    <tr>\n",
       "      <th>0</th>\n",
       "      <td>Algeria</td>\n",
       "      <td>Africa</td>\n",
       "      <td>7300.399902</td>\n",
       "      <td>6.716667</td>\n",
       "      <td>7.300000</td>\n",
       "      <td>34.75</td>\n",
       "      <td>72.316666</td>\n",
       "      <td>34172236</td>\n",
       "      <td>64.933334</td>\n",
       "      <td>0.4522</td>\n",
       "      <td>72.599998</td>\n",
       "      <td>15.0</td>\n",
       "      <td>NaN</td>\n",
       "    </tr>\n",
       "    <tr>\n",
       "      <th>1</th>\n",
       "      <td>Benin</td>\n",
       "      <td>Africa</td>\n",
       "      <td>1338.800049</td>\n",
       "      <td>3.100000</td>\n",
       "      <td>111.699997</td>\n",
       "      <td>122.75</td>\n",
       "      <td>54.733334</td>\n",
       "      <td>8237634</td>\n",
       "      <td>41.000000</td>\n",
       "      <td>0.8482</td>\n",
       "      <td>41.700001</td>\n",
       "      <td>1.2</td>\n",
       "      <td>NaN</td>\n",
       "    </tr>\n",
       "    <tr>\n",
       "      <th>2</th>\n",
       "      <td>Botswana</td>\n",
       "      <td>Africa</td>\n",
       "      <td>12307.400391</td>\n",
       "      <td>8.600000</td>\n",
       "      <td>52.099998</td>\n",
       "      <td>60.25</td>\n",
       "      <td>52.250000</td>\n",
       "      <td>1941233</td>\n",
       "      <td>59.250000</td>\n",
       "      <td>0.8870</td>\n",
       "      <td>84.099998</td>\n",
       "      <td>9.2</td>\n",
       "      <td>NaN</td>\n",
       "    </tr>\n",
       "    <tr>\n",
       "      <th>3</th>\n",
       "      <td>Burkina Faso</td>\n",
       "      <td>Africa</td>\n",
       "      <td>1063.400024</td>\n",
       "      <td>1.300000</td>\n",
       "      <td>124.800003</td>\n",
       "      <td>170.50</td>\n",
       "      <td>53.783333</td>\n",
       "      <td>15308383</td>\n",
       "      <td>23.583334</td>\n",
       "      <td>0.8584</td>\n",
       "      <td>23.600000</td>\n",
       "      <td>0.2</td>\n",
       "      <td>NaN</td>\n",
       "    </tr>\n",
       "    <tr>\n",
       "      <th>4</th>\n",
       "      <td>Burundi</td>\n",
       "      <td>Africa</td>\n",
       "      <td>349.200012</td>\n",
       "      <td>2.483333</td>\n",
       "      <td>18.600000</td>\n",
       "      <td>168.50</td>\n",
       "      <td>48.866665</td>\n",
       "      <td>7821783</td>\n",
       "      <td>10.250000</td>\n",
       "      <td>1.0344</td>\n",
       "      <td>66.599998</td>\n",
       "      <td>0.1</td>\n",
       "      <td>33.299999</td>\n",
       "    </tr>\n",
       "  </tbody>\n",
       "</table>\n",
       "</div>"
      ],
      "text/plain": [
       "        country  region           gdp    school      adfert  chldmort  \\\n",
       "0       Algeria  Africa   7300.399902  6.716667    7.300000     34.75   \n",
       "1         Benin  Africa   1338.800049  3.100000  111.699997    122.75   \n",
       "2      Botswana  Africa  12307.400391  8.600000   52.099998     60.25   \n",
       "3  Burkina Faso  Africa   1063.400024  1.300000  124.800003    170.50   \n",
       "4       Burundi  Africa    349.200012  2.483333   18.600000    168.50   \n",
       "\n",
       "        life       pop      urban  femlab   literacy   co2       gini  \n",
       "0  72.316666  34172236  64.933334  0.4522  72.599998  15.0        NaN  \n",
       "1  54.733334   8237634  41.000000  0.8482  41.700001   1.2        NaN  \n",
       "2  52.250000   1941233  59.250000  0.8870  84.099998   9.2        NaN  \n",
       "3  53.783333  15308383  23.583334  0.8584  23.600000   0.2        NaN  \n",
       "4  48.866665   7821783  10.250000  1.0344  66.599998   0.1  33.299999  "
      ]
     },
     "execution_count": 290,
     "metadata": {},
     "output_type": "execute_result"
    }
   ],
   "source": [
    "df_nations.head()"
   ]
  },
  {
   "cell_type": "code",
   "execution_count": 291,
   "metadata": {
    "colab": {
     "base_uri": "https://localhost:8080/"
    },
    "executionInfo": {
     "elapsed": 23,
     "status": "ok",
     "timestamp": 1691511784477,
     "user": {
      "displayName": "Victoria Salazar",
      "userId": "15244846171196193981"
     },
     "user_tz": 240
    },
    "id": "zjEzZfUetzia",
    "outputId": "9bb3e8ef-5653-49c7-8c4b-5cb044ae0f84"
   },
   "outputs": [
    {
     "data": {
      "text/plain": [
       "Index(['country', 'region', 'gdp', 'school', 'adfert', 'chldmort', 'life',\n",
       "       'pop', 'urban', 'femlab', 'literacy', 'co2', 'gini'],\n",
       "      dtype='object')"
      ]
     },
     "execution_count": 291,
     "metadata": {},
     "output_type": "execute_result"
    }
   ],
   "source": [
    "df_nations.columns"
   ]
  },
  {
   "cell_type": "markdown",
   "metadata": {
    "id": "KDCqnQc4vCD_"
   },
   "source": [
    "Si queremos observar solo una columna del dataset, la sintaxis es la siguiente:\n",
    "\n",
    "`df_nations[\"nombre_columna\"]`"
   ]
  },
  {
   "cell_type": "code",
   "execution_count": 293,
   "metadata": {
    "colab": {
     "base_uri": "https://localhost:8080/"
    },
    "executionInfo": {
     "elapsed": 20,
     "status": "ok",
     "timestamp": 1691511784477,
     "user": {
      "displayName": "Victoria Salazar",
      "userId": "15244846171196193981"
     },
     "user_tz": 240
    },
    "id": "HaumE2_Etzlk",
    "outputId": "a6bb063c-acc3-4386-f155-fe628bbee340"
   },
   "outputs": [
    {
     "data": {
      "text/plain": [
       "0       Africa\n",
       "1       Africa\n",
       "2       Africa\n",
       "3       Africa\n",
       "4       Africa\n",
       "        ...   \n",
       "189    Oceania\n",
       "190    Oceania\n",
       "191    Oceania\n",
       "192    Oceania\n",
       "193    Oceania\n",
       "Name: region, Length: 194, dtype: object"
      ]
     },
     "execution_count": 293,
     "metadata": {},
     "output_type": "execute_result"
    }
   ],
   "source": [
    "df_nations[\"region\"]"
   ]
  },
  {
   "cell_type": "code",
   "execution_count": 294,
   "metadata": {
    "executionInfo": {
     "elapsed": 19,
     "status": "ok",
     "timestamp": 1691511784477,
     "user": {
      "displayName": "Victoria Salazar",
      "userId": "15244846171196193981"
     },
     "user_tz": 240
    },
    "id": "of3n2cZ76LGM"
   },
   "outputs": [],
   "source": [
    "# ¿Cómo se debería hacer para observar la columna \"country\"?"
   ]
  },
  {
   "cell_type": "code",
   "execution_count": 296,
   "metadata": {
    "executionInfo": {
     "elapsed": 19,
     "status": "ok",
     "timestamp": 1691511784478,
     "user": {
      "displayName": "Victoria Salazar",
      "userId": "15244846171196193981"
     },
     "user_tz": 240
    },
    "id": "MsUID1jiIDEu"
   },
   "outputs": [
    {
     "data": {
      "text/plain": [
       "0              Algeria\n",
       "1                Benin\n",
       "2             Botswana\n",
       "3         Burkina Faso\n",
       "4              Burundi\n",
       "            ...       \n",
       "189              Samoa\n",
       "190    Solomon Islands\n",
       "191              Tonga\n",
       "192             Tuvalu\n",
       "193            Vanuatu\n",
       "Name: country, Length: 194, dtype: object"
      ]
     },
     "execution_count": 296,
     "metadata": {},
     "output_type": "execute_result"
    }
   ],
   "source": [
    "df_nations[\"country\"]"
   ]
  },
  {
   "cell_type": "markdown",
   "metadata": {
    "id": "wbzBbqdV9ik6"
   },
   "source": [
    "Si se quiere crear una nueva variable ( o atributo) en el dataset, no es necesario iniciar la variable primero, se puede crear directamente:\n",
    "\n",
    "Por ejemplo, el atributo \"gdp\" se mide en dólares corrientes del año 2005. Si quisieramos saber a cuántos pesos de la actualidad equivalen esos dólares, bastaría con hacer la conversión en una nueva variable, que llamaremos \"gdp_pesos2021\"\n",
    "Para simplificar el tipo de cambio, usaremos 1 USD = 850 pesos chilenos."
   ]
  },
  {
   "cell_type": "code",
   "execution_count": 298,
   "metadata": {
    "executionInfo": {
     "elapsed": 19,
     "status": "ok",
     "timestamp": 1691511784478,
     "user": {
      "displayName": "Victoria Salazar",
      "userId": "15244846171196193981"
     },
     "user_tz": 240
    },
    "id": "t7tWmkEy87Vq"
   },
   "outputs": [],
   "source": [
    "df_nations[\"gdp_pesos2021\"] = df_nations[\"gdp\"]*1450"
   ]
  },
  {
   "cell_type": "code",
   "execution_count": 299,
   "metadata": {
    "colab": {
     "base_uri": "https://localhost:8080/",
     "height": 288
    },
    "executionInfo": {
     "elapsed": 19,
     "status": "ok",
     "timestamp": 1691511784478,
     "user": {
      "displayName": "Victoria Salazar",
      "userId": "15244846171196193981"
     },
     "user_tz": 240
    },
    "id": "S5nxoyNLISwv",
    "outputId": "a65e5806-6a08-40fb-825f-88f97b6b5a91"
   },
   "outputs": [
    {
     "data": {
      "text/html": [
       "<div>\n",
       "<style scoped>\n",
       "    .dataframe tbody tr th:only-of-type {\n",
       "        vertical-align: middle;\n",
       "    }\n",
       "\n",
       "    .dataframe tbody tr th {\n",
       "        vertical-align: top;\n",
       "    }\n",
       "\n",
       "    .dataframe thead th {\n",
       "        text-align: right;\n",
       "    }\n",
       "</style>\n",
       "<table border=\"1\" class=\"dataframe\">\n",
       "  <thead>\n",
       "    <tr style=\"text-align: right;\">\n",
       "      <th></th>\n",
       "      <th>country</th>\n",
       "      <th>region</th>\n",
       "      <th>gdp</th>\n",
       "      <th>school</th>\n",
       "      <th>adfert</th>\n",
       "      <th>chldmort</th>\n",
       "      <th>life</th>\n",
       "      <th>pop</th>\n",
       "      <th>urban</th>\n",
       "      <th>femlab</th>\n",
       "      <th>literacy</th>\n",
       "      <th>co2</th>\n",
       "      <th>gini</th>\n",
       "      <th>gdp_pesos2021</th>\n",
       "    </tr>\n",
       "  </thead>\n",
       "  <tbody>\n",
       "    <tr>\n",
       "      <th>0</th>\n",
       "      <td>Algeria</td>\n",
       "      <td>Africa</td>\n",
       "      <td>7300.399902</td>\n",
       "      <td>6.716667</td>\n",
       "      <td>7.300000</td>\n",
       "      <td>34.75</td>\n",
       "      <td>72.316666</td>\n",
       "      <td>34172236</td>\n",
       "      <td>64.933334</td>\n",
       "      <td>0.4522</td>\n",
       "      <td>72.599998</td>\n",
       "      <td>15.0</td>\n",
       "      <td>NaN</td>\n",
       "      <td>1.058558e+07</td>\n",
       "    </tr>\n",
       "    <tr>\n",
       "      <th>1</th>\n",
       "      <td>Benin</td>\n",
       "      <td>Africa</td>\n",
       "      <td>1338.800049</td>\n",
       "      <td>3.100000</td>\n",
       "      <td>111.699997</td>\n",
       "      <td>122.75</td>\n",
       "      <td>54.733334</td>\n",
       "      <td>8237634</td>\n",
       "      <td>41.000000</td>\n",
       "      <td>0.8482</td>\n",
       "      <td>41.700001</td>\n",
       "      <td>1.2</td>\n",
       "      <td>NaN</td>\n",
       "      <td>1.941260e+06</td>\n",
       "    </tr>\n",
       "    <tr>\n",
       "      <th>2</th>\n",
       "      <td>Botswana</td>\n",
       "      <td>Africa</td>\n",
       "      <td>12307.400391</td>\n",
       "      <td>8.600000</td>\n",
       "      <td>52.099998</td>\n",
       "      <td>60.25</td>\n",
       "      <td>52.250000</td>\n",
       "      <td>1941233</td>\n",
       "      <td>59.250000</td>\n",
       "      <td>0.8870</td>\n",
       "      <td>84.099998</td>\n",
       "      <td>9.2</td>\n",
       "      <td>NaN</td>\n",
       "      <td>1.784573e+07</td>\n",
       "    </tr>\n",
       "    <tr>\n",
       "      <th>3</th>\n",
       "      <td>Burkina Faso</td>\n",
       "      <td>Africa</td>\n",
       "      <td>1063.400024</td>\n",
       "      <td>1.300000</td>\n",
       "      <td>124.800003</td>\n",
       "      <td>170.50</td>\n",
       "      <td>53.783333</td>\n",
       "      <td>15308383</td>\n",
       "      <td>23.583334</td>\n",
       "      <td>0.8584</td>\n",
       "      <td>23.600000</td>\n",
       "      <td>0.2</td>\n",
       "      <td>NaN</td>\n",
       "      <td>1.541930e+06</td>\n",
       "    </tr>\n",
       "    <tr>\n",
       "      <th>4</th>\n",
       "      <td>Burundi</td>\n",
       "      <td>Africa</td>\n",
       "      <td>349.200012</td>\n",
       "      <td>2.483333</td>\n",
       "      <td>18.600000</td>\n",
       "      <td>168.50</td>\n",
       "      <td>48.866665</td>\n",
       "      <td>7821783</td>\n",
       "      <td>10.250000</td>\n",
       "      <td>1.0344</td>\n",
       "      <td>66.599998</td>\n",
       "      <td>0.1</td>\n",
       "      <td>33.299999</td>\n",
       "      <td>5.063400e+05</td>\n",
       "    </tr>\n",
       "  </tbody>\n",
       "</table>\n",
       "</div>"
      ],
      "text/plain": [
       "        country  region           gdp    school      adfert  chldmort  \\\n",
       "0       Algeria  Africa   7300.399902  6.716667    7.300000     34.75   \n",
       "1         Benin  Africa   1338.800049  3.100000  111.699997    122.75   \n",
       "2      Botswana  Africa  12307.400391  8.600000   52.099998     60.25   \n",
       "3  Burkina Faso  Africa   1063.400024  1.300000  124.800003    170.50   \n",
       "4       Burundi  Africa    349.200012  2.483333   18.600000    168.50   \n",
       "\n",
       "        life       pop      urban  femlab   literacy   co2       gini  \\\n",
       "0  72.316666  34172236  64.933334  0.4522  72.599998  15.0        NaN   \n",
       "1  54.733334   8237634  41.000000  0.8482  41.700001   1.2        NaN   \n",
       "2  52.250000   1941233  59.250000  0.8870  84.099998   9.2        NaN   \n",
       "3  53.783333  15308383  23.583334  0.8584  23.600000   0.2        NaN   \n",
       "4  48.866665   7821783  10.250000  1.0344  66.599998   0.1  33.299999   \n",
       "\n",
       "   gdp_pesos2021  \n",
       "0   1.058558e+07  \n",
       "1   1.941260e+06  \n",
       "2   1.784573e+07  \n",
       "3   1.541930e+06  \n",
       "4   5.063400e+05  "
      ]
     },
     "execution_count": 299,
     "metadata": {},
     "output_type": "execute_result"
    }
   ],
   "source": [
    "df_nations.head()"
   ]
  },
  {
   "cell_type": "markdown",
   "metadata": {
    "id": "sOLiFcaLvdiF"
   },
   "source": [
    "### Para continuar con nuestro análisis de los datos, vamos a plantear una serie de interrogantes que guiarán el taller:\n",
    "1. ¿Qué tipos de atributos nos encontramos en el dataset?\n",
    "2. ¿Cuántos datos tenemos en cada región?\n",
    "3. ¿Cuántos países tienen índices de CO_2 mayores que el promedio?\n",
    "4. ¿Que se puede decir del alfabetismo en áfrica o europa?\n"
   ]
  },
  {
   "cell_type": "markdown",
   "metadata": {
    "id": "-IxorGlMyfS2"
   },
   "source": [
    "**Pregunta 1**\n",
    "Para saber los tipo de atributos contenidos en un dataset, podemos usar el método `info()` el cuál imprime un resumen conciso, informando el tipo de variables (categoricas, numéricas, string, etc) y además el número de valores no nulos de cada atributo y el uso de memoria."
   ]
  },
  {
   "cell_type": "code",
   "execution_count": 302,
   "metadata": {
    "colab": {
     "base_uri": "https://localhost:8080/"
    },
    "executionInfo": {
     "elapsed": 18,
     "status": "ok",
     "timestamp": 1691511784478,
     "user": {
      "displayName": "Victoria Salazar",
      "userId": "15244846171196193981"
     },
     "user_tz": 240
    },
    "id": "Bdrxu1cjBUcJ",
    "outputId": "e7790bae-c786-40af-f05a-5d1c84e4ab63"
   },
   "outputs": [
    {
     "name": "stdout",
     "output_type": "stream",
     "text": [
      "<class 'pandas.core.frame.DataFrame'>\n",
      "RangeIndex: 194 entries, 0 to 193\n",
      "Data columns (total 14 columns):\n",
      " #   Column         Non-Null Count  Dtype  \n",
      "---  ------         --------------  -----  \n",
      " 0   country        194 non-null    object \n",
      " 1   region         194 non-null    object \n",
      " 2   gdp            179 non-null    float64\n",
      " 3   school         188 non-null    float64\n",
      " 4   adfert         194 non-null    float64\n",
      " 5   chldmort       193 non-null    float64\n",
      " 6   life           194 non-null    float64\n",
      " 7   pop            194 non-null    int64  \n",
      " 8   urban          194 non-null    float64\n",
      " 9   femlab         177 non-null    float64\n",
      " 10  literacy       135 non-null    float64\n",
      " 11  co2            185 non-null    float64\n",
      " 12  gini           81 non-null     float64\n",
      " 13  gdp_pesos2021  179 non-null    float64\n",
      "dtypes: float64(11), int64(1), object(2)\n",
      "memory usage: 21.3+ KB\n"
     ]
    }
   ],
   "source": [
    "df_nations.info()"
   ]
  },
  {
   "cell_type": "markdown",
   "metadata": {
    "id": "17gUaIHgCn5N"
   },
   "source": [
    "Otro método muy útil cuando estamos explorando los datos, es `describe()`; el cuál calcula estadísticas básicas de los atributos numéricos (float o int), dejando fuera los atributos categóricos o cualitativos."
   ]
  },
  {
   "cell_type": "code",
   "execution_count": 304,
   "metadata": {
    "colab": {
     "base_uri": "https://localhost:8080/",
     "height": 364
    },
    "executionInfo": {
     "elapsed": 16,
     "status": "ok",
     "timestamp": 1691511784478,
     "user": {
      "displayName": "Victoria Salazar",
      "userId": "15244846171196193981"
     },
     "user_tz": 240
    },
    "id": "SMRY5j7TtznY",
    "outputId": "7c0bf794-248d-4d37-a1c6-5a496de2781a"
   },
   "outputs": [
    {
     "data": {
      "text/html": [
       "<div>\n",
       "<style scoped>\n",
       "    .dataframe tbody tr th:only-of-type {\n",
       "        vertical-align: middle;\n",
       "    }\n",
       "\n",
       "    .dataframe tbody tr th {\n",
       "        vertical-align: top;\n",
       "    }\n",
       "\n",
       "    .dataframe thead th {\n",
       "        text-align: right;\n",
       "    }\n",
       "</style>\n",
       "<table border=\"1\" class=\"dataframe\">\n",
       "  <thead>\n",
       "    <tr style=\"text-align: right;\">\n",
       "      <th></th>\n",
       "      <th>gdp</th>\n",
       "      <th>school</th>\n",
       "      <th>adfert</th>\n",
       "      <th>chldmort</th>\n",
       "      <th>life</th>\n",
       "      <th>pop</th>\n",
       "      <th>urban</th>\n",
       "      <th>femlab</th>\n",
       "      <th>literacy</th>\n",
       "      <th>co2</th>\n",
       "      <th>gini</th>\n",
       "      <th>gdp_pesos2021</th>\n",
       "    </tr>\n",
       "  </thead>\n",
       "  <tbody>\n",
       "    <tr>\n",
       "      <th>count</th>\n",
       "      <td>179.000000</td>\n",
       "      <td>188.000000</td>\n",
       "      <td>194.000000</td>\n",
       "      <td>193.000000</td>\n",
       "      <td>194.000000</td>\n",
       "      <td>1.940000e+02</td>\n",
       "      <td>194.000000</td>\n",
       "      <td>177.000000</td>\n",
       "      <td>135.000000</td>\n",
       "      <td>185.000000</td>\n",
       "      <td>81.000000</td>\n",
       "      <td>1.790000e+02</td>\n",
       "    </tr>\n",
       "    <tr>\n",
       "      <th>mean</th>\n",
       "      <td>12118.739193</td>\n",
       "      <td>7.459220</td>\n",
       "      <td>51.814433</td>\n",
       "      <td>47.650259</td>\n",
       "      <td>68.729295</td>\n",
       "      <td>3.437752e+07</td>\n",
       "      <td>55.434880</td>\n",
       "      <td>0.691606</td>\n",
       "      <td>81.533148</td>\n",
       "      <td>17.885946</td>\n",
       "      <td>40.477778</td>\n",
       "      <td>1.757217e+07</td>\n",
       "    </tr>\n",
       "    <tr>\n",
       "      <th>std</th>\n",
       "      <td>13942.341217</td>\n",
       "      <td>2.959589</td>\n",
       "      <td>44.066120</td>\n",
       "      <td>52.809400</td>\n",
       "      <td>10.055404</td>\n",
       "      <td>1.314004e+08</td>\n",
       "      <td>23.439101</td>\n",
       "      <td>0.182871</td>\n",
       "      <td>19.466359</td>\n",
       "      <td>25.670704</td>\n",
       "      <td>8.487874</td>\n",
       "      <td>2.021639e+07</td>\n",
       "    </tr>\n",
       "    <tr>\n",
       "      <th>min</th>\n",
       "      <td>279.799988</td>\n",
       "      <td>1.150000</td>\n",
       "      <td>1.000000</td>\n",
       "      <td>2.250000</td>\n",
       "      <td>45.849998</td>\n",
       "      <td>9.767000e+03</td>\n",
       "      <td>10.250000</td>\n",
       "      <td>0.194200</td>\n",
       "      <td>23.600000</td>\n",
       "      <td>0.100000</td>\n",
       "      <td>19.000000</td>\n",
       "      <td>4.057100e+05</td>\n",
       "    </tr>\n",
       "    <tr>\n",
       "      <th>25%</th>\n",
       "      <td>2100.300049</td>\n",
       "      <td>5.225000</td>\n",
       "      <td>16.500000</td>\n",
       "      <td>10.250000</td>\n",
       "      <td>63.745833</td>\n",
       "      <td>1.483754e+06</td>\n",
       "      <td>36.325000</td>\n",
       "      <td>0.578200</td>\n",
       "      <td>70.099998</td>\n",
       "      <td>2.250000</td>\n",
       "      <td>34.000000</td>\n",
       "      <td>3.045435e+06</td>\n",
       "    </tr>\n",
       "    <tr>\n",
       "      <th>50%</th>\n",
       "      <td>6932.799805</td>\n",
       "      <td>7.950000</td>\n",
       "      <td>39.350000</td>\n",
       "      <td>24.000000</td>\n",
       "      <td>72.183331</td>\n",
       "      <td>6.784909e+06</td>\n",
       "      <td>56.475000</td>\n",
       "      <td>0.730400</td>\n",
       "      <td>89.699997</td>\n",
       "      <td>8.450000</td>\n",
       "      <td>39.700001</td>\n",
       "      <td>1.005256e+07</td>\n",
       "    </tr>\n",
       "    <tr>\n",
       "      <th>75%</th>\n",
       "      <td>17576.299805</td>\n",
       "      <td>9.850000</td>\n",
       "      <td>74.375002</td>\n",
       "      <td>69.750000</td>\n",
       "      <td>75.545835</td>\n",
       "      <td>2.225532e+07</td>\n",
       "      <td>73.483334</td>\n",
       "      <td>0.820600</td>\n",
       "      <td>97.699997</td>\n",
       "      <td>25.000000</td>\n",
       "      <td>46.200001</td>\n",
       "      <td>2.548563e+07</td>\n",
       "    </tr>\n",
       "    <tr>\n",
       "      <th>max</th>\n",
       "      <td>74906.000000</td>\n",
       "      <td>12.700000</td>\n",
       "      <td>207.100006</td>\n",
       "      <td>209.000000</td>\n",
       "      <td>82.766663</td>\n",
       "      <td>1.324696e+09</td>\n",
       "      <td>100.000000</td>\n",
       "      <td>1.034400</td>\n",
       "      <td>100.000000</td>\n",
       "      <td>210.649994</td>\n",
       "      <td>58.500000</td>\n",
       "      <td>1.086137e+08</td>\n",
       "    </tr>\n",
       "  </tbody>\n",
       "</table>\n",
       "</div>"
      ],
      "text/plain": [
       "                gdp      school      adfert    chldmort        life  \\\n",
       "count    179.000000  188.000000  194.000000  193.000000  194.000000   \n",
       "mean   12118.739193    7.459220   51.814433   47.650259   68.729295   \n",
       "std    13942.341217    2.959589   44.066120   52.809400   10.055404   \n",
       "min      279.799988    1.150000    1.000000    2.250000   45.849998   \n",
       "25%     2100.300049    5.225000   16.500000   10.250000   63.745833   \n",
       "50%     6932.799805    7.950000   39.350000   24.000000   72.183331   \n",
       "75%    17576.299805    9.850000   74.375002   69.750000   75.545835   \n",
       "max    74906.000000   12.700000  207.100006  209.000000   82.766663   \n",
       "\n",
       "                pop       urban      femlab    literacy         co2  \\\n",
       "count  1.940000e+02  194.000000  177.000000  135.000000  185.000000   \n",
       "mean   3.437752e+07   55.434880    0.691606   81.533148   17.885946   \n",
       "std    1.314004e+08   23.439101    0.182871   19.466359   25.670704   \n",
       "min    9.767000e+03   10.250000    0.194200   23.600000    0.100000   \n",
       "25%    1.483754e+06   36.325000    0.578200   70.099998    2.250000   \n",
       "50%    6.784909e+06   56.475000    0.730400   89.699997    8.450000   \n",
       "75%    2.225532e+07   73.483334    0.820600   97.699997   25.000000   \n",
       "max    1.324696e+09  100.000000    1.034400  100.000000  210.649994   \n",
       "\n",
       "            gini  gdp_pesos2021  \n",
       "count  81.000000   1.790000e+02  \n",
       "mean   40.477778   1.757217e+07  \n",
       "std     8.487874   2.021639e+07  \n",
       "min    19.000000   4.057100e+05  \n",
       "25%    34.000000   3.045435e+06  \n",
       "50%    39.700001   1.005256e+07  \n",
       "75%    46.200001   2.548563e+07  \n",
       "max    58.500000   1.086137e+08  "
      ]
     },
     "execution_count": 304,
     "metadata": {},
     "output_type": "execute_result"
    }
   ],
   "source": [
    "df_nations.describe()"
   ]
  },
  {
   "cell_type": "code",
   "execution_count": 305,
   "metadata": {
    "colab": {
     "base_uri": "https://localhost:8080/"
    },
    "executionInfo": {
     "elapsed": 16,
     "status": "ok",
     "timestamp": 1691511784479,
     "user": {
      "displayName": "Victoria Salazar",
      "userId": "15244846171196193981"
     },
     "user_tz": 240
    },
    "id": "sVuRbcZftzql",
    "outputId": "569516d7-9788-4a8b-8ceb-f4c1171bd400"
   },
   "outputs": [
    {
     "data": {
      "text/plain": [
       "count    81.000000\n",
       "mean     40.477778\n",
       "std       8.487874\n",
       "min      19.000000\n",
       "25%      34.000000\n",
       "50%      39.700001\n",
       "75%      46.200001\n",
       "max      58.500000\n",
       "Name: gini, dtype: float64"
      ]
     },
     "execution_count": 305,
     "metadata": {},
     "output_type": "execute_result"
    }
   ],
   "source": [
    "# Si queremos observar sólo 1 atributo\n",
    "\n",
    "df_nations[\"gini\"].describe()"
   ]
  },
  {
   "cell_type": "code",
   "execution_count": 306,
   "metadata": {
    "colab": {
     "base_uri": "https://localhost:8080/"
    },
    "executionInfo": {
     "elapsed": 16,
     "status": "ok",
     "timestamp": 1691511784479,
     "user": {
      "displayName": "Victoria Salazar",
      "userId": "15244846171196193981"
     },
     "user_tz": 240
    },
    "id": "RGcUpxOiVb3z",
    "outputId": "891c4740-e4ee-47f4-b27d-900124881149"
   },
   "outputs": [
    {
     "data": {
      "text/plain": [
       "40.4777778107443"
      ]
     },
     "execution_count": 306,
     "metadata": {},
     "output_type": "execute_result"
    }
   ],
   "source": [
    "df_nations[\"gini\"].mean()"
   ]
  },
  {
   "cell_type": "code",
   "execution_count": 307,
   "metadata": {
    "colab": {
     "base_uri": "https://localhost:8080/"
    },
    "executionInfo": {
     "elapsed": 15,
     "status": "ok",
     "timestamp": 1691511784479,
     "user": {
      "displayName": "Victoria Salazar",
      "userId": "15244846171196193981"
     },
     "user_tz": 240
    },
    "id": "lzugrvwUVl8s",
    "outputId": "17e3ef00-5d49-4695-b87e-239f8c29cfc8"
   },
   "outputs": [
    {
     "data": {
      "text/plain": [
       "81"
      ]
     },
     "execution_count": 307,
     "metadata": {},
     "output_type": "execute_result"
    }
   ],
   "source": [
    "df_nations[\"gini\"].count()"
   ]
  },
  {
   "cell_type": "code",
   "execution_count": 308,
   "metadata": {
    "executionInfo": {
     "elapsed": 16,
     "status": "ok",
     "timestamp": 1691511784480,
     "user": {
      "displayName": "Victoria Salazar",
      "userId": "15244846171196193981"
     },
     "user_tz": 240
    },
    "id": "9QQ1AqQyDV5N"
   },
   "outputs": [],
   "source": [
    "# También se pueden usar métodos específicos como count(), mean(),  min() o max() para saber el valor específico del estadístico en una variable"
   ]
  },
  {
   "cell_type": "code",
   "execution_count": 309,
   "metadata": {
    "colab": {
     "base_uri": "https://localhost:8080/"
    },
    "executionInfo": {
     "elapsed": 16,
     "status": "ok",
     "timestamp": 1691511784480,
     "user": {
      "displayName": "Victoria Salazar",
      "userId": "15244846171196193981"
     },
     "user_tz": 240
    },
    "id": "XqR-3qa4DyuY",
    "outputId": "bad607b6-7510-4d98-c703-5dd37b8c7e5d"
   },
   "outputs": [
    {
     "data": {
      "text/plain": [
       "12118.739193367559"
      ]
     },
     "execution_count": 309,
     "metadata": {},
     "output_type": "execute_result"
    }
   ],
   "source": [
    "# ¿cómo calculamos el valor promedio de gdp en el dataset?\n",
    "df_nations[\"gdp\"].mean()"
   ]
  },
  {
   "cell_type": "code",
   "execution_count": 310,
   "metadata": {
    "colab": {
     "base_uri": "https://localhost:8080/"
    },
    "executionInfo": {
     "elapsed": 15,
     "status": "ok",
     "timestamp": 1691511784480,
     "user": {
      "displayName": "Victoria Salazar",
      "userId": "15244846171196193981"
     },
     "user_tz": 240
    },
    "id": "SdXe5gMAX1kU",
    "outputId": "e3188e62-994e-479c-e834-25a313b0decf"
   },
   "outputs": [
    {
     "data": {
      "text/plain": [
       "23.6000003814697"
      ]
     },
     "execution_count": 310,
     "metadata": {},
     "output_type": "execute_result"
    }
   ],
   "source": [
    "# ¿Y cuánto es la tasa más baja de alfabetistmo en el dataset?\n",
    "df_nations[\"literacy\"].min()"
   ]
  },
  {
   "cell_type": "markdown",
   "metadata": {
    "id": "fbQf_ENs0PSA"
   },
   "source": [
    "**Pregunta 2** ¿Cuántos datos tenemos en cada región?\n",
    "\n",
    "\n",
    "Si queremos saber cuántos datos tiene cada región, se puede hacer a través de una tabla de frecuencias"
   ]
  },
  {
   "cell_type": "code",
   "execution_count": 312,
   "metadata": {
    "colab": {
     "base_uri": "https://localhost:8080/"
    },
    "executionInfo": {
     "elapsed": 15,
     "status": "ok",
     "timestamp": 1691511784480,
     "user": {
      "displayName": "Victoria Salazar",
      "userId": "15244846171196193981"
     },
     "user_tz": 240
    },
    "id": "lH_Ekex1tzt2",
    "outputId": "fbb0122c-9468-47dc-db94-6e84664516ef"
   },
   "outputs": [
    {
     "data": {
      "text/plain": [
       "region\n",
       "Africa      52\n",
       "Asia        49\n",
       "Europe      43\n",
       "Americas    35\n",
       "Oceania     15\n",
       "Name: count, dtype: int64"
      ]
     },
     "execution_count": 312,
     "metadata": {},
     "output_type": "execute_result"
    }
   ],
   "source": [
    "#Para observar un atributo categórico usaremos una tabla de frecuencias\n",
    "df_nations[\"region\"].value_counts()"
   ]
  },
  {
   "cell_type": "code",
   "execution_count": 313,
   "metadata": {
    "colab": {
     "base_uri": "https://localhost:8080/",
     "height": 238
    },
    "executionInfo": {
     "elapsed": 538,
     "status": "ok",
     "timestamp": 1691511785003,
     "user": {
      "displayName": "Victoria Salazar",
      "userId": "15244846171196193981"
     },
     "user_tz": 240
    },
    "id": "7GiXPPEx_LlN",
    "outputId": "73784004-05ee-4ee4-bdfc-c911523f5b4b"
   },
   "outputs": [
    {
     "data": {
      "text/html": [
       "<div>\n",
       "<style scoped>\n",
       "    .dataframe tbody tr th:only-of-type {\n",
       "        vertical-align: middle;\n",
       "    }\n",
       "\n",
       "    .dataframe tbody tr th {\n",
       "        vertical-align: top;\n",
       "    }\n",
       "\n",
       "    .dataframe thead th {\n",
       "        text-align: right;\n",
       "    }\n",
       "</style>\n",
       "<table border=\"1\" class=\"dataframe\">\n",
       "  <thead>\n",
       "    <tr style=\"text-align: right;\">\n",
       "      <th></th>\n",
       "      <th>country</th>\n",
       "    </tr>\n",
       "    <tr>\n",
       "      <th>region</th>\n",
       "      <th></th>\n",
       "    </tr>\n",
       "  </thead>\n",
       "  <tbody>\n",
       "    <tr>\n",
       "      <th>Africa</th>\n",
       "      <td>52</td>\n",
       "    </tr>\n",
       "    <tr>\n",
       "      <th>Americas</th>\n",
       "      <td>35</td>\n",
       "    </tr>\n",
       "    <tr>\n",
       "      <th>Asia</th>\n",
       "      <td>49</td>\n",
       "    </tr>\n",
       "    <tr>\n",
       "      <th>Europe</th>\n",
       "      <td>43</td>\n",
       "    </tr>\n",
       "    <tr>\n",
       "      <th>Oceania</th>\n",
       "      <td>15</td>\n",
       "    </tr>\n",
       "  </tbody>\n",
       "</table>\n",
       "</div>"
      ],
      "text/plain": [
       "          country\n",
       "region           \n",
       "Africa         52\n",
       "Americas       35\n",
       "Asia           49\n",
       "Europe         43\n",
       "Oceania        15"
      ]
     },
     "execution_count": 313,
     "metadata": {},
     "output_type": "execute_result"
    }
   ],
   "source": [
    "# Otra forma de hacer este conteo, puede ser a través de una agrupación\n",
    "df_nations.groupby([\"region\"])[[\"country\"]].count()"
   ]
  },
  {
   "cell_type": "markdown",
   "metadata": {
    "id": "-tZ4eguD_wIv"
   },
   "source": [
    "Siguiendo con la manipulación de los datos, un método que nos ayuda a recodificar una variable (o crear una nueva a partir de una condición), es el método `where()`; el cual proviene de la librería numpy y nos permite decidir, a través de una condición, qué va en el lugar de aquellas filas que cumplen la condición, y qué va en el lugar de las filas que no cumplen la condición. La sintáxis correcta de uso sería:\n",
    "\n",
    "df_nations[\"variable\"] = **np.where**(_Condición_, valor si verdadero, valor si falso)"
   ]
  },
  {
   "cell_type": "code",
   "execution_count": 315,
   "metadata": {
    "executionInfo": {
     "elapsed": 18,
     "status": "ok",
     "timestamp": 1691511785003,
     "user": {
      "displayName": "Victoria Salazar",
      "userId": "15244846171196193981"
     },
     "user_tz": 240
    },
    "id": "AHTpIwVk_LiQ"
   },
   "outputs": [],
   "source": [
    "# Usando where(), crearemos una variable nueva de co2, en dónde identifiquemos qué países están por debajo de la media, y qué países por sobre la media.\n",
    "df_nations[\"co2_recodificada\"] = np.where(df_nations[\"co2\"]> df_nations[\"co2\"].mean(), 1, 0)"
   ]
  },
  {
   "cell_type": "code",
   "execution_count": 316,
   "metadata": {
    "colab": {
     "base_uri": "https://localhost:8080/",
     "height": 288
    },
    "executionInfo": {
     "elapsed": 18,
     "status": "ok",
     "timestamp": 1691511785004,
     "user": {
      "displayName": "Victoria Salazar",
      "userId": "15244846171196193981"
     },
     "user_tz": 240
    },
    "id": "W-kimvbI7rKY",
    "outputId": "0ce3533a-5cf7-4696-e090-6da9cf0b8460"
   },
   "outputs": [
    {
     "data": {
      "text/html": [
       "<div>\n",
       "<style scoped>\n",
       "    .dataframe tbody tr th:only-of-type {\n",
       "        vertical-align: middle;\n",
       "    }\n",
       "\n",
       "    .dataframe tbody tr th {\n",
       "        vertical-align: top;\n",
       "    }\n",
       "\n",
       "    .dataframe thead th {\n",
       "        text-align: right;\n",
       "    }\n",
       "</style>\n",
       "<table border=\"1\" class=\"dataframe\">\n",
       "  <thead>\n",
       "    <tr style=\"text-align: right;\">\n",
       "      <th></th>\n",
       "      <th>country</th>\n",
       "      <th>region</th>\n",
       "      <th>gdp</th>\n",
       "      <th>school</th>\n",
       "      <th>adfert</th>\n",
       "      <th>chldmort</th>\n",
       "      <th>life</th>\n",
       "      <th>pop</th>\n",
       "      <th>urban</th>\n",
       "      <th>femlab</th>\n",
       "      <th>literacy</th>\n",
       "      <th>co2</th>\n",
       "      <th>gini</th>\n",
       "      <th>gdp_pesos2021</th>\n",
       "      <th>co2_recodificada</th>\n",
       "    </tr>\n",
       "  </thead>\n",
       "  <tbody>\n",
       "    <tr>\n",
       "      <th>0</th>\n",
       "      <td>Algeria</td>\n",
       "      <td>Africa</td>\n",
       "      <td>7300.399902</td>\n",
       "      <td>6.716667</td>\n",
       "      <td>7.300000</td>\n",
       "      <td>34.75</td>\n",
       "      <td>72.316666</td>\n",
       "      <td>34172236</td>\n",
       "      <td>64.933334</td>\n",
       "      <td>0.4522</td>\n",
       "      <td>72.599998</td>\n",
       "      <td>15.0</td>\n",
       "      <td>NaN</td>\n",
       "      <td>1.058558e+07</td>\n",
       "      <td>0</td>\n",
       "    </tr>\n",
       "    <tr>\n",
       "      <th>1</th>\n",
       "      <td>Benin</td>\n",
       "      <td>Africa</td>\n",
       "      <td>1338.800049</td>\n",
       "      <td>3.100000</td>\n",
       "      <td>111.699997</td>\n",
       "      <td>122.75</td>\n",
       "      <td>54.733334</td>\n",
       "      <td>8237634</td>\n",
       "      <td>41.000000</td>\n",
       "      <td>0.8482</td>\n",
       "      <td>41.700001</td>\n",
       "      <td>1.2</td>\n",
       "      <td>NaN</td>\n",
       "      <td>1.941260e+06</td>\n",
       "      <td>0</td>\n",
       "    </tr>\n",
       "    <tr>\n",
       "      <th>2</th>\n",
       "      <td>Botswana</td>\n",
       "      <td>Africa</td>\n",
       "      <td>12307.400391</td>\n",
       "      <td>8.600000</td>\n",
       "      <td>52.099998</td>\n",
       "      <td>60.25</td>\n",
       "      <td>52.250000</td>\n",
       "      <td>1941233</td>\n",
       "      <td>59.250000</td>\n",
       "      <td>0.8870</td>\n",
       "      <td>84.099998</td>\n",
       "      <td>9.2</td>\n",
       "      <td>NaN</td>\n",
       "      <td>1.784573e+07</td>\n",
       "      <td>0</td>\n",
       "    </tr>\n",
       "    <tr>\n",
       "      <th>3</th>\n",
       "      <td>Burkina Faso</td>\n",
       "      <td>Africa</td>\n",
       "      <td>1063.400024</td>\n",
       "      <td>1.300000</td>\n",
       "      <td>124.800003</td>\n",
       "      <td>170.50</td>\n",
       "      <td>53.783333</td>\n",
       "      <td>15308383</td>\n",
       "      <td>23.583334</td>\n",
       "      <td>0.8584</td>\n",
       "      <td>23.600000</td>\n",
       "      <td>0.2</td>\n",
       "      <td>NaN</td>\n",
       "      <td>1.541930e+06</td>\n",
       "      <td>0</td>\n",
       "    </tr>\n",
       "    <tr>\n",
       "      <th>4</th>\n",
       "      <td>Burundi</td>\n",
       "      <td>Africa</td>\n",
       "      <td>349.200012</td>\n",
       "      <td>2.483333</td>\n",
       "      <td>18.600000</td>\n",
       "      <td>168.50</td>\n",
       "      <td>48.866665</td>\n",
       "      <td>7821783</td>\n",
       "      <td>10.250000</td>\n",
       "      <td>1.0344</td>\n",
       "      <td>66.599998</td>\n",
       "      <td>0.1</td>\n",
       "      <td>33.299999</td>\n",
       "      <td>5.063400e+05</td>\n",
       "      <td>0</td>\n",
       "    </tr>\n",
       "  </tbody>\n",
       "</table>\n",
       "</div>"
      ],
      "text/plain": [
       "        country  region           gdp    school      adfert  chldmort  \\\n",
       "0       Algeria  Africa   7300.399902  6.716667    7.300000     34.75   \n",
       "1         Benin  Africa   1338.800049  3.100000  111.699997    122.75   \n",
       "2      Botswana  Africa  12307.400391  8.600000   52.099998     60.25   \n",
       "3  Burkina Faso  Africa   1063.400024  1.300000  124.800003    170.50   \n",
       "4       Burundi  Africa    349.200012  2.483333   18.600000    168.50   \n",
       "\n",
       "        life       pop      urban  femlab   literacy   co2       gini  \\\n",
       "0  72.316666  34172236  64.933334  0.4522  72.599998  15.0        NaN   \n",
       "1  54.733334   8237634  41.000000  0.8482  41.700001   1.2        NaN   \n",
       "2  52.250000   1941233  59.250000  0.8870  84.099998   9.2        NaN   \n",
       "3  53.783333  15308383  23.583334  0.8584  23.600000   0.2        NaN   \n",
       "4  48.866665   7821783  10.250000  1.0344  66.599998   0.1  33.299999   \n",
       "\n",
       "   gdp_pesos2021  co2_recodificada  \n",
       "0   1.058558e+07                 0  \n",
       "1   1.941260e+06                 0  \n",
       "2   1.784573e+07                 0  \n",
       "3   1.541930e+06                 0  \n",
       "4   5.063400e+05                 0  "
      ]
     },
     "execution_count": 316,
     "metadata": {},
     "output_type": "execute_result"
    }
   ],
   "source": [
    "df_nations.head()"
   ]
  },
  {
   "cell_type": "code",
   "execution_count": 317,
   "metadata": {
    "colab": {
     "base_uri": "https://localhost:8080/"
    },
    "executionInfo": {
     "elapsed": 18,
     "status": "ok",
     "timestamp": 1691511785005,
     "user": {
      "displayName": "Victoria Salazar",
      "userId": "15244846171196193981"
     },
     "user_tz": 240
    },
    "id": "xl3ffCN2EJ0k",
    "outputId": "1367da6f-5646-45ef-9cc2-4a9c0da61e9e"
   },
   "outputs": [
    {
     "data": {
      "text/plain": [
       "co2_recodificada\n",
       "0    130\n",
       "1     64\n",
       "Name: count, dtype: int64"
      ]
     },
     "execution_count": 317,
     "metadata": {},
     "output_type": "execute_result"
    }
   ],
   "source": [
    "# Para observar los resultados, podemos hacer una tabla de frecuencias\n",
    "df_nations[\"co2_recodificada\"].value_counts()"
   ]
  },
  {
   "cell_type": "markdown",
   "metadata": {
    "id": "znOJQMMLEkBz"
   },
   "source": [
    "Con lo anterior podemos dar respuesta a la **Pregunta 3**\n",
    "¿Cuántos países tienen índices de _co2_ mayores a la media?"
   ]
  },
  {
   "cell_type": "code",
   "execution_count": 319,
   "metadata": {
    "colab": {
     "base_uri": "https://localhost:8080/"
    },
    "executionInfo": {
     "elapsed": 17,
     "status": "ok",
     "timestamp": 1691511785005,
     "user": {
      "displayName": "Victoria Salazar",
      "userId": "15244846171196193981"
     },
     "user_tz": 240
    },
    "id": "HGjsg3Sy8EW1",
    "outputId": "e398269c-5da7-4d0a-d0ea-bcd36818fc70"
   },
   "outputs": [
    {
     "data": {
      "text/plain": [
       "64"
      ]
     },
     "execution_count": 319,
     "metadata": {},
     "output_type": "execute_result"
    }
   ],
   "source": [
    "df_nations['co2_recodificada'].value_counts()[1]"
   ]
  },
  {
   "cell_type": "code",
   "execution_count": 320,
   "metadata": {
    "colab": {
     "base_uri": "https://localhost:8080/"
    },
    "executionInfo": {
     "elapsed": 17,
     "status": "ok",
     "timestamp": 1691511785005,
     "user": {
      "displayName": "Victoria Salazar",
      "userId": "15244846171196193981"
     },
     "user_tz": 240
    },
    "id": "YbPyi2aF_LfF",
    "outputId": "6f86b3eb-9a8d-4de2-8030-6f003b6be292"
   },
   "outputs": [
    {
     "name": "stdout",
     "output_type": "stream",
     "text": [
      "Existen 64 países con índices de co2 mayores a la media\n"
     ]
    }
   ],
   "source": [
    "print(\"Existen \" + str(df_nations['co2_recodificada'].value_counts()[1]) + \" países con índices de co2 mayores a la media\")"
   ]
  },
  {
   "cell_type": "code",
   "execution_count": 321,
   "metadata": {
    "executionInfo": {
     "elapsed": 19,
     "status": "ok",
     "timestamp": 1691511785008,
     "user": {
      "displayName": "Victoria Salazar",
      "userId": "15244846171196193981"
     },
     "user_tz": 240
    },
    "id": "NBGYIRUX_Lcg"
   },
   "outputs": [],
   "source": [
    "# Una variación del método value_counts() es que si pones un caracter dentro del paréntesis, te mostrará los datos en porcentaje:"
   ]
  },
  {
   "cell_type": "code",
   "execution_count": 322,
   "metadata": {
    "colab": {
     "base_uri": "https://localhost:8080/"
    },
    "executionInfo": {
     "elapsed": 20,
     "status": "ok",
     "timestamp": 1691511785009,
     "user": {
      "displayName": "Victoria Salazar",
      "userId": "15244846171196193981"
     },
     "user_tz": 240
    },
    "id": "9NENfrg4_LZX",
    "outputId": "462757e3-5dca-4f43-825f-e67ec813ca21"
   },
   "outputs": [
    {
     "data": {
      "text/plain": [
       "co2_recodificada\n",
       "0    0.670103\n",
       "1    0.329897\n",
       "Name: proportion, dtype: float64"
      ]
     },
     "execution_count": 322,
     "metadata": {},
     "output_type": "execute_result"
    }
   ],
   "source": [
    "df_nations[\"co2_recodificada\"].value_counts(\"%\")"
   ]
  },
  {
   "cell_type": "markdown",
   "metadata": {
    "id": "JhqV3pjoHHVL"
   },
   "source": [
    "**Pregunta 4** ¿Que se puede decir del alfabetismo en áfrica o europa?\n",
    "\n",
    "Para analizar un grupo específico de la muestra podemos utilizar filtros"
   ]
  },
  {
   "cell_type": "code",
   "execution_count": 324,
   "metadata": {
    "colab": {
     "base_uri": "https://localhost:8080/",
     "height": 1000
    },
    "executionInfo": {
     "elapsed": 19,
     "status": "ok",
     "timestamp": 1691511785009,
     "user": {
      "displayName": "Victoria Salazar",
      "userId": "15244846171196193981"
     },
     "user_tz": 240
    },
    "id": "bhHVToHL_LWt",
    "outputId": "561db527-f69e-442f-cb3b-3211313116de"
   },
   "outputs": [
    {
     "data": {
      "text/html": [
       "<div>\n",
       "<style scoped>\n",
       "    .dataframe tbody tr th:only-of-type {\n",
       "        vertical-align: middle;\n",
       "    }\n",
       "\n",
       "    .dataframe tbody tr th {\n",
       "        vertical-align: top;\n",
       "    }\n",
       "\n",
       "    .dataframe thead th {\n",
       "        text-align: right;\n",
       "    }\n",
       "</style>\n",
       "<table border=\"1\" class=\"dataframe\">\n",
       "  <thead>\n",
       "    <tr style=\"text-align: right;\">\n",
       "      <th></th>\n",
       "      <th>country</th>\n",
       "      <th>region</th>\n",
       "      <th>gdp</th>\n",
       "      <th>school</th>\n",
       "      <th>adfert</th>\n",
       "      <th>chldmort</th>\n",
       "      <th>life</th>\n",
       "      <th>pop</th>\n",
       "      <th>urban</th>\n",
       "      <th>femlab</th>\n",
       "      <th>literacy</th>\n",
       "      <th>co2</th>\n",
       "      <th>gini</th>\n",
       "      <th>gdp_pesos2021</th>\n",
       "      <th>co2_recodificada</th>\n",
       "    </tr>\n",
       "  </thead>\n",
       "  <tbody>\n",
       "    <tr>\n",
       "      <th>0</th>\n",
       "      <td>Algeria</td>\n",
       "      <td>Africa</td>\n",
       "      <td>7300.399902</td>\n",
       "      <td>6.716667</td>\n",
       "      <td>7.300000</td>\n",
       "      <td>34.75</td>\n",
       "      <td>72.316666</td>\n",
       "      <td>34172236</td>\n",
       "      <td>64.933334</td>\n",
       "      <td>0.4522</td>\n",
       "      <td>72.599998</td>\n",
       "      <td>15.000000</td>\n",
       "      <td>NaN</td>\n",
       "      <td>1.058558e+07</td>\n",
       "      <td>0</td>\n",
       "    </tr>\n",
       "    <tr>\n",
       "      <th>1</th>\n",
       "      <td>Benin</td>\n",
       "      <td>Africa</td>\n",
       "      <td>1338.800049</td>\n",
       "      <td>3.100000</td>\n",
       "      <td>111.699997</td>\n",
       "      <td>122.75</td>\n",
       "      <td>54.733334</td>\n",
       "      <td>8237634</td>\n",
       "      <td>41.000000</td>\n",
       "      <td>0.8482</td>\n",
       "      <td>41.700001</td>\n",
       "      <td>1.200000</td>\n",
       "      <td>NaN</td>\n",
       "      <td>1.941260e+06</td>\n",
       "      <td>0</td>\n",
       "    </tr>\n",
       "    <tr>\n",
       "      <th>2</th>\n",
       "      <td>Botswana</td>\n",
       "      <td>Africa</td>\n",
       "      <td>12307.400391</td>\n",
       "      <td>8.600000</td>\n",
       "      <td>52.099998</td>\n",
       "      <td>60.25</td>\n",
       "      <td>52.250000</td>\n",
       "      <td>1941233</td>\n",
       "      <td>59.250000</td>\n",
       "      <td>0.8870</td>\n",
       "      <td>84.099998</td>\n",
       "      <td>9.200000</td>\n",
       "      <td>NaN</td>\n",
       "      <td>1.784573e+07</td>\n",
       "      <td>0</td>\n",
       "    </tr>\n",
       "    <tr>\n",
       "      <th>3</th>\n",
       "      <td>Burkina Faso</td>\n",
       "      <td>Africa</td>\n",
       "      <td>1063.400024</td>\n",
       "      <td>1.300000</td>\n",
       "      <td>124.800003</td>\n",
       "      <td>170.50</td>\n",
       "      <td>53.783333</td>\n",
       "      <td>15308383</td>\n",
       "      <td>23.583334</td>\n",
       "      <td>0.8584</td>\n",
       "      <td>23.600000</td>\n",
       "      <td>0.200000</td>\n",
       "      <td>NaN</td>\n",
       "      <td>1.541930e+06</td>\n",
       "      <td>0</td>\n",
       "    </tr>\n",
       "    <tr>\n",
       "      <th>4</th>\n",
       "      <td>Burundi</td>\n",
       "      <td>Africa</td>\n",
       "      <td>349.200012</td>\n",
       "      <td>2.483333</td>\n",
       "      <td>18.600000</td>\n",
       "      <td>168.50</td>\n",
       "      <td>48.866665</td>\n",
       "      <td>7821783</td>\n",
       "      <td>10.250000</td>\n",
       "      <td>1.0344</td>\n",
       "      <td>66.599998</td>\n",
       "      <td>0.100000</td>\n",
       "      <td>33.299999</td>\n",
       "      <td>5.063400e+05</td>\n",
       "      <td>0</td>\n",
       "    </tr>\n",
       "    <tr>\n",
       "      <th>5</th>\n",
       "      <td>Cameroon</td>\n",
       "      <td>Africa</td>\n",
       "      <td>1986.800049</td>\n",
       "      <td>5.650000</td>\n",
       "      <td>127.800003</td>\n",
       "      <td>155.00</td>\n",
       "      <td>50.116665</td>\n",
       "      <td>18564118</td>\n",
       "      <td>56.366665</td>\n",
       "      <td>0.6532</td>\n",
       "      <td>NaN</td>\n",
       "      <td>0.750000</td>\n",
       "      <td>NaN</td>\n",
       "      <td>2.880860e+06</td>\n",
       "      <td>0</td>\n",
       "    </tr>\n",
       "    <tr>\n",
       "      <th>6</th>\n",
       "      <td>Cape Verde</td>\n",
       "      <td>Africa</td>\n",
       "      <td>3052.199951</td>\n",
       "      <td>3.500000</td>\n",
       "      <td>81.599998</td>\n",
       "      <td>30.00</td>\n",
       "      <td>73.333336</td>\n",
       "      <td>484867</td>\n",
       "      <td>59.283333</td>\n",
       "      <td>0.6358</td>\n",
       "      <td>84.800003</td>\n",
       "      <td>2.150000</td>\n",
       "      <td>NaN</td>\n",
       "      <td>4.425690e+06</td>\n",
       "      <td>0</td>\n",
       "    </tr>\n",
       "    <tr>\n",
       "      <th>7</th>\n",
       "      <td>Central African Rep</td>\n",
       "      <td>Africa</td>\n",
       "      <td>677.000000</td>\n",
       "      <td>3.383333</td>\n",
       "      <td>106.599998</td>\n",
       "      <td>173.50</td>\n",
       "      <td>45.933334</td>\n",
       "      <td>4203917</td>\n",
       "      <td>38.466667</td>\n",
       "      <td>0.8222</td>\n",
       "      <td>55.200001</td>\n",
       "      <td>0.200000</td>\n",
       "      <td>NaN</td>\n",
       "      <td>9.816500e+05</td>\n",
       "      <td>0</td>\n",
       "    </tr>\n",
       "    <tr>\n",
       "      <th>8</th>\n",
       "      <td>Chad</td>\n",
       "      <td>Africa</td>\n",
       "      <td>1266.199951</td>\n",
       "      <td>1.500000</td>\n",
       "      <td>164.500000</td>\n",
       "      <td>209.00</td>\n",
       "      <td>48.566666</td>\n",
       "      <td>10509983</td>\n",
       "      <td>26.400000</td>\n",
       "      <td>0.8006</td>\n",
       "      <td>33.599998</td>\n",
       "      <td>0.100000</td>\n",
       "      <td>NaN</td>\n",
       "      <td>1.835990e+06</td>\n",
       "      <td>0</td>\n",
       "    </tr>\n",
       "    <tr>\n",
       "      <th>9</th>\n",
       "      <td>Comoros</td>\n",
       "      <td>Africa</td>\n",
       "      <td>1099.000000</td>\n",
       "      <td>2.800000</td>\n",
       "      <td>58.000000</td>\n",
       "      <td>105.75</td>\n",
       "      <td>59.783333</td>\n",
       "      <td>688300</td>\n",
       "      <td>28.000000</td>\n",
       "      <td>0.8554</td>\n",
       "      <td>74.199997</td>\n",
       "      <td>0.400000</td>\n",
       "      <td>NaN</td>\n",
       "      <td>1.593550e+06</td>\n",
       "      <td>0</td>\n",
       "    </tr>\n",
       "    <tr>\n",
       "      <th>10</th>\n",
       "      <td>Congo</td>\n",
       "      <td>Africa</td>\n",
       "      <td>3628.000000</td>\n",
       "      <td>5.850000</td>\n",
       "      <td>118.699997</td>\n",
       "      <td>125.75</td>\n",
       "      <td>56.016666</td>\n",
       "      <td>3785517</td>\n",
       "      <td>61.133331</td>\n",
       "      <td>0.7544</td>\n",
       "      <td>NaN</td>\n",
       "      <td>1.550000</td>\n",
       "      <td>47.299999</td>\n",
       "      <td>5.260600e+06</td>\n",
       "      <td>0</td>\n",
       "    </tr>\n",
       "    <tr>\n",
       "      <th>11</th>\n",
       "      <td>Congo (Dem Rep)</td>\n",
       "      <td>Africa</td>\n",
       "      <td>279.799988</td>\n",
       "      <td>3.416667</td>\n",
       "      <td>201.399994</td>\n",
       "      <td>199.00</td>\n",
       "      <td>47.516666</td>\n",
       "      <td>61654348</td>\n",
       "      <td>33.633331</td>\n",
       "      <td>0.6552</td>\n",
       "      <td>66.800003</td>\n",
       "      <td>0.100000</td>\n",
       "      <td>44.400002</td>\n",
       "      <td>4.057100e+05</td>\n",
       "      <td>0</td>\n",
       "    </tr>\n",
       "    <tr>\n",
       "      <th>12</th>\n",
       "      <td>Côte d'Ivoire</td>\n",
       "      <td>Africa</td>\n",
       "      <td>1539.199951</td>\n",
       "      <td>3.200000</td>\n",
       "      <td>129.399994</td>\n",
       "      <td>123.25</td>\n",
       "      <td>53.049999</td>\n",
       "      <td>18844750</td>\n",
       "      <td>48.666664</td>\n",
       "      <td>0.6132</td>\n",
       "      <td>55.299999</td>\n",
       "      <td>1.450000</td>\n",
       "      <td>46.099998</td>\n",
       "      <td>2.231840e+06</td>\n",
       "      <td>0</td>\n",
       "    </tr>\n",
       "    <tr>\n",
       "      <th>13</th>\n",
       "      <td>Djibouti</td>\n",
       "      <td>Africa</td>\n",
       "      <td>1972.199951</td>\n",
       "      <td>3.800000</td>\n",
       "      <td>22.900000</td>\n",
       "      <td>96.00</td>\n",
       "      <td>56.599998</td>\n",
       "      <td>848000</td>\n",
       "      <td>76.099998</td>\n",
       "      <td>0.7636</td>\n",
       "      <td>NaN</td>\n",
       "      <td>2.200000</td>\n",
       "      <td>NaN</td>\n",
       "      <td>2.859690e+06</td>\n",
       "      <td>0</td>\n",
       "    </tr>\n",
       "    <tr>\n",
       "      <th>14</th>\n",
       "      <td>Egypt</td>\n",
       "      <td>Africa</td>\n",
       "      <td>4754.399902</td>\n",
       "      <td>5.950000</td>\n",
       "      <td>46.599998</td>\n",
       "      <td>24.75</td>\n",
       "      <td>72.333336</td>\n",
       "      <td>77645648</td>\n",
       "      <td>43.183334</td>\n",
       "      <td>0.3092</td>\n",
       "      <td>68.900002</td>\n",
       "      <td>8.450000</td>\n",
       "      <td>32.099998</td>\n",
       "      <td>6.893880e+06</td>\n",
       "      <td>0</td>\n",
       "    </tr>\n",
       "    <tr>\n",
       "      <th>15</th>\n",
       "      <td>Equatorial Guinea</td>\n",
       "      <td>Africa</td>\n",
       "      <td>27645.800781</td>\n",
       "      <td>5.400000</td>\n",
       "      <td>122.900002</td>\n",
       "      <td>149.50</td>\n",
       "      <td>50.066666</td>\n",
       "      <td>653533</td>\n",
       "      <td>39.266666</td>\n",
       "      <td>0.4140</td>\n",
       "      <td>93.300003</td>\n",
       "      <td>32.550003</td>\n",
       "      <td>NaN</td>\n",
       "      <td>4.008641e+07</td>\n",
       "      <td>1</td>\n",
       "    </tr>\n",
       "    <tr>\n",
       "      <th>16</th>\n",
       "      <td>Eritrea</td>\n",
       "      <td>Africa</td>\n",
       "      <td>579.599976</td>\n",
       "      <td>3.400000</td>\n",
       "      <td>66.599998</td>\n",
       "      <td>60.50</td>\n",
       "      <td>60.016666</td>\n",
       "      <td>4871634</td>\n",
       "      <td>20.450001</td>\n",
       "      <td>0.7252</td>\n",
       "      <td>66.599998</td>\n",
       "      <td>0.500000</td>\n",
       "      <td>NaN</td>\n",
       "      <td>8.404200e+05</td>\n",
       "      <td>0</td>\n",
       "    </tr>\n",
       "    <tr>\n",
       "      <th>17</th>\n",
       "      <td>Ethiopia</td>\n",
       "      <td>Africa</td>\n",
       "      <td>741.400024</td>\n",
       "      <td>1.500000</td>\n",
       "      <td>72.400002</td>\n",
       "      <td>112.00</td>\n",
       "      <td>57.049999</td>\n",
       "      <td>78593232</td>\n",
       "      <td>16.283333</td>\n",
       "      <td>0.8700</td>\n",
       "      <td>29.799999</td>\n",
       "      <td>0.300000</td>\n",
       "      <td>29.799999</td>\n",
       "      <td>1.075030e+06</td>\n",
       "      <td>0</td>\n",
       "    </tr>\n",
       "    <tr>\n",
       "      <th>18</th>\n",
       "      <td>Gabon</td>\n",
       "      <td>Africa</td>\n",
       "      <td>13183.200195</td>\n",
       "      <td>7.183333</td>\n",
       "      <td>89.900002</td>\n",
       "      <td>72.50</td>\n",
       "      <td>61.150002</td>\n",
       "      <td>1437467</td>\n",
       "      <td>84.883331</td>\n",
       "      <td>0.8404</td>\n",
       "      <td>87.699997</td>\n",
       "      <td>5.550000</td>\n",
       "      <td>41.500000</td>\n",
       "      <td>1.911564e+07</td>\n",
       "      <td>0</td>\n",
       "    </tr>\n",
       "    <tr>\n",
       "      <th>19</th>\n",
       "      <td>Gambia</td>\n",
       "      <td>Africa</td>\n",
       "      <td>1218.400024</td>\n",
       "      <td>2.550000</td>\n",
       "      <td>76.599998</td>\n",
       "      <td>108.25</td>\n",
       "      <td>57.366669</td>\n",
       "      <td>1614767</td>\n",
       "      <td>56.049999</td>\n",
       "      <td>0.8264</td>\n",
       "      <td>46.500000</td>\n",
       "      <td>0.700000</td>\n",
       "      <td>NaN</td>\n",
       "      <td>1.766680e+06</td>\n",
       "      <td>0</td>\n",
       "    </tr>\n",
       "    <tr>\n",
       "      <th>20</th>\n",
       "      <td>Ghana</td>\n",
       "      <td>Africa</td>\n",
       "      <td>1303.000000</td>\n",
       "      <td>6.783333</td>\n",
       "      <td>71.099998</td>\n",
       "      <td>75.25</td>\n",
       "      <td>62.516666</td>\n",
       "      <td>23000534</td>\n",
       "      <td>49.633331</td>\n",
       "      <td>0.9770</td>\n",
       "      <td>66.599998</td>\n",
       "      <td>1.350000</td>\n",
       "      <td>42.799999</td>\n",
       "      <td>1.889350e+06</td>\n",
       "      <td>0</td>\n",
       "    </tr>\n",
       "    <tr>\n",
       "      <th>21</th>\n",
       "      <td>Guinea</td>\n",
       "      <td>Africa</td>\n",
       "      <td>957.599976</td>\n",
       "      <td>1.600000</td>\n",
       "      <td>157.399994</td>\n",
       "      <td>149.50</td>\n",
       "      <td>52.416668</td>\n",
       "      <td>9486467</td>\n",
       "      <td>34.166668</td>\n",
       "      <td>0.8850</td>\n",
       "      <td>39.500000</td>\n",
       "      <td>0.550000</td>\n",
       "      <td>39.400002</td>\n",
       "      <td>1.388520e+06</td>\n",
       "      <td>0</td>\n",
       "    </tr>\n",
       "    <tr>\n",
       "      <th>22</th>\n",
       "      <td>Guinea-Bissau</td>\n",
       "      <td>Africa</td>\n",
       "      <td>967.599976</td>\n",
       "      <td>2.300000</td>\n",
       "      <td>111.099998</td>\n",
       "      <td>197.50</td>\n",
       "      <td>46.866669</td>\n",
       "      <td>1440083</td>\n",
       "      <td>29.766666</td>\n",
       "      <td>0.7114</td>\n",
       "      <td>52.200001</td>\n",
       "      <td>0.600000</td>\n",
       "      <td>NaN</td>\n",
       "      <td>1.403020e+06</td>\n",
       "      <td>0</td>\n",
       "    </tr>\n",
       "    <tr>\n",
       "      <th>23</th>\n",
       "      <td>Kenya</td>\n",
       "      <td>Africa</td>\n",
       "      <td>1405.400024</td>\n",
       "      <td>6.750000</td>\n",
       "      <td>100.199997</td>\n",
       "      <td>87.75</td>\n",
       "      <td>54.816666</td>\n",
       "      <td>38011832</td>\n",
       "      <td>21.450001</td>\n",
       "      <td>0.8626</td>\n",
       "      <td>87.000000</td>\n",
       "      <td>1.150000</td>\n",
       "      <td>47.700001</td>\n",
       "      <td>2.037830e+06</td>\n",
       "      <td>0</td>\n",
       "    </tr>\n",
       "    <tr>\n",
       "      <th>24</th>\n",
       "      <td>Lesotho</td>\n",
       "      <td>Africa</td>\n",
       "      <td>1284.400024</td>\n",
       "      <td>5.583333</td>\n",
       "      <td>73.500000</td>\n",
       "      <td>98.25</td>\n",
       "      <td>45.849998</td>\n",
       "      <td>2117567</td>\n",
       "      <td>25.066666</td>\n",
       "      <td>0.8990</td>\n",
       "      <td>89.699997</td>\n",
       "      <td>NaN</td>\n",
       "      <td>NaN</td>\n",
       "      <td>1.862380e+06</td>\n",
       "      <td>0</td>\n",
       "    </tr>\n",
       "    <tr>\n",
       "      <th>25</th>\n",
       "      <td>Liberia</td>\n",
       "      <td>Africa</td>\n",
       "      <td>345.000000</td>\n",
       "      <td>3.650000</td>\n",
       "      <td>142.600006</td>\n",
       "      <td>125.50</td>\n",
       "      <td>54.233334</td>\n",
       "      <td>3576984</td>\n",
       "      <td>46.916668</td>\n",
       "      <td>0.8746</td>\n",
       "      <td>59.099998</td>\n",
       "      <td>0.800000</td>\n",
       "      <td>52.599998</td>\n",
       "      <td>5.002500e+05</td>\n",
       "      <td>0</td>\n",
       "    </tr>\n",
       "    <tr>\n",
       "      <th>26</th>\n",
       "      <td>Libya</td>\n",
       "      <td>Africa</td>\n",
       "      <td>14497.799805</td>\n",
       "      <td>6.816667</td>\n",
       "      <td>3.200000</td>\n",
       "      <td>19.75</td>\n",
       "      <td>74.016663</td>\n",
       "      <td>6075651</td>\n",
       "      <td>77.433334</td>\n",
       "      <td>0.3096</td>\n",
       "      <td>88.900002</td>\n",
       "      <td>33.849998</td>\n",
       "      <td>NaN</td>\n",
       "      <td>2.102181e+07</td>\n",
       "      <td>1</td>\n",
       "    </tr>\n",
       "    <tr>\n",
       "      <th>27</th>\n",
       "      <td>Madagascar</td>\n",
       "      <td>Africa</td>\n",
       "      <td>919.799988</td>\n",
       "      <td>5.200000</td>\n",
       "      <td>134.300003</td>\n",
       "      <td>64.50</td>\n",
       "      <td>65.483337</td>\n",
       "      <td>19279600</td>\n",
       "      <td>29.316666</td>\n",
       "      <td>0.9466</td>\n",
       "      <td>64.500000</td>\n",
       "      <td>0.550000</td>\n",
       "      <td>47.200001</td>\n",
       "      <td>1.333710e+06</td>\n",
       "      <td>0</td>\n",
       "    </tr>\n",
       "    <tr>\n",
       "      <th>28</th>\n",
       "      <td>Malawi</td>\n",
       "      <td>Africa</td>\n",
       "      <td>660.400024</td>\n",
       "      <td>3.816667</td>\n",
       "      <td>119.199997</td>\n",
       "      <td>120.25</td>\n",
       "      <td>51.316666</td>\n",
       "      <td>13825916</td>\n",
       "      <td>18.549999</td>\n",
       "      <td>0.9520</td>\n",
       "      <td>73.699997</td>\n",
       "      <td>0.300000</td>\n",
       "      <td>NaN</td>\n",
       "      <td>9.575800e+05</td>\n",
       "      <td>0</td>\n",
       "    </tr>\n",
       "    <tr>\n",
       "      <th>29</th>\n",
       "      <td>Mali</td>\n",
       "      <td>Africa</td>\n",
       "      <td>1032.800049</td>\n",
       "      <td>1.833333</td>\n",
       "      <td>186.300003</td>\n",
       "      <td>196.00</td>\n",
       "      <td>50.000000</td>\n",
       "      <td>14254967</td>\n",
       "      <td>33.933334</td>\n",
       "      <td>0.5490</td>\n",
       "      <td>26.200001</td>\n",
       "      <td>0.200000</td>\n",
       "      <td>39.000000</td>\n",
       "      <td>1.497560e+06</td>\n",
       "      <td>0</td>\n",
       "    </tr>\n",
       "    <tr>\n",
       "      <th>30</th>\n",
       "      <td>Mauritania</td>\n",
       "      <td>Africa</td>\n",
       "      <td>1794.199951</td>\n",
       "      <td>3.533333</td>\n",
       "      <td>79.199997</td>\n",
       "      <td>118.00</td>\n",
       "      <td>57.700001</td>\n",
       "      <td>3253767</td>\n",
       "      <td>40.866669</td>\n",
       "      <td>0.7168</td>\n",
       "      <td>57.500000</td>\n",
       "      <td>2.000000</td>\n",
       "      <td>NaN</td>\n",
       "      <td>2.601590e+06</td>\n",
       "      <td>0</td>\n",
       "    </tr>\n",
       "    <tr>\n",
       "      <th>31</th>\n",
       "      <td>Mauritius</td>\n",
       "      <td>Africa</td>\n",
       "      <td>10950.200195</td>\n",
       "      <td>6.966667</td>\n",
       "      <td>35.400002</td>\n",
       "      <td>16.25</td>\n",
       "      <td>72.866669</td>\n",
       "      <td>1278950</td>\n",
       "      <td>41.983334</td>\n",
       "      <td>0.5426</td>\n",
       "      <td>87.900002</td>\n",
       "      <td>10.700001</td>\n",
       "      <td>NaN</td>\n",
       "      <td>1.587779e+07</td>\n",
       "      <td>0</td>\n",
       "    </tr>\n",
       "    <tr>\n",
       "      <th>32</th>\n",
       "      <td>Morocco</td>\n",
       "      <td>Africa</td>\n",
       "      <td>3802.800049</td>\n",
       "      <td>4.150000</td>\n",
       "      <td>15.100000</td>\n",
       "      <td>40.75</td>\n",
       "      <td>71.150002</td>\n",
       "      <td>31168868</td>\n",
       "      <td>56.700001</td>\n",
       "      <td>0.3290</td>\n",
       "      <td>55.599998</td>\n",
       "      <td>5.550000</td>\n",
       "      <td>40.900002</td>\n",
       "      <td>5.514060e+06</td>\n",
       "      <td>0</td>\n",
       "    </tr>\n",
       "    <tr>\n",
       "      <th>33</th>\n",
       "      <td>Mozambique</td>\n",
       "      <td>Africa</td>\n",
       "      <td>738.599976</td>\n",
       "      <td>1.150000</td>\n",
       "      <td>149.199997</td>\n",
       "      <td>150.75</td>\n",
       "      <td>48.866665</td>\n",
       "      <td>22075768</td>\n",
       "      <td>36.466667</td>\n",
       "      <td>0.9770</td>\n",
       "      <td>55.099998</td>\n",
       "      <td>0.350000</td>\n",
       "      <td>45.599998</td>\n",
       "      <td>1.070970e+06</td>\n",
       "      <td>0</td>\n",
       "    </tr>\n",
       "    <tr>\n",
       "      <th>34</th>\n",
       "      <td>Namibia</td>\n",
       "      <td>Africa</td>\n",
       "      <td>5740.200195</td>\n",
       "      <td>7.200000</td>\n",
       "      <td>74.400002</td>\n",
       "      <td>53.25</td>\n",
       "      <td>60.583332</td>\n",
       "      <td>2180583</td>\n",
       "      <td>36.516666</td>\n",
       "      <td>0.8184</td>\n",
       "      <td>88.500000</td>\n",
       "      <td>5.000000</td>\n",
       "      <td>NaN</td>\n",
       "      <td>8.323290e+06</td>\n",
       "      <td>0</td>\n",
       "    </tr>\n",
       "    <tr>\n",
       "      <th>35</th>\n",
       "      <td>Niger</td>\n",
       "      <td>Africa</td>\n",
       "      <td>620.799988</td>\n",
       "      <td>1.350000</td>\n",
       "      <td>207.100006</td>\n",
       "      <td>171.75</td>\n",
       "      <td>53.033333</td>\n",
       "      <td>14222333</td>\n",
       "      <td>16.850000</td>\n",
       "      <td>0.4378</td>\n",
       "      <td>28.700001</td>\n",
       "      <td>0.250000</td>\n",
       "      <td>34.000000</td>\n",
       "      <td>9.001600e+05</td>\n",
       "      <td>0</td>\n",
       "    </tr>\n",
       "    <tr>\n",
       "      <th>36</th>\n",
       "      <td>Nigeria</td>\n",
       "      <td>Africa</td>\n",
       "      <td>1870.000000</td>\n",
       "      <td>5.000000</td>\n",
       "      <td>118.300003</td>\n",
       "      <td>147.00</td>\n",
       "      <td>50.233334</td>\n",
       "      <td>148948448</td>\n",
       "      <td>48.000000</td>\n",
       "      <td>0.5282</td>\n",
       "      <td>60.799999</td>\n",
       "      <td>2.750000</td>\n",
       "      <td>NaN</td>\n",
       "      <td>2.711500e+06</td>\n",
       "      <td>0</td>\n",
       "    </tr>\n",
       "    <tr>\n",
       "      <th>37</th>\n",
       "      <td>Rwanda</td>\n",
       "      <td>Africa</td>\n",
       "      <td>954.000000</td>\n",
       "      <td>3.050000</td>\n",
       "      <td>38.700001</td>\n",
       "      <td>122.50</td>\n",
       "      <td>53.849998</td>\n",
       "      <td>9882167</td>\n",
       "      <td>18.183332</td>\n",
       "      <td>1.0156</td>\n",
       "      <td>70.699997</td>\n",
       "      <td>0.300000</td>\n",
       "      <td>53.099998</td>\n",
       "      <td>1.383300e+06</td>\n",
       "      <td>0</td>\n",
       "    </tr>\n",
       "    <tr>\n",
       "      <th>38</th>\n",
       "      <td>Sao Tome/Principe</td>\n",
       "      <td>Africa</td>\n",
       "      <td>1544.400024</td>\n",
       "      <td>4.200000</td>\n",
       "      <td>66.099998</td>\n",
       "      <td>79.25</td>\n",
       "      <td>63.833332</td>\n",
       "      <td>158800</td>\n",
       "      <td>60.166668</td>\n",
       "      <td>0.5782</td>\n",
       "      <td>88.800003</td>\n",
       "      <td>2.450000</td>\n",
       "      <td>NaN</td>\n",
       "      <td>2.239380e+06</td>\n",
       "      <td>0</td>\n",
       "    </tr>\n",
       "    <tr>\n",
       "      <th>39</th>\n",
       "      <td>Senegal</td>\n",
       "      <td>Africa</td>\n",
       "      <td>1635.599976</td>\n",
       "      <td>4.250000</td>\n",
       "      <td>105.900002</td>\n",
       "      <td>97.50</td>\n",
       "      <td>58.183334</td>\n",
       "      <td>11640634</td>\n",
       "      <td>41.716667</td>\n",
       "      <td>0.7244</td>\n",
       "      <td>45.800003</td>\n",
       "      <td>1.500000</td>\n",
       "      <td>39.200001</td>\n",
       "      <td>2.371620e+06</td>\n",
       "      <td>0</td>\n",
       "    </tr>\n",
       "    <tr>\n",
       "      <th>40</th>\n",
       "      <td>Seychelles</td>\n",
       "      <td>Africa</td>\n",
       "      <td>18625.800781</td>\n",
       "      <td>9.400000</td>\n",
       "      <td>51.299999</td>\n",
       "      <td>12.75</td>\n",
       "      <td>72.983330</td>\n",
       "      <td>85167</td>\n",
       "      <td>54.066666</td>\n",
       "      <td>NaN</td>\n",
       "      <td>91.800003</td>\n",
       "      <td>30.799999</td>\n",
       "      <td>19.000000</td>\n",
       "      <td>2.700741e+07</td>\n",
       "      <td>1</td>\n",
       "    </tr>\n",
       "    <tr>\n",
       "      <th>41</th>\n",
       "      <td>Sierra Leone</td>\n",
       "      <td>Africa</td>\n",
       "      <td>698.200012</td>\n",
       "      <td>2.733333</td>\n",
       "      <td>143.699997</td>\n",
       "      <td>202.50</td>\n",
       "      <td>46.000000</td>\n",
       "      <td>5529667</td>\n",
       "      <td>37.566666</td>\n",
       "      <td>0.9760</td>\n",
       "      <td>40.900002</td>\n",
       "      <td>0.650000</td>\n",
       "      <td>NaN</td>\n",
       "      <td>1.012390e+06</td>\n",
       "      <td>0</td>\n",
       "    </tr>\n",
       "    <tr>\n",
       "      <th>42</th>\n",
       "      <td>Somalia</td>\n",
       "      <td>Africa</td>\n",
       "      <td>NaN</td>\n",
       "      <td>NaN</td>\n",
       "      <td>70.099998</td>\n",
       "      <td>180.00</td>\n",
       "      <td>50.366669</td>\n",
       "      <td>8835650</td>\n",
       "      <td>36.299999</td>\n",
       "      <td>0.6706</td>\n",
       "      <td>NaN</td>\n",
       "      <td>0.100000</td>\n",
       "      <td>NaN</td>\n",
       "      <td>NaN</td>\n",
       "      <td>0</td>\n",
       "    </tr>\n",
       "    <tr>\n",
       "      <th>43</th>\n",
       "      <td>South Africa</td>\n",
       "      <td>Africa</td>\n",
       "      <td>9175.400391</td>\n",
       "      <td>8.350000</td>\n",
       "      <td>59.200001</td>\n",
       "      <td>68.75</td>\n",
       "      <td>51.433334</td>\n",
       "      <td>49028316</td>\n",
       "      <td>60.483334</td>\n",
       "      <td>0.7406</td>\n",
       "      <td>NaN</td>\n",
       "      <td>31.400000</td>\n",
       "      <td>NaN</td>\n",
       "      <td>1.330433e+07</td>\n",
       "      <td>1</td>\n",
       "    </tr>\n",
       "    <tr>\n",
       "      <th>44</th>\n",
       "      <td>Sudan*</td>\n",
       "      <td>Africa</td>\n",
       "      <td>1838.800049</td>\n",
       "      <td>2.966667</td>\n",
       "      <td>61.900002</td>\n",
       "      <td>109.50</td>\n",
       "      <td>60.349998</td>\n",
       "      <td>40933000</td>\n",
       "      <td>38.283333</td>\n",
       "      <td>0.4116</td>\n",
       "      <td>70.199997</td>\n",
       "      <td>1.100000</td>\n",
       "      <td>NaN</td>\n",
       "      <td>2.666260e+06</td>\n",
       "      <td>0</td>\n",
       "    </tr>\n",
       "    <tr>\n",
       "      <th>45</th>\n",
       "      <td>Swaziland</td>\n",
       "      <td>Africa</td>\n",
       "      <td>4468.799805</td>\n",
       "      <td>6.850000</td>\n",
       "      <td>83.900002</td>\n",
       "      <td>85.75</td>\n",
       "      <td>47.116669</td>\n",
       "      <td>1143367</td>\n",
       "      <td>21.600000</td>\n",
       "      <td>0.6900</td>\n",
       "      <td>86.900002</td>\n",
       "      <td>3.300000</td>\n",
       "      <td>NaN</td>\n",
       "      <td>6.479760e+06</td>\n",
       "      <td>0</td>\n",
       "    </tr>\n",
       "    <tr>\n",
       "      <th>46</th>\n",
       "      <td>Tanzania</td>\n",
       "      <td>Africa</td>\n",
       "      <td>1151.800049</td>\n",
       "      <td>4.933333</td>\n",
       "      <td>130.399994</td>\n",
       "      <td>114.50</td>\n",
       "      <td>55.400002</td>\n",
       "      <td>41742736</td>\n",
       "      <td>25.266666</td>\n",
       "      <td>0.9544</td>\n",
       "      <td>72.900002</td>\n",
       "      <td>0.500000</td>\n",
       "      <td>37.599998</td>\n",
       "      <td>1.670110e+06</td>\n",
       "      <td>0</td>\n",
       "    </tr>\n",
       "    <tr>\n",
       "      <th>47</th>\n",
       "      <td>Togo</td>\n",
       "      <td>Africa</td>\n",
       "      <td>775.000000</td>\n",
       "      <td>5.050000</td>\n",
       "      <td>65.300003</td>\n",
       "      <td>102.50</td>\n",
       "      <td>55.866669</td>\n",
       "      <td>5716200</td>\n",
       "      <td>41.650002</td>\n",
       "      <td>0.7318</td>\n",
       "      <td>56.900002</td>\n",
       "      <td>0.750000</td>\n",
       "      <td>34.400002</td>\n",
       "      <td>1.123750e+06</td>\n",
       "      <td>0</td>\n",
       "    </tr>\n",
       "    <tr>\n",
       "      <th>48</th>\n",
       "      <td>Tunisia</td>\n",
       "      <td>Africa</td>\n",
       "      <td>7032.000000</td>\n",
       "      <td>6.066667</td>\n",
       "      <td>5.700000</td>\n",
       "      <td>21.75</td>\n",
       "      <td>73.916664</td>\n",
       "      <td>10192267</td>\n",
       "      <td>66.300003</td>\n",
       "      <td>0.3568</td>\n",
       "      <td>77.599998</td>\n",
       "      <td>8.300000</td>\n",
       "      <td>NaN</td>\n",
       "      <td>1.019640e+07</td>\n",
       "      <td>0</td>\n",
       "    </tr>\n",
       "    <tr>\n",
       "      <th>49</th>\n",
       "      <td>Uganda</td>\n",
       "      <td>Africa</td>\n",
       "      <td>1010.599976</td>\n",
       "      <td>4.500000</td>\n",
       "      <td>149.899994</td>\n",
       "      <td>132.50</td>\n",
       "      <td>52.049999</td>\n",
       "      <td>30878900</td>\n",
       "      <td>12.900000</td>\n",
       "      <td>0.8650</td>\n",
       "      <td>71.400002</td>\n",
       "      <td>0.300000</td>\n",
       "      <td>44.299999</td>\n",
       "      <td>1.465370e+06</td>\n",
       "      <td>0</td>\n",
       "    </tr>\n",
       "    <tr>\n",
       "      <th>50</th>\n",
       "      <td>Zambia</td>\n",
       "      <td>Africa</td>\n",
       "      <td>1211.599976</td>\n",
       "      <td>6.400000</td>\n",
       "      <td>146.800003</td>\n",
       "      <td>147.75</td>\n",
       "      <td>46.599998</td>\n",
       "      <td>12243300</td>\n",
       "      <td>35.316666</td>\n",
       "      <td>0.7628</td>\n",
       "      <td>70.900002</td>\n",
       "      <td>0.800000</td>\n",
       "      <td>NaN</td>\n",
       "      <td>1.756820e+06</td>\n",
       "      <td>0</td>\n",
       "    </tr>\n",
       "    <tr>\n",
       "      <th>51</th>\n",
       "      <td>Zimbabwe</td>\n",
       "      <td>Africa</td>\n",
       "      <td>NaN</td>\n",
       "      <td>6.950000</td>\n",
       "      <td>64.599998</td>\n",
       "      <td>96.00</td>\n",
       "      <td>46.750000</td>\n",
       "      <td>12513100</td>\n",
       "      <td>37.066666</td>\n",
       "      <td>0.8120</td>\n",
       "      <td>91.900002</td>\n",
       "      <td>3.150000</td>\n",
       "      <td>NaN</td>\n",
       "      <td>NaN</td>\n",
       "      <td>0</td>\n",
       "    </tr>\n",
       "  </tbody>\n",
       "</table>\n",
       "</div>"
      ],
      "text/plain": [
       "                country  region           gdp    school      adfert  chldmort  \\\n",
       "0               Algeria  Africa   7300.399902  6.716667    7.300000     34.75   \n",
       "1                 Benin  Africa   1338.800049  3.100000  111.699997    122.75   \n",
       "2              Botswana  Africa  12307.400391  8.600000   52.099998     60.25   \n",
       "3          Burkina Faso  Africa   1063.400024  1.300000  124.800003    170.50   \n",
       "4               Burundi  Africa    349.200012  2.483333   18.600000    168.50   \n",
       "5              Cameroon  Africa   1986.800049  5.650000  127.800003    155.00   \n",
       "6            Cape Verde  Africa   3052.199951  3.500000   81.599998     30.00   \n",
       "7   Central African Rep  Africa    677.000000  3.383333  106.599998    173.50   \n",
       "8                  Chad  Africa   1266.199951  1.500000  164.500000    209.00   \n",
       "9               Comoros  Africa   1099.000000  2.800000   58.000000    105.75   \n",
       "10                Congo  Africa   3628.000000  5.850000  118.699997    125.75   \n",
       "11      Congo (Dem Rep)  Africa    279.799988  3.416667  201.399994    199.00   \n",
       "12        Côte d'Ivoire  Africa   1539.199951  3.200000  129.399994    123.25   \n",
       "13             Djibouti  Africa   1972.199951  3.800000   22.900000     96.00   \n",
       "14                Egypt  Africa   4754.399902  5.950000   46.599998     24.75   \n",
       "15    Equatorial Guinea  Africa  27645.800781  5.400000  122.900002    149.50   \n",
       "16              Eritrea  Africa    579.599976  3.400000   66.599998     60.50   \n",
       "17             Ethiopia  Africa    741.400024  1.500000   72.400002    112.00   \n",
       "18                Gabon  Africa  13183.200195  7.183333   89.900002     72.50   \n",
       "19               Gambia  Africa   1218.400024  2.550000   76.599998    108.25   \n",
       "20                Ghana  Africa   1303.000000  6.783333   71.099998     75.25   \n",
       "21               Guinea  Africa    957.599976  1.600000  157.399994    149.50   \n",
       "22        Guinea-Bissau  Africa    967.599976  2.300000  111.099998    197.50   \n",
       "23                Kenya  Africa   1405.400024  6.750000  100.199997     87.75   \n",
       "24              Lesotho  Africa   1284.400024  5.583333   73.500000     98.25   \n",
       "25              Liberia  Africa    345.000000  3.650000  142.600006    125.50   \n",
       "26                Libya  Africa  14497.799805  6.816667    3.200000     19.75   \n",
       "27           Madagascar  Africa    919.799988  5.200000  134.300003     64.50   \n",
       "28               Malawi  Africa    660.400024  3.816667  119.199997    120.25   \n",
       "29                 Mali  Africa   1032.800049  1.833333  186.300003    196.00   \n",
       "30           Mauritania  Africa   1794.199951  3.533333   79.199997    118.00   \n",
       "31            Mauritius  Africa  10950.200195  6.966667   35.400002     16.25   \n",
       "32              Morocco  Africa   3802.800049  4.150000   15.100000     40.75   \n",
       "33           Mozambique  Africa    738.599976  1.150000  149.199997    150.75   \n",
       "34              Namibia  Africa   5740.200195  7.200000   74.400002     53.25   \n",
       "35                Niger  Africa    620.799988  1.350000  207.100006    171.75   \n",
       "36              Nigeria  Africa   1870.000000  5.000000  118.300003    147.00   \n",
       "37               Rwanda  Africa    954.000000  3.050000   38.700001    122.50   \n",
       "38    Sao Tome/Principe  Africa   1544.400024  4.200000   66.099998     79.25   \n",
       "39              Senegal  Africa   1635.599976  4.250000  105.900002     97.50   \n",
       "40           Seychelles  Africa  18625.800781  9.400000   51.299999     12.75   \n",
       "41         Sierra Leone  Africa    698.200012  2.733333  143.699997    202.50   \n",
       "42              Somalia  Africa           NaN       NaN   70.099998    180.00   \n",
       "43         South Africa  Africa   9175.400391  8.350000   59.200001     68.75   \n",
       "44               Sudan*  Africa   1838.800049  2.966667   61.900002    109.50   \n",
       "45            Swaziland  Africa   4468.799805  6.850000   83.900002     85.75   \n",
       "46             Tanzania  Africa   1151.800049  4.933333  130.399994    114.50   \n",
       "47                 Togo  Africa    775.000000  5.050000   65.300003    102.50   \n",
       "48              Tunisia  Africa   7032.000000  6.066667    5.700000     21.75   \n",
       "49               Uganda  Africa   1010.599976  4.500000  149.899994    132.50   \n",
       "50               Zambia  Africa   1211.599976  6.400000  146.800003    147.75   \n",
       "51             Zimbabwe  Africa           NaN  6.950000   64.599998     96.00   \n",
       "\n",
       "         life        pop      urban  femlab   literacy        co2       gini  \\\n",
       "0   72.316666   34172236  64.933334  0.4522  72.599998  15.000000        NaN   \n",
       "1   54.733334    8237634  41.000000  0.8482  41.700001   1.200000        NaN   \n",
       "2   52.250000    1941233  59.250000  0.8870  84.099998   9.200000        NaN   \n",
       "3   53.783333   15308383  23.583334  0.8584  23.600000   0.200000        NaN   \n",
       "4   48.866665    7821783  10.250000  1.0344  66.599998   0.100000  33.299999   \n",
       "5   50.116665   18564118  56.366665  0.6532        NaN   0.750000        NaN   \n",
       "6   73.333336     484867  59.283333  0.6358  84.800003   2.150000        NaN   \n",
       "7   45.933334    4203917  38.466667  0.8222  55.200001   0.200000        NaN   \n",
       "8   48.566666   10509983  26.400000  0.8006  33.599998   0.100000        NaN   \n",
       "9   59.783333     688300  28.000000  0.8554  74.199997   0.400000        NaN   \n",
       "10  56.016666    3785517  61.133331  0.7544        NaN   1.550000  47.299999   \n",
       "11  47.516666   61654348  33.633331  0.6552  66.800003   0.100000  44.400002   \n",
       "12  53.049999   18844750  48.666664  0.6132  55.299999   1.450000  46.099998   \n",
       "13  56.599998     848000  76.099998  0.7636        NaN   2.200000        NaN   \n",
       "14  72.333336   77645648  43.183334  0.3092  68.900002   8.450000  32.099998   \n",
       "15  50.066666     653533  39.266666  0.4140  93.300003  32.550003        NaN   \n",
       "16  60.016666    4871634  20.450001  0.7252  66.599998   0.500000        NaN   \n",
       "17  57.049999   78593232  16.283333  0.8700  29.799999   0.300000  29.799999   \n",
       "18  61.150002    1437467  84.883331  0.8404  87.699997   5.550000  41.500000   \n",
       "19  57.366669    1614767  56.049999  0.8264  46.500000   0.700000        NaN   \n",
       "20  62.516666   23000534  49.633331  0.9770  66.599998   1.350000  42.799999   \n",
       "21  52.416668    9486467  34.166668  0.8850  39.500000   0.550000  39.400002   \n",
       "22  46.866669    1440083  29.766666  0.7114  52.200001   0.600000        NaN   \n",
       "23  54.816666   38011832  21.450001  0.8626  87.000000   1.150000  47.700001   \n",
       "24  45.849998    2117567  25.066666  0.8990  89.699997        NaN        NaN   \n",
       "25  54.233334    3576984  46.916668  0.8746  59.099998   0.800000  52.599998   \n",
       "26  74.016663    6075651  77.433334  0.3096  88.900002  33.849998        NaN   \n",
       "27  65.483337   19279600  29.316666  0.9466  64.500000   0.550000  47.200001   \n",
       "28  51.316666   13825916  18.549999  0.9520  73.699997   0.300000        NaN   \n",
       "29  50.000000   14254967  33.933334  0.5490  26.200001   0.200000  39.000000   \n",
       "30  57.700001    3253767  40.866669  0.7168  57.500000   2.000000        NaN   \n",
       "31  72.866669    1278950  41.983334  0.5426  87.900002  10.700001        NaN   \n",
       "32  71.150002   31168868  56.700001  0.3290  55.599998   5.550000  40.900002   \n",
       "33  48.866665   22075768  36.466667  0.9770  55.099998   0.350000  45.599998   \n",
       "34  60.583332    2180583  36.516666  0.8184  88.500000   5.000000        NaN   \n",
       "35  53.033333   14222333  16.850000  0.4378  28.700001   0.250000  34.000000   \n",
       "36  50.233334  148948448  48.000000  0.5282  60.799999   2.750000        NaN   \n",
       "37  53.849998    9882167  18.183332  1.0156  70.699997   0.300000  53.099998   \n",
       "38  63.833332     158800  60.166668  0.5782  88.800003   2.450000        NaN   \n",
       "39  58.183334   11640634  41.716667  0.7244  45.800003   1.500000  39.200001   \n",
       "40  72.983330      85167  54.066666     NaN  91.800003  30.799999  19.000000   \n",
       "41  46.000000    5529667  37.566666  0.9760  40.900002   0.650000        NaN   \n",
       "42  50.366669    8835650  36.299999  0.6706        NaN   0.100000        NaN   \n",
       "43  51.433334   49028316  60.483334  0.7406        NaN  31.400000        NaN   \n",
       "44  60.349998   40933000  38.283333  0.4116  70.199997   1.100000        NaN   \n",
       "45  47.116669    1143367  21.600000  0.6900  86.900002   3.300000        NaN   \n",
       "46  55.400002   41742736  25.266666  0.9544  72.900002   0.500000  37.599998   \n",
       "47  55.866669    5716200  41.650002  0.7318  56.900002   0.750000  34.400002   \n",
       "48  73.916664   10192267  66.300003  0.3568  77.599998   8.300000        NaN   \n",
       "49  52.049999   30878900  12.900000  0.8650  71.400002   0.300000  44.299999   \n",
       "50  46.599998   12243300  35.316666  0.7628  70.900002   0.800000        NaN   \n",
       "51  46.750000   12513100  37.066666  0.8120  91.900002   3.150000        NaN   \n",
       "\n",
       "    gdp_pesos2021  co2_recodificada  \n",
       "0    1.058558e+07                 0  \n",
       "1    1.941260e+06                 0  \n",
       "2    1.784573e+07                 0  \n",
       "3    1.541930e+06                 0  \n",
       "4    5.063400e+05                 0  \n",
       "5    2.880860e+06                 0  \n",
       "6    4.425690e+06                 0  \n",
       "7    9.816500e+05                 0  \n",
       "8    1.835990e+06                 0  \n",
       "9    1.593550e+06                 0  \n",
       "10   5.260600e+06                 0  \n",
       "11   4.057100e+05                 0  \n",
       "12   2.231840e+06                 0  \n",
       "13   2.859690e+06                 0  \n",
       "14   6.893880e+06                 0  \n",
       "15   4.008641e+07                 1  \n",
       "16   8.404200e+05                 0  \n",
       "17   1.075030e+06                 0  \n",
       "18   1.911564e+07                 0  \n",
       "19   1.766680e+06                 0  \n",
       "20   1.889350e+06                 0  \n",
       "21   1.388520e+06                 0  \n",
       "22   1.403020e+06                 0  \n",
       "23   2.037830e+06                 0  \n",
       "24   1.862380e+06                 0  \n",
       "25   5.002500e+05                 0  \n",
       "26   2.102181e+07                 1  \n",
       "27   1.333710e+06                 0  \n",
       "28   9.575800e+05                 0  \n",
       "29   1.497560e+06                 0  \n",
       "30   2.601590e+06                 0  \n",
       "31   1.587779e+07                 0  \n",
       "32   5.514060e+06                 0  \n",
       "33   1.070970e+06                 0  \n",
       "34   8.323290e+06                 0  \n",
       "35   9.001600e+05                 0  \n",
       "36   2.711500e+06                 0  \n",
       "37   1.383300e+06                 0  \n",
       "38   2.239380e+06                 0  \n",
       "39   2.371620e+06                 0  \n",
       "40   2.700741e+07                 1  \n",
       "41   1.012390e+06                 0  \n",
       "42            NaN                 0  \n",
       "43   1.330433e+07                 1  \n",
       "44   2.666260e+06                 0  \n",
       "45   6.479760e+06                 0  \n",
       "46   1.670110e+06                 0  \n",
       "47   1.123750e+06                 0  \n",
       "48   1.019640e+07                 0  \n",
       "49   1.465370e+06                 0  \n",
       "50   1.756820e+06                 0  \n",
       "51            NaN                 0  "
      ]
     },
     "execution_count": 324,
     "metadata": {},
     "output_type": "execute_result"
    }
   ],
   "source": [
    "# Filtro por variable \"Region\"\n",
    "df_nations[df_nations[\"region\"]==\"Africa\"]"
   ]
  },
  {
   "cell_type": "code",
   "execution_count": 325,
   "metadata": {
    "executionInfo": {
     "elapsed": 18,
     "status": "ok",
     "timestamp": 1691511785009,
     "user": {
      "displayName": "Victoria Salazar",
      "userId": "15244846171196193981"
     },
     "user_tz": 240
    },
    "id": "dQMQxNja_LUU"
   },
   "outputs": [],
   "source": [
    "df_africa = df_nations[df_nations[\"region\"]==\"Africa\"]"
   ]
  },
  {
   "cell_type": "code",
   "execution_count": 326,
   "metadata": {
    "colab": {
     "base_uri": "https://localhost:8080/",
     "height": 288
    },
    "executionInfo": {
     "elapsed": 18,
     "status": "ok",
     "timestamp": 1691511785009,
     "user": {
      "displayName": "Victoria Salazar",
      "userId": "15244846171196193981"
     },
     "user_tz": 240
    },
    "id": "MEHFGJL29MZ3",
    "outputId": "75686dbc-5eb8-4bd1-c427-6092c35478a4"
   },
   "outputs": [
    {
     "data": {
      "text/html": [
       "<div>\n",
       "<style scoped>\n",
       "    .dataframe tbody tr th:only-of-type {\n",
       "        vertical-align: middle;\n",
       "    }\n",
       "\n",
       "    .dataframe tbody tr th {\n",
       "        vertical-align: top;\n",
       "    }\n",
       "\n",
       "    .dataframe thead th {\n",
       "        text-align: right;\n",
       "    }\n",
       "</style>\n",
       "<table border=\"1\" class=\"dataframe\">\n",
       "  <thead>\n",
       "    <tr style=\"text-align: right;\">\n",
       "      <th></th>\n",
       "      <th>country</th>\n",
       "      <th>region</th>\n",
       "      <th>gdp</th>\n",
       "      <th>school</th>\n",
       "      <th>adfert</th>\n",
       "      <th>chldmort</th>\n",
       "      <th>life</th>\n",
       "      <th>pop</th>\n",
       "      <th>urban</th>\n",
       "      <th>femlab</th>\n",
       "      <th>literacy</th>\n",
       "      <th>co2</th>\n",
       "      <th>gini</th>\n",
       "      <th>gdp_pesos2021</th>\n",
       "      <th>co2_recodificada</th>\n",
       "    </tr>\n",
       "  </thead>\n",
       "  <tbody>\n",
       "    <tr>\n",
       "      <th>0</th>\n",
       "      <td>Algeria</td>\n",
       "      <td>Africa</td>\n",
       "      <td>7300.399902</td>\n",
       "      <td>6.716667</td>\n",
       "      <td>7.300000</td>\n",
       "      <td>34.75</td>\n",
       "      <td>72.316666</td>\n",
       "      <td>34172236</td>\n",
       "      <td>64.933334</td>\n",
       "      <td>0.4522</td>\n",
       "      <td>72.599998</td>\n",
       "      <td>15.0</td>\n",
       "      <td>NaN</td>\n",
       "      <td>1.058558e+07</td>\n",
       "      <td>0</td>\n",
       "    </tr>\n",
       "    <tr>\n",
       "      <th>1</th>\n",
       "      <td>Benin</td>\n",
       "      <td>Africa</td>\n",
       "      <td>1338.800049</td>\n",
       "      <td>3.100000</td>\n",
       "      <td>111.699997</td>\n",
       "      <td>122.75</td>\n",
       "      <td>54.733334</td>\n",
       "      <td>8237634</td>\n",
       "      <td>41.000000</td>\n",
       "      <td>0.8482</td>\n",
       "      <td>41.700001</td>\n",
       "      <td>1.2</td>\n",
       "      <td>NaN</td>\n",
       "      <td>1.941260e+06</td>\n",
       "      <td>0</td>\n",
       "    </tr>\n",
       "    <tr>\n",
       "      <th>2</th>\n",
       "      <td>Botswana</td>\n",
       "      <td>Africa</td>\n",
       "      <td>12307.400391</td>\n",
       "      <td>8.600000</td>\n",
       "      <td>52.099998</td>\n",
       "      <td>60.25</td>\n",
       "      <td>52.250000</td>\n",
       "      <td>1941233</td>\n",
       "      <td>59.250000</td>\n",
       "      <td>0.8870</td>\n",
       "      <td>84.099998</td>\n",
       "      <td>9.2</td>\n",
       "      <td>NaN</td>\n",
       "      <td>1.784573e+07</td>\n",
       "      <td>0</td>\n",
       "    </tr>\n",
       "    <tr>\n",
       "      <th>3</th>\n",
       "      <td>Burkina Faso</td>\n",
       "      <td>Africa</td>\n",
       "      <td>1063.400024</td>\n",
       "      <td>1.300000</td>\n",
       "      <td>124.800003</td>\n",
       "      <td>170.50</td>\n",
       "      <td>53.783333</td>\n",
       "      <td>15308383</td>\n",
       "      <td>23.583334</td>\n",
       "      <td>0.8584</td>\n",
       "      <td>23.600000</td>\n",
       "      <td>0.2</td>\n",
       "      <td>NaN</td>\n",
       "      <td>1.541930e+06</td>\n",
       "      <td>0</td>\n",
       "    </tr>\n",
       "    <tr>\n",
       "      <th>4</th>\n",
       "      <td>Burundi</td>\n",
       "      <td>Africa</td>\n",
       "      <td>349.200012</td>\n",
       "      <td>2.483333</td>\n",
       "      <td>18.600000</td>\n",
       "      <td>168.50</td>\n",
       "      <td>48.866665</td>\n",
       "      <td>7821783</td>\n",
       "      <td>10.250000</td>\n",
       "      <td>1.0344</td>\n",
       "      <td>66.599998</td>\n",
       "      <td>0.1</td>\n",
       "      <td>33.299999</td>\n",
       "      <td>5.063400e+05</td>\n",
       "      <td>0</td>\n",
       "    </tr>\n",
       "  </tbody>\n",
       "</table>\n",
       "</div>"
      ],
      "text/plain": [
       "        country  region           gdp    school      adfert  chldmort  \\\n",
       "0       Algeria  Africa   7300.399902  6.716667    7.300000     34.75   \n",
       "1         Benin  Africa   1338.800049  3.100000  111.699997    122.75   \n",
       "2      Botswana  Africa  12307.400391  8.600000   52.099998     60.25   \n",
       "3  Burkina Faso  Africa   1063.400024  1.300000  124.800003    170.50   \n",
       "4       Burundi  Africa    349.200012  2.483333   18.600000    168.50   \n",
       "\n",
       "        life       pop      urban  femlab   literacy   co2       gini  \\\n",
       "0  72.316666  34172236  64.933334  0.4522  72.599998  15.0        NaN   \n",
       "1  54.733334   8237634  41.000000  0.8482  41.700001   1.2        NaN   \n",
       "2  52.250000   1941233  59.250000  0.8870  84.099998   9.2        NaN   \n",
       "3  53.783333  15308383  23.583334  0.8584  23.600000   0.2        NaN   \n",
       "4  48.866665   7821783  10.250000  1.0344  66.599998   0.1  33.299999   \n",
       "\n",
       "   gdp_pesos2021  co2_recodificada  \n",
       "0   1.058558e+07                 0  \n",
       "1   1.941260e+06                 0  \n",
       "2   1.784573e+07                 0  \n",
       "3   1.541930e+06                 0  \n",
       "4   5.063400e+05                 0  "
      ]
     },
     "execution_count": 326,
     "metadata": {},
     "output_type": "execute_result"
    }
   ],
   "source": [
    "df_africa.head()"
   ]
  },
  {
   "cell_type": "code",
   "execution_count": 327,
   "metadata": {
    "colab": {
     "base_uri": "https://localhost:8080/",
     "height": 140
    },
    "executionInfo": {
     "elapsed": 18,
     "status": "error",
     "timestamp": 1691511785010,
     "user": {
      "displayName": "Victoria Salazar",
      "userId": "15244846171196193981"
     },
     "user_tz": 240
    },
    "id": "X_Bq9uFt_LKB",
    "outputId": "62f4c570-6c5d-435c-ec0d-f927ccd69e3c"
   },
   "outputs": [],
   "source": [
    "# ¿Cómo creamos el filtro para los países de Europa?\n",
    "df_europa = df_nations[df_nations[\"region\"] == \"Europe\"]"
   ]
  },
  {
   "cell_type": "code",
   "execution_count": 328,
   "metadata": {
    "executionInfo": {
     "elapsed": 5822,
     "status": "aborted",
     "timestamp": 1691511784481,
     "user": {
      "displayName": "Victoria Salazar",
      "userId": "15244846171196193981"
     },
     "user_tz": 240
    },
    "id": "TLZmbhBU-wJJ"
   },
   "outputs": [
    {
     "data": {
      "text/html": [
       "<div>\n",
       "<style scoped>\n",
       "    .dataframe tbody tr th:only-of-type {\n",
       "        vertical-align: middle;\n",
       "    }\n",
       "\n",
       "    .dataframe tbody tr th {\n",
       "        vertical-align: top;\n",
       "    }\n",
       "\n",
       "    .dataframe thead th {\n",
       "        text-align: right;\n",
       "    }\n",
       "</style>\n",
       "<table border=\"1\" class=\"dataframe\">\n",
       "  <thead>\n",
       "    <tr style=\"text-align: right;\">\n",
       "      <th></th>\n",
       "      <th>country</th>\n",
       "      <th>region</th>\n",
       "      <th>gdp</th>\n",
       "      <th>school</th>\n",
       "      <th>adfert</th>\n",
       "      <th>chldmort</th>\n",
       "      <th>life</th>\n",
       "      <th>pop</th>\n",
       "      <th>urban</th>\n",
       "      <th>femlab</th>\n",
       "      <th>literacy</th>\n",
       "      <th>co2</th>\n",
       "      <th>gini</th>\n",
       "      <th>gdp_pesos2021</th>\n",
       "      <th>co2_recodificada</th>\n",
       "    </tr>\n",
       "  </thead>\n",
       "  <tbody>\n",
       "    <tr>\n",
       "      <th>136</th>\n",
       "      <td>Albania</td>\n",
       "      <td>Europe</td>\n",
       "      <td>6832.600098</td>\n",
       "      <td>10.283333</td>\n",
       "      <td>17.9</td>\n",
       "      <td>17.0</td>\n",
       "      <td>76.400002</td>\n",
       "      <td>3174417</td>\n",
       "      <td>49.350002</td>\n",
       "      <td>0.6948</td>\n",
       "      <td>95.900002</td>\n",
       "      <td>5.150000</td>\n",
       "      <td>34.500000</td>\n",
       "      <td>9.907270e+06</td>\n",
       "      <td>0</td>\n",
       "    </tr>\n",
       "    <tr>\n",
       "      <th>137</th>\n",
       "      <td>Andorra</td>\n",
       "      <td>Europe</td>\n",
       "      <td>NaN</td>\n",
       "      <td>10.400000</td>\n",
       "      <td>8.4</td>\n",
       "      <td>4.0</td>\n",
       "      <td>80.516663</td>\n",
       "      <td>81733</td>\n",
       "      <td>89.116669</td>\n",
       "      <td>NaN</td>\n",
       "      <td>NaN</td>\n",
       "      <td>NaN</td>\n",
       "      <td>NaN</td>\n",
       "      <td>NaN</td>\n",
       "      <td>0</td>\n",
       "    </tr>\n",
       "    <tr>\n",
       "      <th>138</th>\n",
       "      <td>Austria</td>\n",
       "      <td>Europe</td>\n",
       "      <td>34838.398438</td>\n",
       "      <td>10.366667</td>\n",
       "      <td>12.8</td>\n",
       "      <td>4.5</td>\n",
       "      <td>80.183334</td>\n",
       "      <td>8320033</td>\n",
       "      <td>67.016663</td>\n",
       "      <td>0.7714</td>\n",
       "      <td>NaN</td>\n",
       "      <td>31.900002</td>\n",
       "      <td>NaN</td>\n",
       "      <td>5.051568e+07</td>\n",
       "      <td>1</td>\n",
       "    </tr>\n",
       "    <tr>\n",
       "      <th>139</th>\n",
       "      <td>Belarus</td>\n",
       "      <td>Europe</td>\n",
       "      <td>10391.799805</td>\n",
       "      <td>9.300000</td>\n",
       "      <td>22.1</td>\n",
       "      <td>13.0</td>\n",
       "      <td>69.466667</td>\n",
       "      <td>9707033</td>\n",
       "      <td>73.399994</td>\n",
       "      <td>0.8208</td>\n",
       "      <td>99.699997</td>\n",
       "      <td>25.000000</td>\n",
       "      <td>27.200001</td>\n",
       "      <td>1.506811e+07</td>\n",
       "      <td>1</td>\n",
       "    </tr>\n",
       "    <tr>\n",
       "      <th>140</th>\n",
       "      <td>Belgium</td>\n",
       "      <td>Europe</td>\n",
       "      <td>32868.800781</td>\n",
       "      <td>10.733334</td>\n",
       "      <td>14.2</td>\n",
       "      <td>5.0</td>\n",
       "      <td>79.566666</td>\n",
       "      <td>10567200</td>\n",
       "      <td>97.350006</td>\n",
       "      <td>0.7590</td>\n",
       "      <td>NaN</td>\n",
       "      <td>38.150002</td>\n",
       "      <td>NaN</td>\n",
       "      <td>4.765976e+07</td>\n",
       "      <td>1</td>\n",
       "    </tr>\n",
       "  </tbody>\n",
       "</table>\n",
       "</div>"
      ],
      "text/plain": [
       "     country  region           gdp     school  adfert  chldmort       life  \\\n",
       "136  Albania  Europe   6832.600098  10.283333    17.9      17.0  76.400002   \n",
       "137  Andorra  Europe           NaN  10.400000     8.4       4.0  80.516663   \n",
       "138  Austria  Europe  34838.398438  10.366667    12.8       4.5  80.183334   \n",
       "139  Belarus  Europe  10391.799805   9.300000    22.1      13.0  69.466667   \n",
       "140  Belgium  Europe  32868.800781  10.733334    14.2       5.0  79.566666   \n",
       "\n",
       "          pop      urban  femlab   literacy        co2       gini  \\\n",
       "136   3174417  49.350002  0.6948  95.900002   5.150000  34.500000   \n",
       "137     81733  89.116669     NaN        NaN        NaN        NaN   \n",
       "138   8320033  67.016663  0.7714        NaN  31.900002        NaN   \n",
       "139   9707033  73.399994  0.8208  99.699997  25.000000  27.200001   \n",
       "140  10567200  97.350006  0.7590        NaN  38.150002        NaN   \n",
       "\n",
       "     gdp_pesos2021  co2_recodificada  \n",
       "136   9.907270e+06                 0  \n",
       "137            NaN                 0  \n",
       "138   5.051568e+07                 1  \n",
       "139   1.506811e+07                 1  \n",
       "140   4.765976e+07                 1  "
      ]
     },
     "execution_count": 328,
     "metadata": {},
     "output_type": "execute_result"
    }
   ],
   "source": [
    "df_europa.head()"
   ]
  },
  {
   "cell_type": "code",
   "execution_count": 329,
   "metadata": {
    "executionInfo": {
     "elapsed": 5821,
     "status": "aborted",
     "timestamp": 1691511784481,
     "user": {
      "displayName": "Victoria Salazar",
      "userId": "15244846171196193981"
     },
     "user_tz": 240
    },
    "id": "42kUCNxrJEqM"
   },
   "outputs": [
    {
     "data": {
      "text/plain": [
       "65.30851067887976"
      ]
     },
     "execution_count": 329,
     "metadata": {},
     "output_type": "execute_result"
    }
   ],
   "source": [
    "# Para analizar el alfabestimo en áfrica, podemos usar el método mean() en la variable \"literacy\" para la muestra \"África\"\n",
    "df_africa[\"literacy\"].mean()"
   ]
  },
  {
   "cell_type": "code",
   "execution_count": 330,
   "metadata": {
    "executionInfo": {
     "elapsed": 5820,
     "status": "aborted",
     "timestamp": 1691511784481,
     "user": {
      "displayName": "Victoria Salazar",
      "userId": "15244846171196193981"
     },
     "user_tz": 240
    },
    "id": "Z55n-M3xJ0Pg"
   },
   "outputs": [
    {
     "data": {
      "text/plain": [
       "98.17727279663086"
      ]
     },
     "execution_count": 330,
     "metadata": {},
     "output_type": "execute_result"
    }
   ],
   "source": [
    "# Del mismo modo para Europa\n",
    "df_europa[\"literacy\"].mean()"
   ]
  },
  {
   "cell_type": "markdown",
   "metadata": {
    "id": "VLyH6ER1KHGL"
   },
   "source": [
    "De lo anterior se desprende que Europa tiene una tasa de alfabetismo de 98,1% mientras que en África alcanza sólo al 65,3%."
   ]
  },
  {
   "cell_type": "markdown",
   "metadata": {
    "id": "eAgUea-zJuPD"
   },
   "source": [
    "## A continuación, vamos con la sección de visualización de datos"
   ]
  },
  {
   "cell_type": "markdown",
   "metadata": {
    "id": "OK0WSyVlL792"
   },
   "source": [
    "La visualización gráfica de datos constituye una disciplina en si misma.\n",
    "Existen muchos tipos de datos y utilizar el gráfico correcto, según la necesidad de información y el objetivo a comunicar es clave en este proceso.\n",
    "\n",
    "Fuente: Analytics Vidhya\n",
    "\n",
    "![tipos_graficos.jpg](data:image/jpeg;base64,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)"
   ]
  },
  {
   "cell_type": "code",
   "execution_count": 334,
   "metadata": {
    "executionInfo": {
     "elapsed": 5821,
     "status": "aborted",
     "timestamp": 1691511784482,
     "user": {
      "displayName": "Victoria Salazar",
      "userId": "15244846171196193981"
     },
     "user_tz": 240
    },
    "id": "FzBrBVd9JEmc"
   },
   "outputs": [],
   "source": [
    "# Comenzaremos con crear un histograma que nos muestre la distribución del índice gini"
   ]
  },
  {
   "cell_type": "code",
   "execution_count": 335,
   "metadata": {
    "executionInfo": {
     "elapsed": 5820,
     "status": "aborted",
     "timestamp": 1691511784482,
     "user": {
      "displayName": "Victoria Salazar",
      "userId": "15244846171196193981"
     },
     "user_tz": 240
    },
    "id": "C336ooNmzryl"
   },
   "outputs": [
    {
     "name": "stderr",
     "output_type": "stream",
     "text": [
      "C:\\Users\\nahuc\\anaconda3\\Lib\\site-packages\\seaborn\\_oldcore.py:1119: FutureWarning: use_inf_as_na option is deprecated and will be removed in a future version. Convert inf values to NaN before operating instead.\n",
      "  with pd.option_context('mode.use_inf_as_na', True):\n"
     ]
    },
    {
     "data": {
      "text/plain": [
       "<seaborn.axisgrid.FacetGrid at 0x2c42d828750>"
      ]
     },
     "execution_count": 335,
     "metadata": {},
     "output_type": "execute_result"
    },
    {
     "data": {
      "image/png": "[encoded data removed]",
      "text/plain": [
       "<Figure size 500x500 with 1 Axes>"
      ]
     },
     "metadata": {},
     "output_type": "display_data"
    }
   ],
   "source": [
    "sns.displot(df_nations[\"gini\"], kind=\"hist\")"
   ]
  },
  {
   "cell_type": "markdown",
   "metadata": {
    "id": "xn3i4CmQONKj"
   },
   "source": [
    "Del gráfico anterior, se desprende que la mayor concentración del índice gini está entre los 30 y 50 puntos, pero sería valioso agregar el valor promedio del gini en nuestra muestra. ¿Cómo hacemos eso?"
   ]
  },
  {
   "cell_type": "code",
   "execution_count": 338,
   "metadata": {
    "executionInfo": {
     "elapsed": 5819,
     "status": "aborted",
     "timestamp": 1691511784482,
     "user": {
      "displayName": "Victoria Salazar",
      "userId": "15244846171196193981"
     },
     "user_tz": 240
    },
    "id": "mUHweSubOw8G"
   },
   "outputs": [],
   "source": [
    "import matplotlib.pyplot as plt"
   ]
  },
  {
   "cell_type": "code",
   "execution_count": 339,
   "metadata": {
    "executionInfo": {
     "elapsed": 5819,
     "status": "aborted",
     "timestamp": 1691511784482,
     "user": {
      "displayName": "Victoria Salazar",
      "userId": "15244846171196193981"
     },
     "user_tz": 240
    },
    "id": "w6qAKkJJzr1n"
   },
   "outputs": [
    {
     "name": "stderr",
     "output_type": "stream",
     "text": [
      "C:\\Users\\nahuc\\anaconda3\\Lib\\site-packages\\seaborn\\_oldcore.py:1119: FutureWarning: use_inf_as_na option is deprecated and will be removed in a future version. Convert inf values to NaN before operating instead.\n",
      "  with pd.option_context('mode.use_inf_as_na', True):\n"
     ]
    },
    {
     "data": {
      "text/plain": [
       "<matplotlib.lines.Line2D at 0x2c42bbbaa50>"
      ]
     },
     "execution_count": 339,
     "metadata": {},
     "output_type": "execute_result"
    },
    {
     "data": {
      "image/png": "[encoded data removed]",
      "text/plain": [
       "<Figure size 500x500 with 1 Axes>"
      ]
     },
     "metadata": {},
     "output_type": "display_data"
    }
   ],
   "source": [
    "sns.displot(df_nations[\"gini\"], kind=\"hist\")\n",
    "plt.axvline(df_nations[\"gini\"].mean(), color = \"tomato\")"
   ]
  },
  {
   "cell_type": "code",
   "execution_count": 340,
   "metadata": {
    "executionInfo": {
     "elapsed": 5818,
     "status": "aborted",
     "timestamp": 1691511784482,
     "user": {
      "displayName": "Victoria Salazar",
      "userId": "15244846171196193981"
     },
     "user_tz": 240
    },
    "id": "_6yIE6rfPRVL"
   },
   "outputs": [],
   "source": [
    "# Graficos de barras"
   ]
  },
  {
   "cell_type": "markdown",
   "metadata": {
    "id": "2Av36IE5QG1K"
   },
   "source": [
    "Ahora utilizaremos gráficos de barras para observar comparaciones de comportamiento de regiones versus el resto del mundo.\n",
    "\n",
    "Ya habíamos creado los filtros de df_africa y df_europa, con esto vamos a comparar la mortalidad infantil."
   ]
  },
  {
   "cell_type": "code",
   "execution_count": 343,
   "metadata": {
    "executionInfo": {
     "elapsed": 5817,
     "status": "aborted",
     "timestamp": 1691511784483,
     "user": {
      "displayName": "Victoria Salazar",
      "userId": "15244846171196193981"
     },
     "user_tz": 240
    },
    "id": "KDdVbl8lSNFt"
   },
   "outputs": [
    {
     "data": {
      "text/plain": [
       "<Axes: xlabel='region', ylabel='chldmort'>"
      ]
     },
     "execution_count": 343,
     "metadata": {},
     "output_type": "execute_result"
    },
    {
     "data": {
      "image/png": "[encoded data removed]",
      "text/plain": [
       "<Figure size 800x800 with 1 Axes>"
      ]
     },
     "metadata": {},
     "output_type": "display_data"
    }
   ],
   "source": [
    "#Graficamos\n",
    "df_euafr = df_nations.loc[df_nations[\"region\"].isin([\"Europe\",\"Africa\"])]\n",
    "sns.barplot(data=df_euafr, x=\"region\", y=\"chldmort\")"
   ]
  },
  {
   "cell_type": "code",
   "execution_count": 344,
   "metadata": {
    "executionInfo": {
     "elapsed": 5816,
     "status": "aborted",
     "timestamp": 1691511784483,
     "user": {
      "displayName": "Victoria Salazar",
      "userId": "15244846171196193981"
     },
     "user_tz": 240
    },
    "id": "DsBIjBsIPRaO"
   },
   "outputs": [],
   "source": [
    "# Otro gráfico de barras: Alfabetismo promedio entre Americas y el resto del mundo\n",
    "\n",
    "# Filtrar los datos para las Americas y el resto del mundo\n",
    "df_americas = df_nations[df_nations['region'] == 'Americas']\n",
    "df_resto_mundo = df_nations[df_nations['region'] != 'Americas']"
   ]
  },
  {
   "cell_type": "code",
   "execution_count": 345,
   "metadata": {
    "id": "UH4Gg1oj-OD9"
   },
   "outputs": [],
   "source": [
    "# Calcular el alfabetismo promedio para cada grupo\n",
    "alfabetismo_promedio_americas = df_americas['literacy'].mean()\n",
    "alfabetismo_promedio_resto_mundo = df_resto_mundo['literacy'].mean()"
   ]
  },
  {
   "cell_type": "code",
   "execution_count": 347,
   "metadata": {
    "executionInfo": {
     "elapsed": 5814,
     "status": "aborted",
     "timestamp": 1691511784484,
     "user": {
      "displayName": "Victoria Salazar",
      "userId": "15244846171196193981"
     },
     "user_tz": 240
    },
    "id": "SPZndsuiiXiv"
   },
   "outputs": [
    {
     "name": "stderr",
     "output_type": "stream",
     "text": [
      "C:\\Users\\nahuc\\anaconda3\\Lib\\site-packages\\seaborn\\_oldcore.py:1765: FutureWarning: unique with argument that is not not a Series, Index, ExtensionArray, or np.ndarray is deprecated and will raise in a future version.\n",
      "  order = pd.unique(vector)\n"
     ]
    },
    {
     "data": {
      "text/plain": [
       "<Axes: >"
      ]
     },
     "execution_count": 347,
     "metadata": {},
     "output_type": "execute_result"
    },
    {
     "data": {
      "image/png": "[encoded data removed]",
      "text/plain": [
       "<Figure size 800x800 with 1 Axes>"
      ]
     },
     "metadata": {},
     "output_type": "display_data"
    }
   ],
   "source": [
    "# Crear el gráfico de barras utilizando sns.barplot\n",
    "sns.barplot(x=['Americas', 'Rest of the world'], y=[alfabetismo_promedio_americas, alfabetismo_promedio_resto_mundo])"
   ]
  },
  {
   "cell_type": "code",
   "execution_count": 348,
   "metadata": {
    "executionInfo": {
     "elapsed": 5814,
     "status": "aborted",
     "timestamp": 1691511784484,
     "user": {
      "displayName": "Victoria Salazar",
      "userId": "15244846171196193981"
     },
     "user_tz": 240
    },
    "id": "W1w4bAv9PRdp"
   },
   "outputs": [
    {
     "data": {
      "text/plain": [
       "<Axes: xlabel='region', ylabel='school'>"
      ]
     },
     "execution_count": 348,
     "metadata": {},
     "output_type": "execute_result"
    },
    {
     "data": {
      "image/png": "[encoded data removed]",
      "text/plain": [
       "<Figure size 800x800 with 1 Axes>"
      ]
     },
     "metadata": {},
     "output_type": "display_data"
    }
   ],
   "source": [
    "# Ahora usando gráfico Boxplot para observar la distribución de la escolaridad por región\n",
    "\n",
    "sns.boxplot(x=df_nations[\"region\"], y=df_nations[\"school\"])"
   ]
  },
  {
   "cell_type": "code",
   "execution_count": 349,
   "metadata": {
    "executionInfo": {
     "elapsed": 5813,
     "status": "aborted",
     "timestamp": 1691511784484,
     "user": {
      "displayName": "Victoria Salazar",
      "userId": "15244846171196193981"
     },
     "user_tz": 240
    },
    "id": "3rlt4VEhUJF9"
   },
   "outputs": [],
   "source": [
    "#Otra forma de observar la información es a traves de los diagramas de dispersión, pero para usar estos necesitamos eliminar datos perdidos en el dataset.\n",
    "df_limpia = df_nations.dropna()"
   ]
  },
  {
   "cell_type": "markdown",
   "metadata": {
    "id": "8nIbCRfZlTvb"
   },
   "source": [
    "Teniendo data adecuada, procedemos a observar la dispersión de los años de escolaridad sobre el grado de alfabetismo\n"
   ]
  },
  {
   "cell_type": "code",
   "execution_count": 419,
   "metadata": {
    "executionInfo": {
     "elapsed": 5812,
     "status": "aborted",
     "timestamp": 1691511784484,
     "user": {
      "displayName": "Victoria Salazar",
      "userId": "15244846171196193981"
     },
     "user_tz": 240
    },
    "id": "O_XhyauqFpTM"
   },
   "outputs": [
    {
     "data": {
      "text/html": [
       "<div>\n",
       "<style scoped>\n",
       "    .dataframe tbody tr th:only-of-type {\n",
       "        vertical-align: middle;\n",
       "    }\n",
       "\n",
       "    .dataframe tbody tr th {\n",
       "        vertical-align: top;\n",
       "    }\n",
       "\n",
       "    .dataframe thead th {\n",
       "        text-align: right;\n",
       "    }\n",
       "</style>\n",
       "<table border=\"1\" class=\"dataframe\">\n",
       "  <thead>\n",
       "    <tr style=\"text-align: right;\">\n",
       "      <th></th>\n",
       "      <th>country</th>\n",
       "      <th>region</th>\n",
       "      <th>gdp</th>\n",
       "      <th>school</th>\n",
       "      <th>adfert</th>\n",
       "      <th>chldmort</th>\n",
       "      <th>life</th>\n",
       "      <th>pop</th>\n",
       "      <th>urban</th>\n",
       "      <th>femlab</th>\n",
       "      <th>literacy</th>\n",
       "      <th>co2</th>\n",
       "      <th>gini</th>\n",
       "      <th>gdp_pesos2021</th>\n",
       "      <th>co2_recodificada</th>\n",
       "    </tr>\n",
       "  </thead>\n",
       "  <tbody>\n",
       "    <tr>\n",
       "      <th>4</th>\n",
       "      <td>Burundi</td>\n",
       "      <td>Africa</td>\n",
       "      <td>349.200012</td>\n",
       "      <td>2.483333</td>\n",
       "      <td>18.600000</td>\n",
       "      <td>168.50</td>\n",
       "      <td>48.866665</td>\n",
       "      <td>7821783</td>\n",
       "      <td>10.250000</td>\n",
       "      <td>1.0344</td>\n",
       "      <td>66.599998</td>\n",
       "      <td>0.100000</td>\n",
       "      <td>33.299999</td>\n",
       "      <td>5.063400e+05</td>\n",
       "      <td>0</td>\n",
       "    </tr>\n",
       "    <tr>\n",
       "      <th>11</th>\n",
       "      <td>Congo (Dem Rep)</td>\n",
       "      <td>Africa</td>\n",
       "      <td>279.799988</td>\n",
       "      <td>3.416667</td>\n",
       "      <td>201.399994</td>\n",
       "      <td>199.00</td>\n",
       "      <td>47.516666</td>\n",
       "      <td>61654348</td>\n",
       "      <td>33.633331</td>\n",
       "      <td>0.6552</td>\n",
       "      <td>66.800003</td>\n",
       "      <td>0.100000</td>\n",
       "      <td>44.400002</td>\n",
       "      <td>4.057100e+05</td>\n",
       "      <td>0</td>\n",
       "    </tr>\n",
       "    <tr>\n",
       "      <th>12</th>\n",
       "      <td>Côte d'Ivoire</td>\n",
       "      <td>Africa</td>\n",
       "      <td>1539.199951</td>\n",
       "      <td>3.200000</td>\n",
       "      <td>129.399994</td>\n",
       "      <td>123.25</td>\n",
       "      <td>53.049999</td>\n",
       "      <td>18844750</td>\n",
       "      <td>48.666664</td>\n",
       "      <td>0.6132</td>\n",
       "      <td>55.299999</td>\n",
       "      <td>1.450000</td>\n",
       "      <td>46.099998</td>\n",
       "      <td>2.231840e+06</td>\n",
       "      <td>0</td>\n",
       "    </tr>\n",
       "    <tr>\n",
       "      <th>14</th>\n",
       "      <td>Egypt</td>\n",
       "      <td>Africa</td>\n",
       "      <td>4754.399902</td>\n",
       "      <td>5.950000</td>\n",
       "      <td>46.599998</td>\n",
       "      <td>24.75</td>\n",
       "      <td>72.333336</td>\n",
       "      <td>77645648</td>\n",
       "      <td>43.183334</td>\n",
       "      <td>0.3092</td>\n",
       "      <td>68.900002</td>\n",
       "      <td>8.450000</td>\n",
       "      <td>32.099998</td>\n",
       "      <td>6.893880e+06</td>\n",
       "      <td>0</td>\n",
       "    </tr>\n",
       "    <tr>\n",
       "      <th>17</th>\n",
       "      <td>Ethiopia</td>\n",
       "      <td>Africa</td>\n",
       "      <td>741.400024</td>\n",
       "      <td>1.500000</td>\n",
       "      <td>72.400002</td>\n",
       "      <td>112.00</td>\n",
       "      <td>57.049999</td>\n",
       "      <td>78593232</td>\n",
       "      <td>16.283333</td>\n",
       "      <td>0.8700</td>\n",
       "      <td>29.799999</td>\n",
       "      <td>0.300000</td>\n",
       "      <td>29.799999</td>\n",
       "      <td>1.075030e+06</td>\n",
       "      <td>0</td>\n",
       "    </tr>\n",
       "    <tr>\n",
       "      <th>...</th>\n",
       "      <td>...</td>\n",
       "      <td>...</td>\n",
       "      <td>...</td>\n",
       "      <td>...</td>\n",
       "      <td>...</td>\n",
       "      <td>...</td>\n",
       "      <td>...</td>\n",
       "      <td>...</td>\n",
       "      <td>...</td>\n",
       "      <td>...</td>\n",
       "      <td>...</td>\n",
       "      <td>...</td>\n",
       "      <td>...</td>\n",
       "      <td>...</td>\n",
       "      <td>...</td>\n",
       "    </tr>\n",
       "    <tr>\n",
       "      <th>161</th>\n",
       "      <td>Moldova</td>\n",
       "      <td>Europe</td>\n",
       "      <td>2553.600098</td>\n",
       "      <td>9.533333</td>\n",
       "      <td>33.799999</td>\n",
       "      <td>18.00</td>\n",
       "      <td>68.366669</td>\n",
       "      <td>3660717</td>\n",
       "      <td>45.066666</td>\n",
       "      <td>0.9054</td>\n",
       "      <td>98.500000</td>\n",
       "      <td>7.600000</td>\n",
       "      <td>38.000000</td>\n",
       "      <td>3.702720e+06</td>\n",
       "      <td>0</td>\n",
       "    </tr>\n",
       "    <tr>\n",
       "      <th>166</th>\n",
       "      <td>Poland</td>\n",
       "      <td>Europe</td>\n",
       "      <td>15446.400391</td>\n",
       "      <td>9.816667</td>\n",
       "      <td>14.800000</td>\n",
       "      <td>7.25</td>\n",
       "      <td>75.550003</td>\n",
       "      <td>38211584</td>\n",
       "      <td>61.183334</td>\n",
       "      <td>0.7490</td>\n",
       "      <td>99.500000</td>\n",
       "      <td>29.850000</td>\n",
       "      <td>34.200001</td>\n",
       "      <td>2.239728e+07</td>\n",
       "      <td>1</td>\n",
       "    </tr>\n",
       "    <tr>\n",
       "      <th>168</th>\n",
       "      <td>Romania</td>\n",
       "      <td>Europe</td>\n",
       "      <td>10560.400391</td>\n",
       "      <td>10.283333</td>\n",
       "      <td>32.000000</td>\n",
       "      <td>14.50</td>\n",
       "      <td>73.116669</td>\n",
       "      <td>21622482</td>\n",
       "      <td>56.049999</td>\n",
       "      <td>0.7584</td>\n",
       "      <td>97.699997</td>\n",
       "      <td>16.200001</td>\n",
       "      <td>31.200001</td>\n",
       "      <td>1.531258e+07</td>\n",
       "      <td>0</td>\n",
       "    </tr>\n",
       "    <tr>\n",
       "      <th>169</th>\n",
       "      <td>Russian Federation</td>\n",
       "      <td>Europe</td>\n",
       "      <td>13424.799805</td>\n",
       "      <td>9.783334</td>\n",
       "      <td>30.000000</td>\n",
       "      <td>14.25</td>\n",
       "      <td>67.399994</td>\n",
       "      <td>143305536</td>\n",
       "      <td>73.016663</td>\n",
       "      <td>0.8206</td>\n",
       "      <td>99.599998</td>\n",
       "      <td>39.349998</td>\n",
       "      <td>42.299999</td>\n",
       "      <td>1.946596e+07</td>\n",
       "      <td>1</td>\n",
       "    </tr>\n",
       "    <tr>\n",
       "      <th>177</th>\n",
       "      <td>Ukraine</td>\n",
       "      <td>Europe</td>\n",
       "      <td>6124.000000</td>\n",
       "      <td>11.200000</td>\n",
       "      <td>30.799999</td>\n",
       "      <td>16.00</td>\n",
       "      <td>67.733330</td>\n",
       "      <td>46158800</td>\n",
       "      <td>68.166672</td>\n",
       "      <td>0.7940</td>\n",
       "      <td>99.699997</td>\n",
       "      <td>25.350000</td>\n",
       "      <td>27.500000</td>\n",
       "      <td>8.879800e+06</td>\n",
       "      <td>1</td>\n",
       "    </tr>\n",
       "  </tbody>\n",
       "</table>\n",
       "<p>71 rows × 15 columns</p>\n",
       "</div>"
      ],
      "text/plain": [
       "                country  region           gdp     school      adfert  \\\n",
       "4               Burundi  Africa    349.200012   2.483333   18.600000   \n",
       "11      Congo (Dem Rep)  Africa    279.799988   3.416667  201.399994   \n",
       "12        Côte d'Ivoire  Africa   1539.199951   3.200000  129.399994   \n",
       "14                Egypt  Africa   4754.399902   5.950000   46.599998   \n",
       "17             Ethiopia  Africa    741.400024   1.500000   72.400002   \n",
       "..                  ...     ...           ...        ...         ...   \n",
       "161             Moldova  Europe   2553.600098   9.533333   33.799999   \n",
       "166              Poland  Europe  15446.400391   9.816667   14.800000   \n",
       "168             Romania  Europe  10560.400391  10.283333   32.000000   \n",
       "169  Russian Federation  Europe  13424.799805   9.783334   30.000000   \n",
       "177             Ukraine  Europe   6124.000000  11.200000   30.799999   \n",
       "\n",
       "     chldmort       life        pop      urban  femlab   literacy        co2  \\\n",
       "4      168.50  48.866665    7821783  10.250000  1.0344  66.599998   0.100000   \n",
       "11     199.00  47.516666   61654348  33.633331  0.6552  66.800003   0.100000   \n",
       "12     123.25  53.049999   18844750  48.666664  0.6132  55.299999   1.450000   \n",
       "14      24.75  72.333336   77645648  43.183334  0.3092  68.900002   8.450000   \n",
       "17     112.00  57.049999   78593232  16.283333  0.8700  29.799999   0.300000   \n",
       "..        ...        ...        ...        ...     ...        ...        ...   \n",
       "161     18.00  68.366669    3660717  45.066666  0.9054  98.500000   7.600000   \n",
       "166      7.25  75.550003   38211584  61.183334  0.7490  99.500000  29.850000   \n",
       "168     14.50  73.116669   21622482  56.049999  0.7584  97.699997  16.200001   \n",
       "169     14.25  67.399994  143305536  73.016663  0.8206  99.599998  39.349998   \n",
       "177     16.00  67.733330   46158800  68.166672  0.7940  99.699997  25.350000   \n",
       "\n",
       "          gini  gdp_pesos2021  co2_recodificada  \n",
       "4    33.299999   5.063400e+05                 0  \n",
       "11   44.400002   4.057100e+05                 0  \n",
       "12   46.099998   2.231840e+06                 0  \n",
       "14   32.099998   6.893880e+06                 0  \n",
       "17   29.799999   1.075030e+06                 0  \n",
       "..         ...            ...               ...  \n",
       "161  38.000000   3.702720e+06                 0  \n",
       "166  34.200001   2.239728e+07                 1  \n",
       "168  31.200001   1.531258e+07                 0  \n",
       "169  42.299999   1.946596e+07                 1  \n",
       "177  27.500000   8.879800e+06                 1  \n",
       "\n",
       "[71 rows x 15 columns]"
      ]
     },
     "execution_count": 419,
     "metadata": {},
     "output_type": "execute_result"
    }
   ],
   "source": [
    "df_limpia"
   ]
  },
  {
   "cell_type": "code",
   "execution_count": 420,
   "metadata": {
    "executionInfo": {
     "elapsed": 5811,
     "status": "aborted",
     "timestamp": 1691511784484,
     "user": {
      "displayName": "Victoria Salazar",
      "userId": "15244846171196193981"
     },
     "user_tz": 240
    },
    "id": "RC_pvvXXk0cu"
   },
   "outputs": [
    {
     "data": {
      "text/plain": [
       "<Axes: xlabel='school', ylabel='literacy'>"
      ]
     },
     "execution_count": 420,
     "metadata": {},
     "output_type": "execute_result"
    },
    {
     "data": {
      "image/png": "[encoded data removed]",
      "text/plain": [
       "<Figure size 800x800 with 1 Axes>"
      ]
     },
     "metadata": {},
     "output_type": "display_data"
    }
   ],
   "source": [
    "sns.scatterplot(x=df_limpia[\"school\"], y=df_limpia[\"literacy\"])"
   ]
  },
  {
   "cell_type": "code",
   "execution_count": 423,
   "metadata": {
    "executionInfo": {
     "elapsed": 5811,
     "status": "aborted",
     "timestamp": 1691511784485,
     "user": {
      "displayName": "Victoria Salazar",
      "userId": "15244846171196193981"
     },
     "user_tz": 240
    },
    "id": "UBeqhR_-lXkh"
   },
   "outputs": [
    {
     "data": {
      "text/plain": [
       "<Axes: xlabel='school', ylabel='gdp'>"
      ]
     },
     "execution_count": 423,
     "metadata": {},
     "output_type": "execute_result"
    },
    {
     "data": {
      "image/png": "[encoded data removed]",
      "text/plain": [
       "<Figure size 800x800 with 1 Axes>"
      ]
     },
     "metadata": {},
     "output_type": "display_data"
    }
   ],
   "source": [
    "# ¿Cómo se podría crear un diagrama de dispersión de la tasa de escolaridad (\"school\") versus el pib (\"gdp\")?\n",
    "sns.scatterplot(x=df_limpia[\"school\"], y=df_limpia[\"gdp\"])"
   ]
  },
  {
   "cell_type": "markdown",
   "metadata": {
    "id": "ZahvEsHeTNN7"
   },
   "source": [
    "El último tipo de gráfico que revisaremos en este taller, corresponde al mapa de calor o `heatmap`. Este tipo de gráfico es una representación visual de los datos en que se muestra concentración o intensidad.\n",
    "\n",
    "En este caso lo utilizaremos para buscar correlación entre las distintas variables de nuestro dataset.\n",
    "\n",
    "**¿Qué es correlación?**\n",
    "\n",
    "Correlación es una medida estadística que expresa hasta qué punto dos variables están relacionadas linealmente. Es una herramienta común para describir relaciones simples sin hacer afirmaciones sobre causa y efecto."
   ]
  },
  {
   "cell_type": "code",
   "execution_count": 430,
   "metadata": {
    "executionInfo": {
     "elapsed": 5809,
     "status": "aborted",
     "timestamp": 1691511784485,
     "user": {
      "displayName": "Victoria Salazar",
      "userId": "15244846171196193981"
     },
     "user_tz": 240
    },
    "id": "-x5OeyTzzr42"
   },
   "outputs": [
    {
     "ename": "ValueError",
     "evalue": "could not convert string to float: 'Algeria'",
     "output_type": "error",
     "traceback": [
      "\u001b[1;31m---------------------------------------------------------------------------\u001b[0m",
      "\u001b[1;31mValueError\u001b[0m                                Traceback (most recent call last)",
      "Cell \u001b[1;32mIn[430], line 1\u001b[0m\n\u001b[1;32m----> 1\u001b[0m corr \u001b[38;5;241m=\u001b[39m df_nations\u001b[38;5;241m.\u001b[39mcorr()\n",
      "File \u001b[1;32m~\\anaconda3\\Lib\\site-packages\\pandas\\core\\frame.py:10704\u001b[0m, in \u001b[0;36mDataFrame.corr\u001b[1;34m(self, method, min_periods, numeric_only)\u001b[0m\n\u001b[0;32m  10702\u001b[0m cols \u001b[38;5;241m=\u001b[39m data\u001b[38;5;241m.\u001b[39mcolumns\n\u001b[0;32m  10703\u001b[0m idx \u001b[38;5;241m=\u001b[39m cols\u001b[38;5;241m.\u001b[39mcopy()\n\u001b[1;32m> 10704\u001b[0m mat \u001b[38;5;241m=\u001b[39m data\u001b[38;5;241m.\u001b[39mto_numpy(dtype\u001b[38;5;241m=\u001b[39m\u001b[38;5;28mfloat\u001b[39m, na_value\u001b[38;5;241m=\u001b[39mnp\u001b[38;5;241m.\u001b[39mnan, copy\u001b[38;5;241m=\u001b[39m\u001b[38;5;28;01mFalse\u001b[39;00m)\n\u001b[0;32m  10706\u001b[0m \u001b[38;5;28;01mif\u001b[39;00m method \u001b[38;5;241m==\u001b[39m \u001b[38;5;124m\"\u001b[39m\u001b[38;5;124mpearson\u001b[39m\u001b[38;5;124m\"\u001b[39m:\n\u001b[0;32m  10707\u001b[0m     correl \u001b[38;5;241m=\u001b[39m libalgos\u001b[38;5;241m.\u001b[39mnancorr(mat, minp\u001b[38;5;241m=\u001b[39mmin_periods)\n",
      "File \u001b[1;32m~\\anaconda3\\Lib\\site-packages\\pandas\\core\\frame.py:1889\u001b[0m, in \u001b[0;36mDataFrame.to_numpy\u001b[1;34m(self, dtype, copy, na_value)\u001b[0m\n\u001b[0;32m   1887\u001b[0m \u001b[38;5;28;01mif\u001b[39;00m dtype \u001b[38;5;129;01mis\u001b[39;00m \u001b[38;5;129;01mnot\u001b[39;00m \u001b[38;5;28;01mNone\u001b[39;00m:\n\u001b[0;32m   1888\u001b[0m     dtype \u001b[38;5;241m=\u001b[39m np\u001b[38;5;241m.\u001b[39mdtype(dtype)\n\u001b[1;32m-> 1889\u001b[0m result \u001b[38;5;241m=\u001b[39m \u001b[38;5;28mself\u001b[39m\u001b[38;5;241m.\u001b[39m_mgr\u001b[38;5;241m.\u001b[39mas_array(dtype\u001b[38;5;241m=\u001b[39mdtype, copy\u001b[38;5;241m=\u001b[39mcopy, na_value\u001b[38;5;241m=\u001b[39mna_value)\n\u001b[0;32m   1890\u001b[0m \u001b[38;5;28;01mif\u001b[39;00m result\u001b[38;5;241m.\u001b[39mdtype \u001b[38;5;129;01mis\u001b[39;00m \u001b[38;5;129;01mnot\u001b[39;00m dtype:\n\u001b[0;32m   1891\u001b[0m     result \u001b[38;5;241m=\u001b[39m np\u001b[38;5;241m.\u001b[39marray(result, dtype\u001b[38;5;241m=\u001b[39mdtype, copy\u001b[38;5;241m=\u001b[39m\u001b[38;5;28;01mFalse\u001b[39;00m)\n",
      "File \u001b[1;32m~\\anaconda3\\Lib\\site-packages\\pandas\\core\\internals\\managers.py:1656\u001b[0m, in \u001b[0;36mBlockManager.as_array\u001b[1;34m(self, dtype, copy, na_value)\u001b[0m\n\u001b[0;32m   1654\u001b[0m         arr\u001b[38;5;241m.\u001b[39mflags\u001b[38;5;241m.\u001b[39mwriteable \u001b[38;5;241m=\u001b[39m \u001b[38;5;28;01mFalse\u001b[39;00m\n\u001b[0;32m   1655\u001b[0m \u001b[38;5;28;01melse\u001b[39;00m:\n\u001b[1;32m-> 1656\u001b[0m     arr \u001b[38;5;241m=\u001b[39m \u001b[38;5;28mself\u001b[39m\u001b[38;5;241m.\u001b[39m_interleave(dtype\u001b[38;5;241m=\u001b[39mdtype, na_value\u001b[38;5;241m=\u001b[39mna_value)\n\u001b[0;32m   1657\u001b[0m     \u001b[38;5;66;03m# The underlying data was copied within _interleave, so no need\u001b[39;00m\n\u001b[0;32m   1658\u001b[0m     \u001b[38;5;66;03m# to further copy if copy=True or setting na_value\u001b[39;00m\n\u001b[0;32m   1660\u001b[0m \u001b[38;5;28;01mif\u001b[39;00m na_value \u001b[38;5;129;01mis\u001b[39;00m lib\u001b[38;5;241m.\u001b[39mno_default:\n",
      "File \u001b[1;32m~\\anaconda3\\Lib\\site-packages\\pandas\\core\\internals\\managers.py:1715\u001b[0m, in \u001b[0;36mBlockManager._interleave\u001b[1;34m(self, dtype, na_value)\u001b[0m\n\u001b[0;32m   1713\u001b[0m     \u001b[38;5;28;01melse\u001b[39;00m:\n\u001b[0;32m   1714\u001b[0m         arr \u001b[38;5;241m=\u001b[39m blk\u001b[38;5;241m.\u001b[39mget_values(dtype)\n\u001b[1;32m-> 1715\u001b[0m     result[rl\u001b[38;5;241m.\u001b[39mindexer] \u001b[38;5;241m=\u001b[39m arr\n\u001b[0;32m   1716\u001b[0m     itemmask[rl\u001b[38;5;241m.\u001b[39mindexer] \u001b[38;5;241m=\u001b[39m \u001b[38;5;241m1\u001b[39m\n\u001b[0;32m   1718\u001b[0m \u001b[38;5;28;01mif\u001b[39;00m \u001b[38;5;129;01mnot\u001b[39;00m itemmask\u001b[38;5;241m.\u001b[39mall():\n",
      "\u001b[1;31mValueError\u001b[0m: could not convert string to float: 'Algeria'"
     ]
    }
   ],
   "source": [
    "corr = df_nations.corr()"
   ]
  },
  {
   "cell_type": "code",
   "execution_count": 432,
   "metadata": {
    "executionInfo": {
     "elapsed": 5807,
     "status": "aborted",
     "timestamp": 1691511784485,
     "user": {
      "displayName": "Victoria Salazar",
      "userId": "15244846171196193981"
     },
     "user_tz": 240
    },
    "id": "EwwlCIgUmDBh"
   },
   "outputs": [
    {
     "ename": "NameError",
     "evalue": "name 'corr' is not defined",
     "output_type": "error",
     "traceback": [
      "\u001b[1;31m---------------------------------------------------------------------------\u001b[0m",
      "\u001b[1;31mNameError\u001b[0m                                 Traceback (most recent call last)",
      "Cell \u001b[1;32mIn[432], line 2\u001b[0m\n\u001b[0;32m      1\u001b[0m plt\u001b[38;5;241m.\u001b[39mrcParams[\u001b[38;5;124m\"\u001b[39m\u001b[38;5;124mfigure.figsize\u001b[39m\u001b[38;5;124m\"\u001b[39m] \u001b[38;5;241m=\u001b[39m(\u001b[38;5;241m8\u001b[39m,\u001b[38;5;241m8\u001b[39m)\n\u001b[1;32m----> 2\u001b[0m sns\u001b[38;5;241m.\u001b[39mheatmap(corr, cmap\u001b[38;5;241m=\u001b[39m\u001b[38;5;124m\"\u001b[39m\u001b[38;5;124mGreens\u001b[39m\u001b[38;5;124m\"\u001b[39m, annot\u001b[38;5;241m=\u001b[39m\u001b[38;5;28;01mTrue\u001b[39;00m)\n",
      "\u001b[1;31mNameError\u001b[0m: name 'corr' is not defined"
     ]
    }
   ],
   "source": [
    "plt.rcParams[\"figure.figsize\"] =(8,8)\n",
    "sns.heatmap(corr, cmap=\"Greens\", annot=True)"
   ]
  },
  {
   "cell_type": "markdown",
   "metadata": {
    "id": "EW7VXH0hWJUf"
   },
   "source": [
    "Dentro de las principales correlaciones existentes, nos encontramos con la correlación positiva entre mortalidad infantil y tasa de fertilidad adolecente, también la correlación positiva entre el promedio de años de escolaridad y tasa de alfabetización. Correlación entre PIB per capita y porcentaje de población urbana."
   ]
  },
  {
   "cell_type": "markdown",
   "metadata": {
    "id": "lskyHRSxWroW"
   },
   "source": [
    "## Por último, sección de modelación"
   ]
  },
  {
   "cell_type": "markdown",
   "metadata": {
    "id": "88s_0ERpW1Xn"
   },
   "source": [
    "La regresión lineal es un modelo matemático usado para aproximar la relación de dependencia entre una variable dependiente $Y$, $m$ variables independientes $X_{i}$ y un término aleatorio (de error) $e$.\n",
    "\n",
    "$$\n",
    "y_i = \\beta_{0} + \\beta_1 x_{i1} + ... +\\beta_{m} x_{im} + \\epsilon_i\n",
    "$$\n",
    "\n",
    "La principal motivación es mostrar cuánto de la variabilidad de la variable dependiente $Y$ es explicado por la variabilidad de las variables independientes $X_{i}$.\n"
   ]
  },
  {
   "cell_type": "markdown",
   "metadata": {
    "id": "btC9zBTlYb7u"
   },
   "source": [
    "Para trabajar el modelo de regresión lineal es fundamental usar datos limpios de valores perdidos, por lo que utilizaremos el dataset que llamamos data_limpia.\n",
    "\n",
    "Y los pasos a seguir para implementar el modelo de regresión lineal más simple:\n",
    "  1. Plantear el modelo con su formula\n",
    "  2. Ajustar el modelo utilizando el método `.fit()`\n",
    "  3. Mostrar los resultados del modelo"
   ]
  },
  {
   "cell_type": "code",
   "execution_count": 438,
   "metadata": {
    "executionInfo": {
     "elapsed": 5804,
     "status": "aborted",
     "timestamp": 1691511784485,
     "user": {
      "displayName": "Victoria Salazar",
      "userId": "15244846171196193981"
     },
     "user_tz": 240
    },
    "id": "5FqDEgUOWyrL"
   },
   "outputs": [],
   "source": [
    "# ¿Cual es la relación CO2 y el GDP?"
   ]
  },
  {
   "cell_type": "code",
   "execution_count": 440,
   "metadata": {
    "executionInfo": {
     "elapsed": 5802,
     "status": "aborted",
     "timestamp": 1691511784485,
     "user": {
      "displayName": "Victoria Salazar",
      "userId": "15244846171196193981"
     },
     "user_tz": 240
    },
    "id": "UB13iYaOWzM_"
   },
   "outputs": [],
   "source": [
    "modelo1 = smf.ols(\"gdp ~ co2\", data=df_limpia)"
   ]
  },
  {
   "cell_type": "code",
   "execution_count": 442,
   "metadata": {
    "executionInfo": {
     "elapsed": 5800,
     "status": "aborted",
     "timestamp": 1691511784486,
     "user": {
      "displayName": "Victoria Salazar",
      "userId": "15244846171196193981"
     },
     "user_tz": 240
    },
    "id": "PYatpO-baEdX"
   },
   "outputs": [],
   "source": [
    "modelo1 = modelo1.fit()"
   ]
  },
  {
   "cell_type": "code",
   "execution_count": 444,
   "metadata": {
    "executionInfo": {
     "elapsed": 5797,
     "status": "aborted",
     "timestamp": 1691511784486,
     "user": {
      "displayName": "Victoria Salazar",
      "userId": "15244846171196193981"
     },
     "user_tz": 240
    },
    "id": "aS26HmcnoeGb"
   },
   "outputs": [
    {
     "data": {
      "text/html": [
       "<table class=\"simpletable\">\n",
       "<caption>OLS Regression Results</caption>\n",
       "<tr>\n",
       "  <th>Dep. Variable:</th>           <td>gdp</td>       <th>  R-squared:         </th> <td>   0.872</td>\n",
       "</tr>\n",
       "<tr>\n",
       "  <th>Model:</th>                   <td>OLS</td>       <th>  Adj. R-squared:    </th> <td>   0.870</td>\n",
       "</tr>\n",
       "<tr>\n",
       "  <th>Method:</th>             <td>Least Squares</td>  <th>  F-statistic:       </th> <td>   470.4</td>\n",
       "</tr>\n",
       "<tr>\n",
       "  <th>Date:</th>             <td>Mon, 22 Jul 2024</td> <th>  Prob (F-statistic):</th> <td>1.59e-32</td>\n",
       "</tr>\n",
       "<tr>\n",
       "  <th>Time:</th>                 <td>17:26:03</td>     <th>  Log-Likelihood:    </th> <td> -677.72</td>\n",
       "</tr>\n",
       "<tr>\n",
       "  <th>No. Observations:</th>      <td>    71</td>      <th>  AIC:               </th> <td>   1359.</td>\n",
       "</tr>\n",
       "<tr>\n",
       "  <th>Df Residuals:</th>          <td>    69</td>      <th>  BIC:               </th> <td>   1364.</td>\n",
       "</tr>\n",
       "<tr>\n",
       "  <th>Df Model:</th>              <td>     1</td>      <th>                     </th>     <td> </td>   \n",
       "</tr>\n",
       "<tr>\n",
       "  <th>Covariance Type:</th>      <td>nonrobust</td>    <th>                     </th>     <td> </td>   \n",
       "</tr>\n",
       "</table>\n",
       "<table class=\"simpletable\">\n",
       "<tr>\n",
       "      <td></td>         <th>coef</th>     <th>std err</th>      <th>t</th>      <th>P>|t|</th>  <th>[0.025</th>    <th>0.975]</th>  \n",
       "</tr>\n",
       "<tr>\n",
       "  <th>Intercept</th> <td> 2791.2666</td> <td>  448.368</td> <td>    6.225</td> <td> 0.000</td> <td> 1896.797</td> <td> 3685.737</td>\n",
       "</tr>\n",
       "<tr>\n",
       "  <th>co2</th>       <td>  343.9784</td> <td>   15.860</td> <td>   21.688</td> <td> 0.000</td> <td>  312.338</td> <td>  375.619</td>\n",
       "</tr>\n",
       "</table>\n",
       "<table class=\"simpletable\">\n",
       "<tr>\n",
       "  <th>Omnibus:</th>       <td> 7.687</td> <th>  Durbin-Watson:     </th> <td>   1.154</td>\n",
       "</tr>\n",
       "<tr>\n",
       "  <th>Prob(Omnibus):</th> <td> 0.021</td> <th>  Jarque-Bera (JB):  </th> <td>   7.423</td>\n",
       "</tr>\n",
       "<tr>\n",
       "  <th>Skew:</th>          <td> 0.785</td> <th>  Prob(JB):          </th> <td>  0.0244</td>\n",
       "</tr>\n",
       "<tr>\n",
       "  <th>Kurtosis:</th>      <td> 3.217</td> <th>  Cond. No.          </th> <td>    31.1</td>\n",
       "</tr>\n",
       "</table><br/><br/>Notes:<br/>[1] Standard Errors assume that the covariance matrix of the errors is correctly specified."
      ],
      "text/latex": [
       "\\begin{center}\n",
       "\\begin{tabular}{lclc}\n",
       "\\toprule\n",
       "\\textbf{Dep. Variable:}    &       gdp        & \\textbf{  R-squared:         } &     0.872   \\\\\n",
       "\\textbf{Model:}            &       OLS        & \\textbf{  Adj. R-squared:    } &     0.870   \\\\\n",
       "\\textbf{Method:}           &  Least Squares   & \\textbf{  F-statistic:       } &     470.4   \\\\\n",
       "\\textbf{Date:}             & Mon, 22 Jul 2024 & \\textbf{  Prob (F-statistic):} &  1.59e-32   \\\\\n",
       "\\textbf{Time:}             &     17:26:03     & \\textbf{  Log-Likelihood:    } &   -677.72   \\\\\n",
       "\\textbf{No. Observations:} &          71      & \\textbf{  AIC:               } &     1359.   \\\\\n",
       "\\textbf{Df Residuals:}     &          69      & \\textbf{  BIC:               } &     1364.   \\\\\n",
       "\\textbf{Df Model:}         &           1      & \\textbf{                     } &             \\\\\n",
       "\\textbf{Covariance Type:}  &    nonrobust     & \\textbf{                     } &             \\\\\n",
       "\\bottomrule\n",
       "\\end{tabular}\n",
       "\\begin{tabular}{lcccccc}\n",
       "                   & \\textbf{coef} & \\textbf{std err} & \\textbf{t} & \\textbf{P$> |$t$|$} & \\textbf{[0.025} & \\textbf{0.975]}  \\\\\n",
       "\\midrule\n",
       "\\textbf{Intercept} &    2791.2666  &      448.368     &     6.225  &         0.000        &     1896.797    &     3685.737     \\\\\n",
       "\\textbf{co2}       &     343.9784  &       15.860     &    21.688  &         0.000        &      312.338    &      375.619     \\\\\n",
       "\\bottomrule\n",
       "\\end{tabular}\n",
       "\\begin{tabular}{lclc}\n",
       "\\textbf{Omnibus:}       &  7.687 & \\textbf{  Durbin-Watson:     } &    1.154  \\\\\n",
       "\\textbf{Prob(Omnibus):} &  0.021 & \\textbf{  Jarque-Bera (JB):  } &    7.423  \\\\\n",
       "\\textbf{Skew:}          &  0.785 & \\textbf{  Prob(JB):          } &   0.0244  \\\\\n",
       "\\textbf{Kurtosis:}      &  3.217 & \\textbf{  Cond. No.          } &     31.1  \\\\\n",
       "\\bottomrule\n",
       "\\end{tabular}\n",
       "%\\caption{OLS Regression Results}\n",
       "\\end{center}\n",
       "\n",
       "Notes: \\newline\n",
       " [1] Standard Errors assume that the covariance matrix of the errors is correctly specified."
      ],
      "text/plain": [
       "<class 'statsmodels.iolib.summary.Summary'>\n",
       "\"\"\"\n",
       "                            OLS Regression Results                            \n",
       "==============================================================================\n",
       "Dep. Variable:                    gdp   R-squared:                       0.872\n",
       "Model:                            OLS   Adj. R-squared:                  0.870\n",
       "Method:                 Least Squares   F-statistic:                     470.4\n",
       "Date:                Mon, 22 Jul 2024   Prob (F-statistic):           1.59e-32\n",
       "Time:                        17:26:03   Log-Likelihood:                -677.72\n",
       "No. Observations:                  71   AIC:                             1359.\n",
       "Df Residuals:                      69   BIC:                             1364.\n",
       "Df Model:                           1                                         \n",
       "Covariance Type:            nonrobust                                         \n",
       "==============================================================================\n",
       "                 coef    std err          t      P>|t|      [0.025      0.975]\n",
       "------------------------------------------------------------------------------\n",
       "Intercept   2791.2666    448.368      6.225      0.000    1896.797    3685.737\n",
       "co2          343.9784     15.860     21.688      0.000     312.338     375.619\n",
       "==============================================================================\n",
       "Omnibus:                        7.687   Durbin-Watson:                   1.154\n",
       "Prob(Omnibus):                  0.021   Jarque-Bera (JB):                7.423\n",
       "Skew:                           0.785   Prob(JB):                       0.0244\n",
       "Kurtosis:                       3.217   Cond. No.                         31.1\n",
       "==============================================================================\n",
       "\n",
       "Notes:\n",
       "[1] Standard Errors assume that the covariance matrix of the errors is correctly specified.\n",
       "\"\"\""
      ]
     },
     "execution_count": 444,
     "metadata": {},
     "output_type": "execute_result"
    }
   ],
   "source": [
    "modelo1.summary()"
   ]
  },
  {
   "cell_type": "markdown",
   "metadata": {
    "id": "QnXtGtK5B_5p"
   },
   "source": [
    "A modo de ejercicio, te dejamos a continuación un modelo 2 para implementar, sigue el paso a paso y ejecuta el código por tu cuenta:\n",
    "\n",
    "  1. Fórmula: `\"gdp ~ chldmort + life + school + co2\"` y data utilizada es \"df_limpia\".\n",
    "  2. Ajustar el modelo con `fit()`\n",
    "  3. Mostrar resultados\n"
   ]
  },
  {
   "cell_type": "code",
   "execution_count": 455,
   "metadata": {
    "executionInfo": {
     "elapsed": 5795,
     "status": "aborted",
     "timestamp": 1691511784486,
     "user": {
      "displayName": "Victoria Salazar",
      "userId": "15244846171196193981"
     },
     "user_tz": 240
    },
    "id": "1MXWqiiDfWPH"
   },
   "outputs": [],
   "source": [
    "modelo2 = smf.ols(\"gdp ~ chldmort + life + school + co2\", data=df_limpia)"
   ]
  },
  {
   "cell_type": "code",
   "execution_count": 457,
   "metadata": {
    "executionInfo": {
     "elapsed": 5793,
     "status": "aborted",
     "timestamp": 1691511784487,
     "user": {
      "displayName": "Victoria Salazar",
      "userId": "15244846171196193981"
     },
     "user_tz": 240
    },
    "id": "xVmOBlVkfZ7y"
   },
   "outputs": [],
   "source": [
    "modelo2 =modelo2.fit"
   ]
  },
  {
   "cell_type": "code",
   "execution_count": 463,
   "metadata": {
    "executionInfo": {
     "elapsed": 5790,
     "status": "aborted",
     "timestamp": 1691511784487,
     "user": {
      "displayName": "Victoria Salazar",
      "userId": "15244846171196193981"
     },
     "user_tz": 240
    },
    "id": "mJRPHnEDfcBW"
   },
   "outputs": [
    {
     "ename": "AttributeError",
     "evalue": "'function' object has no attribute 'summary'",
     "output_type": "error",
     "traceback": [
      "\u001b[1;31m---------------------------------------------------------------------------\u001b[0m",
      "\u001b[1;31mAttributeError\u001b[0m                            Traceback (most recent call last)",
      "Cell \u001b[1;32mIn[463], line 1\u001b[0m\n\u001b[1;32m----> 1\u001b[0m modelo2\u001b[38;5;241m.\u001b[39msummary()\n",
      "\u001b[1;31mAttributeError\u001b[0m: 'function' object has no attribute 'summary'"
     ]
    }
   ],
   "source": [
    "modelo2.summary()"
   ]
  },
  {
   "cell_type": "code",
   "execution_count": null,
   "metadata": {},
   "outputs": [],
   "source": []
  }
 ],
 "metadata": {
  "colab": {
   "collapsed_sections": [
    "sOLiFcaLvdiF"
   ],
   "provenance": [
    {
     "file_id": "19JIEVSHlWfuJ2ttpxDChqT6CS9SmgUOv",
     "timestamp": 1647983883034
    }
   ]
  },
  "kernelspec": {
   "display_name": "Python 3 (ipykernel)",
   "language": "python",
   "name": "python3"
  },
  "language_info": {
   "codemirror_mode": {
    "name": "ipython",
    "version": 3
   },
   "file_extension": ".py",
   "mimetype": "text/x-python",
   "name": "python",
   "nbconvert_exporter": "python",
   "pygments_lexer": "ipython3",
   "version": "3.11.7"
  }
 },
 "nbformat": 4,
 "nbformat_minor": 4
}
